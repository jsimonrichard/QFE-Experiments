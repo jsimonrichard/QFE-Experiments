{
 "cells": [
  {
   "cell_type": "code",
   "execution_count": 1,
   "metadata": {},
   "outputs": [
    {
     "name": "stderr",
     "output_type": "stream",
     "text": [
      "/home/jsimonrichard/QML_Research/QFE-Experiments/qfe_exp_venv/lib/python3.10/site-packages/tqdm/auto.py:21: TqdmWarning: IProgress not found. Please update jupyter and ipywidgets. See https://ipywidgets.readthedocs.io/en/stable/user_install.html\n",
      "  from .autonotebook import tqdm as notebook_tqdm\n"
     ]
    },
    {
     "data": {
      "text/plain": [
       "True"
      ]
     },
     "execution_count": 1,
     "metadata": {},
     "output_type": "execute_result"
    }
   ],
   "source": [
    "import os\n",
    "import optuna\n",
    "from dotenv import load_dotenv\n",
    "load_dotenv()"
   ]
  },
  {
   "cell_type": "code",
   "execution_count": 2,
   "metadata": {},
   "outputs": [
    {
     "data": {
      "text/plain": [
       "['dataset-PROTEINS/embedder-QFE-exp/fold-0',\n",
       " 'dataset-PROTEINS/embedder-QFE-probs/fold-0',\n",
       " 'dataset-PROTEINS/embedder-MLP-2^D/fold-0',\n",
       " 'dataset-PROTEINS/embedder-MLP-D/fold-0',\n",
       " 'dataset-PROTEINS/embedder-none/fold-0',\n",
       " 'dataset-PROTEINS/embedder-QFE-exp/fold-1',\n",
       " 'dataset-PROTEINS/embedder-QFE-probs/fold-1',\n",
       " 'dataset-PROTEINS/embedder-MLP-2^D/fold-1',\n",
       " 'dataset-PROTEINS/embedder-MLP-D/fold-1',\n",
       " 'dataset-PROTEINS/embedder-none/fold-1',\n",
       " 'dataset-PROTEINS/embedder-QFE-exp/fold-2',\n",
       " 'dataset-PROTEINS/embedder-QFE-probs/fold-2',\n",
       " 'dataset-PROTEINS/embedder-MLP-2^D/fold-2',\n",
       " 'dataset-PROTEINS/embedder-MLP-D/fold-2',\n",
       " 'dataset-PROTEINS/embedder-none/fold-2',\n",
       " 'dataset-PROTEINS/embedder-QFE-exp/fold-3',\n",
       " 'dataset-PROTEINS/embedder-QFE-probs/fold-3',\n",
       " 'dataset-PROTEINS/embedder-MLP-2^D/fold-3',\n",
       " 'dataset-PROTEINS/embedder-MLP-D/fold-3',\n",
       " 'dataset-PROTEINS/embedder-none/fold-3',\n",
       " 'dataset-PROTEINS/embedder-QFE-exp/fold-4',\n",
       " 'dataset-PROTEINS/embedder-QFE-probs/fold-4',\n",
       " 'dataset-PROTEINS/embedder-MLP-2^D/fold-4',\n",
       " 'dataset-PROTEINS/embedder-MLP-D/fold-4',\n",
       " 'dataset-PROTEINS/embedder-none/fold-4']"
      ]
     },
     "execution_count": 2,
     "metadata": {},
     "output_type": "execute_result"
    }
   ],
   "source": [
    "optuna.get_all_study_names(storage=os.getenv('OPTUNA_DB'))"
   ]
  },
  {
   "cell_type": "code",
   "execution_count": 3,
   "metadata": {},
   "outputs": [
    {
     "data": {
      "text/plain": [
       "[FrozenTrial(number=14, state=TrialState.COMPLETE, values=[0.6733977779172682, 0.021348314606741525, 730.0], datetime_start=datetime.datetime(2024, 5, 23, 11, 58, 58, 294074), datetime_complete=datetime.datetime(2024, 5, 23, 11, 59, 49, 611238), params={'pooling': 'sum', 'model': 'GraphSAGE', 'layers': 2, 'hidden': 56, 'dropout': 0.3580313058948699, 'lr': 0.0016670769747313794, 'weight_decay': 3.395416199763484e-05}, user_attrs={}, system_attrs={'nsga2:generation': 0}, intermediate_values={}, distributions={'pooling': CategoricalDistribution(choices=('sum', 'mean', 'max')), 'model': CategoricalDistribution(choices=('GCN', 'GraphConv', 'GraphSAGE', 'GAT')), 'layers': IntDistribution(high=16, log=False, low=1, step=1), 'hidden': IntDistribution(high=256, log=False, low=16, step=1), 'dropout': FloatDistribution(high=0.5, log=False, low=0.0, step=None), 'lr': FloatDistribution(high=0.01, log=True, low=1e-05, step=None), 'weight_decay': FloatDistribution(high=0.001, log=True, low=1e-05, step=None)}, trial_id=5260, value=None),\n",
       " FrozenTrial(number=31, state=TrialState.COMPLETE, values=[0.7184483083296718, 0.02568576988261878, 184673.0], datetime_start=datetime.datetime(2024, 5, 23, 12, 4, 26, 357064), datetime_complete=datetime.datetime(2024, 5, 23, 12, 5, 38, 543283), params={'pooling': 'max', 'model': 'GraphSAGE', 'layers': 4, 'hidden': 213, 'dropout': 0.02272719657958644, 'lr': 0.0011425832759197013, 'weight_decay': 2.0197778619881213e-05}, user_attrs={}, system_attrs={'nsga2:generation': 0}, intermediate_values={}, distributions={'pooling': CategoricalDistribution(choices=('sum', 'mean', 'max')), 'model': CategoricalDistribution(choices=('GCN', 'GraphConv', 'GraphSAGE', 'GAT')), 'layers': IntDistribution(high=16, log=False, low=1, step=1), 'hidden': IntDistribution(high=256, log=False, low=16, step=1), 'dropout': FloatDistribution(high=0.5, log=False, low=0.0, step=None), 'lr': FloatDistribution(high=0.01, log=True, low=1e-05, step=None), 'weight_decay': FloatDistribution(high=0.001, log=True, low=1e-05, step=None)}, trial_id=5277, value=None),\n",
       " FrozenTrial(number=41, state=TrialState.COMPLETE, values=[0.7428629715648736, 0.039159500345238796, 112052.0], datetime_start=datetime.datetime(2024, 5, 23, 12, 7, 4, 806685), datetime_complete=datetime.datetime(2024, 5, 23, 12, 8, 17, 87012), params={'pooling': 'max', 'model': 'GCN', 'layers': 6, 'hidden': 166, 'dropout': 0.2206078770251621, 'lr': 0.001734613470581729, 'weight_decay': 1.5905348635357757e-05}, user_attrs={}, system_attrs={'nsga2:generation': 0}, intermediate_values={}, distributions={'pooling': CategoricalDistribution(choices=('sum', 'mean', 'max')), 'model': CategoricalDistribution(choices=('GCN', 'GraphConv', 'GraphSAGE', 'GAT')), 'layers': IntDistribution(high=16, log=False, low=1, step=1), 'hidden': IntDistribution(high=256, log=False, low=16, step=1), 'dropout': FloatDistribution(high=0.5, log=False, low=0.0, step=None), 'lr': FloatDistribution(high=0.01, log=True, low=1e-05, step=None), 'weight_decay': FloatDistribution(high=0.001, log=True, low=1e-05, step=None)}, trial_id=5287, value=None),\n",
       " FrozenTrial(number=46, state=TrialState.COMPLETE, values=[0.7220607620362813, 0.01614148515472985, 1742753.0], datetime_start=datetime.datetime(2024, 5, 23, 12, 10, 18, 318181), datetime_complete=datetime.datetime(2024, 5, 23, 12, 12, 37, 556066), params={'pooling': 'max', 'model': 'GraphSAGE', 'layers': 16, 'hidden': 249, 'dropout': 0.2845962344682601, 'lr': 7.634057819436414e-05, 'weight_decay': 0.00012072363549157465}, user_attrs={}, system_attrs={'nsga2:generation': 0}, intermediate_values={}, distributions={'pooling': CategoricalDistribution(choices=('sum', 'mean', 'max')), 'model': CategoricalDistribution(choices=('GCN', 'GraphConv', 'GraphSAGE', 'GAT')), 'layers': IntDistribution(high=16, log=False, low=1, step=1), 'hidden': IntDistribution(high=256, log=False, low=16, step=1), 'dropout': FloatDistribution(high=0.5, log=False, low=0.0, step=None), 'lr': FloatDistribution(high=0.01, log=True, low=1e-05, step=None), 'weight_decay': FloatDistribution(high=0.001, log=True, low=1e-05, step=None)}, trial_id=5292, value=None),\n",
       " FrozenTrial(number=57, state=TrialState.COMPLETE, values=[0.7302272299290691, 0.029624631222145537, 17675.0], datetime_start=datetime.datetime(2024, 5, 23, 12, 13, 46, 410680), datetime_complete=datetime.datetime(2024, 5, 23, 12, 15, 0, 196219), params={'pooling': 'max', 'model': 'GCN', 'layers': 3, 'hidden': 129, 'dropout': 0.2654577414345409, 'lr': 0.003294253758174595, 'weight_decay': 0.00012506763423016982}, user_attrs={}, system_attrs={'nsga2:generation': 1}, intermediate_values={}, distributions={'pooling': CategoricalDistribution(choices=('sum', 'mean', 'max')), 'model': CategoricalDistribution(choices=('GCN', 'GraphConv', 'GraphSAGE', 'GAT')), 'layers': IntDistribution(high=16, log=False, low=1, step=1), 'hidden': IntDistribution(high=256, log=False, low=16, step=1), 'dropout': FloatDistribution(high=0.5, log=False, low=0.0, step=None), 'lr': FloatDistribution(high=0.01, log=True, low=1e-05, step=None), 'weight_decay': FloatDistribution(high=0.001, log=True, low=1e-05, step=None)}, trial_id=5303, value=None),\n",
       " FrozenTrial(number=74, state=TrialState.COMPLETE, values=[0.7404494382022472, 0.030337078651685445, 92657.0], datetime_start=datetime.datetime(2024, 5, 23, 12, 19, 14, 820611), datetime_complete=datetime.datetime(2024, 5, 23, 12, 20, 15, 341239), params={'pooling': 'max', 'model': 'GCN', 'layers': 4, 'hidden': 213, 'dropout': 0.02272719657958644, 'lr': 0.0032604733343728322, 'weight_decay': 2.0197778619881213e-05}, user_attrs={}, system_attrs={'nsga2:generation': 1}, intermediate_values={}, distributions={'pooling': CategoricalDistribution(choices=('sum', 'mean', 'max')), 'model': CategoricalDistribution(choices=('GCN', 'GraphConv', 'GraphSAGE', 'GAT')), 'layers': IntDistribution(high=16, log=False, low=1, step=1), 'hidden': IntDistribution(high=256, log=False, low=16, step=1), 'dropout': FloatDistribution(high=0.5, log=False, low=0.0, step=None), 'lr': FloatDistribution(high=0.01, log=True, low=1e-05, step=None), 'weight_decay': FloatDistribution(high=0.001, log=True, low=1e-05, step=None)}, trial_id=5320, value=None),\n",
       " FrozenTrial(number=77, state=TrialState.COMPLETE, values=[0.7083265331743143, 0.011697319691168218, 97176.0], datetime_start=datetime.datetime(2024, 5, 23, 12, 20, 10, 88023), datetime_complete=datetime.datetime(2024, 5, 23, 12, 21, 13, 849764), params={'pooling': 'max', 'model': 'GraphSAGE', 'layers': 4, 'hidden': 154, 'dropout': 0.3795999504660035, 'lr': 2.738779533532476e-05, 'weight_decay': 0.0002272043107501238}, user_attrs={}, system_attrs={'nsga2:generation': 1}, intermediate_values={}, distributions={'pooling': CategoricalDistribution(choices=('sum', 'mean', 'max')), 'model': CategoricalDistribution(choices=('GCN', 'GraphConv', 'GraphSAGE', 'GAT')), 'layers': IntDistribution(high=16, log=False, low=1, step=1), 'hidden': IntDistribution(high=256, log=False, low=16, step=1), 'dropout': FloatDistribution(high=0.5, log=False, low=0.0, step=None), 'lr': FloatDistribution(high=0.01, log=True, low=1e-05, step=None), 'weight_decay': FloatDistribution(high=0.001, log=True, low=1e-05, step=None)}, trial_id=5323, value=None),\n",
       " FrozenTrial(number=79, state=TrialState.COMPLETE, values=[0.5206703910614525, 0.07797376184796934, 10.0], datetime_start=datetime.datetime(2024, 5, 23, 12, 20, 18, 59098), datetime_complete=datetime.datetime(2024, 5, 23, 12, 21, 22, 249923), params={'pooling': 'mean', 'model': 'GCN', 'layers': 1, 'hidden': 39, 'dropout': 0.3002540450582025, 'lr': 5.873489980988648e-05, 'weight_decay': 5.078840312172419e-05}, user_attrs={}, system_attrs={'nsga2:generation': 1}, intermediate_values={}, distributions={'pooling': CategoricalDistribution(choices=('sum', 'mean', 'max')), 'model': CategoricalDistribution(choices=('GCN', 'GraphConv', 'GraphSAGE', 'GAT')), 'layers': IntDistribution(high=16, log=False, low=1, step=1), 'hidden': IntDistribution(high=256, log=False, low=16, step=1), 'dropout': FloatDistribution(high=0.5, log=False, low=0.0, step=None), 'lr': FloatDistribution(high=0.01, log=True, low=1e-05, step=None), 'weight_decay': FloatDistribution(high=0.001, log=True, low=1e-05, step=None)}, trial_id=5325, value=None),\n",
       " FrozenTrial(number=83, state=TrialState.COMPLETE, values=[0.6679775280898876, 0.01853932584269663, 1416.0], datetime_start=datetime.datetime(2024, 5, 23, 12, 21, 34, 702758), datetime_complete=datetime.datetime(2024, 5, 23, 12, 22, 37, 371416), params={'pooling': 'max', 'model': 'GCN', 'layers': 2, 'hidden': 202, 'dropout': 0.3819502239076682, 'lr': 0.0011198019846023182, 'weight_decay': 0.00035663468540544387}, user_attrs={}, system_attrs={'nsga2:generation': 1}, intermediate_values={}, distributions={'pooling': CategoricalDistribution(choices=('sum', 'mean', 'max')), 'model': CategoricalDistribution(choices=('GCN', 'GraphConv', 'GraphSAGE', 'GAT')), 'layers': IntDistribution(high=16, log=False, low=1, step=1), 'hidden': IntDistribution(high=256, log=False, low=16, step=1), 'dropout': FloatDistribution(high=0.5, log=False, low=0.0, step=None), 'lr': FloatDistribution(high=0.01, log=True, low=1e-05, step=None), 'weight_decay': FloatDistribution(high=0.001, log=True, low=1e-05, step=None)}, trial_id=5329, value=None),\n",
       " FrozenTrial(number=85, state=TrialState.COMPLETE, values=[0.6442156801205197, 0.017977528089887562, 1640.0], datetime_start=datetime.datetime(2024, 5, 23, 12, 22, 37, 408215), datetime_complete=datetime.datetime(2024, 5, 23, 12, 23, 43, 656011), params={'pooling': 'sum', 'model': 'GraphSAGE', 'layers': 2, 'hidden': 126, 'dropout': 0.3819502239076682, 'lr': 0.0011198019846023182, 'weight_decay': 0.00035663468540544387}, user_attrs={}, system_attrs={'nsga2:generation': 1}, intermediate_values={}, distributions={'pooling': CategoricalDistribution(choices=('sum', 'mean', 'max')), 'model': CategoricalDistribution(choices=('GCN', 'GraphConv', 'GraphSAGE', 'GAT')), 'layers': IntDistribution(high=16, log=False, low=1, step=1), 'hidden': IntDistribution(high=256, log=False, low=16, step=1), 'dropout': FloatDistribution(high=0.5, log=False, low=0.0, step=None), 'lr': FloatDistribution(high=0.01, log=True, low=1e-05, step=None), 'weight_decay': FloatDistribution(high=0.001, log=True, low=1e-05, step=None)}, trial_id=5331, value=None),\n",
       " FrozenTrial(number=95, state=TrialState.COMPLETE, values=[0.39247065469838677, 0.010900131818467163, 18.0], datetime_start=datetime.datetime(2024, 5, 23, 12, 25, 28, 348905), datetime_complete=datetime.datetime(2024, 5, 23, 12, 26, 31, 769578), params={'pooling': 'max', 'model': 'GraphConv', 'layers': 1, 'hidden': 86, 'dropout': 0.17787971029667876, 'lr': 1.8224477441264062e-05, 'weight_decay': 0.00012506763423016982}, user_attrs={}, system_attrs={'nsga2:generation': 1}, intermediate_values={}, distributions={'pooling': CategoricalDistribution(choices=('sum', 'mean', 'max')), 'model': CategoricalDistribution(choices=('GCN', 'GraphConv', 'GraphSAGE', 'GAT')), 'layers': IntDistribution(high=16, log=False, low=1, step=1), 'hidden': IntDistribution(high=256, log=False, low=16, step=1), 'dropout': FloatDistribution(high=0.5, log=False, low=0.0, step=None), 'lr': FloatDistribution(high=0.01, log=True, low=1e-05, step=None), 'weight_decay': FloatDistribution(high=0.001, log=True, low=1e-05, step=None)}, trial_id=5341, value=None),\n",
       " FrozenTrial(number=101, state=TrialState.COMPLETE, values=[0.7155828259368526, 0.02906597200426847, 111969.0], datetime_start=datetime.datetime(2024, 5, 23, 12, 27, 29, 491331), datetime_complete=datetime.datetime(2024, 5, 23, 12, 28, 54, 323441), params={'pooling': 'max', 'model': 'GraphSAGE', 'layers': 10, 'hidden': 83, 'dropout': 0.40908038996910323, 'lr': 0.00034854710630140853, 'weight_decay': 5.611235223719251e-05}, user_attrs={}, system_attrs={'nsga2:generation': 1}, intermediate_values={}, distributions={'pooling': CategoricalDistribution(choices=('sum', 'mean', 'max')), 'model': CategoricalDistribution(choices=('GCN', 'GraphConv', 'GraphSAGE', 'GAT')), 'layers': IntDistribution(high=16, log=False, low=1, step=1), 'hidden': IntDistribution(high=256, log=False, low=16, step=1), 'dropout': FloatDistribution(high=0.5, log=False, low=0.0, step=None), 'lr': FloatDistribution(high=0.01, log=True, low=1e-05, step=None), 'weight_decay': FloatDistribution(high=0.001, log=True, low=1e-05, step=None)}, trial_id=5347, value=None),\n",
       " FrozenTrial(number=102, state=TrialState.COMPLETE, values=[0.5195530726256983, 0.07685644341221518, 14.0], datetime_start=datetime.datetime(2024, 5, 23, 12, 28, 28, 398159), datetime_complete=datetime.datetime(2024, 5, 23, 12, 29, 50, 390715), params={'pooling': 'sum', 'model': 'GAT', 'layers': 1, 'hidden': 192, 'dropout': 0.131368901811322, 'lr': 5.873489980988648e-05, 'weight_decay': 5.078840312172419e-05}, user_attrs={}, system_attrs={'nsga2:generation': 1}, intermediate_values={}, distributions={'pooling': CategoricalDistribution(choices=('sum', 'mean', 'max')), 'model': CategoricalDistribution(choices=('GCN', 'GraphConv', 'GraphSAGE', 'GAT')), 'layers': IntDistribution(high=16, log=False, low=1, step=1), 'hidden': IntDistribution(high=256, log=False, low=16, step=1), 'dropout': FloatDistribution(high=0.5, log=False, low=0.0, step=None), 'lr': FloatDistribution(high=0.01, log=True, low=1e-05, step=None), 'weight_decay': FloatDistribution(high=0.001, log=True, low=1e-05, step=None)}, trial_id=5348, value=None),\n",
       " FrozenTrial(number=106, state=TrialState.COMPLETE, values=[0.6672242797062331, 0.018168978720733142, 905.0], datetime_start=datetime.datetime(2024, 5, 23, 12, 29, 50, 430268), datetime_complete=datetime.datetime(2024, 5, 23, 12, 30, 55, 34798), params={'pooling': 'sum', 'model': 'GCN', 'layers': 2, 'hidden': 129, 'dropout': 0.3819502239076682, 'lr': 0.0011198019846023182, 'weight_decay': 0.00012506763423016982}, user_attrs={}, system_attrs={'nsga2:generation': 2}, intermediate_values={}, distributions={'pooling': CategoricalDistribution(choices=('sum', 'mean', 'max')), 'model': CategoricalDistribution(choices=('GCN', 'GraphConv', 'GraphSAGE', 'GAT')), 'layers': IntDistribution(high=16, log=False, low=1, step=1), 'hidden': IntDistribution(high=256, log=False, low=16, step=1), 'dropout': FloatDistribution(high=0.5, log=False, low=0.0, step=None), 'lr': FloatDistribution(high=0.01, log=True, low=1e-05, step=None), 'weight_decay': FloatDistribution(high=0.001, log=True, low=1e-05, step=None)}, trial_id=5352, value=None),\n",
       " FrozenTrial(number=108, state=TrialState.COMPLETE, values=[0.7164553386479191, 0.035556462243424736, 13621.0], datetime_start=datetime.datetime(2024, 5, 23, 12, 30, 55, 79326), datetime_complete=datetime.datetime(2024, 5, 23, 12, 32, 28, 932867), params={'pooling': 'max', 'model': 'GAT', 'layers': 12, 'hidden': 35, 'dropout': 0.042903132778255304, 'lr': 0.0007752876778420954, 'weight_decay': 1.2105016455680709e-05}, user_attrs={}, system_attrs={'nsga2:generation': 2}, intermediate_values={}, distributions={'pooling': CategoricalDistribution(choices=('sum', 'mean', 'max')), 'model': CategoricalDistribution(choices=('GCN', 'GraphConv', 'GraphSAGE', 'GAT')), 'layers': IntDistribution(high=16, log=False, low=1, step=1), 'hidden': IntDistribution(high=256, log=False, low=16, step=1), 'dropout': FloatDistribution(high=0.5, log=False, low=0.0, step=None), 'lr': FloatDistribution(high=0.01, log=True, low=1e-05, step=None), 'weight_decay': FloatDistribution(high=0.001, log=True, low=1e-05, step=None)}, trial_id=5354, value=None),\n",
       " FrozenTrial(number=110, state=TrialState.COMPLETE, values=[0.597752808988764, 0.0022471910112359383, 13461.0], datetime_start=datetime.datetime(2024, 5, 23, 12, 31, 44, 819075), datetime_complete=datetime.datetime(2024, 5, 23, 12, 33, 24, 630401), params={'pooling': 'max', 'model': 'GAT', 'layers': 10, 'hidden': 39, 'dropout': 0.3002540450582025, 'lr': 5.873489980988648e-05, 'weight_decay': 5.078840312172419e-05}, user_attrs={}, system_attrs={'nsga2:generation': 2}, intermediate_values={}, distributions={'pooling': CategoricalDistribution(choices=('sum', 'mean', 'max')), 'model': CategoricalDistribution(choices=('GCN', 'GraphConv', 'GraphSAGE', 'GAT')), 'layers': IntDistribution(high=16, log=False, low=1, step=1), 'hidden': IntDistribution(high=256, log=False, low=16, step=1), 'dropout': FloatDistribution(high=0.5, log=False, low=0.0, step=None), 'lr': FloatDistribution(high=0.01, log=True, low=1e-05, step=None), 'weight_decay': FloatDistribution(high=0.001, log=True, low=1e-05, step=None)}, trial_id=5356, value=None),\n",
       " FrozenTrial(number=112, state=TrialState.COMPLETE, values=[0.6069549934090765, 0.009202184420312565, 326225.0], datetime_start=datetime.datetime(2024, 5, 23, 12, 32, 28, 973447), datetime_complete=datetime.datetime(2024, 5, 23, 12, 33, 5, 773022), params={'pooling': 'sum', 'model': 'GCN', 'layers': 10, 'hidden': 201, 'dropout': 0.48696866703054204, 'lr': 0.0033478597194746738, 'weight_decay': 0.0002272043107501238}, user_attrs={}, system_attrs={'nsga2:generation': 2}, intermediate_values={}, distributions={'pooling': CategoricalDistribution(choices=('sum', 'mean', 'max')), 'model': CategoricalDistribution(choices=('GCN', 'GraphConv', 'GraphSAGE', 'GAT')), 'layers': IntDistribution(high=16, log=False, low=1, step=1), 'hidden': IntDistribution(high=256, log=False, low=16, step=1), 'dropout': FloatDistribution(high=0.5, log=False, low=0.0, step=None), 'lr': FloatDistribution(high=0.01, log=True, low=1e-05, step=None), 'weight_decay': FloatDistribution(high=0.001, log=True, low=1e-05, step=None)}, trial_id=5358, value=None),\n",
       " FrozenTrial(number=113, state=TrialState.COMPLETE, values=[0.6079342163078275, 0.010181407319063474, 429.0], datetime_start=datetime.datetime(2024, 5, 23, 12, 32, 32, 29060), datetime_complete=datetime.datetime(2024, 5, 23, 12, 33, 36, 396182), params={'pooling': 'max', 'model': 'GCN', 'layers': 2, 'hidden': 61, 'dropout': 0.2509732582508559, 'lr': 0.00023324202179904693, 'weight_decay': 0.0008780111821128803}, user_attrs={}, system_attrs={'nsga2:generation': 2}, intermediate_values={}, distributions={'pooling': CategoricalDistribution(choices=('sum', 'mean', 'max')), 'model': CategoricalDistribution(choices=('GCN', 'GraphConv', 'GraphSAGE', 'GAT')), 'layers': IntDistribution(high=16, log=False, low=1, step=1), 'hidden': IntDistribution(high=256, log=False, low=16, step=1), 'dropout': FloatDistribution(high=0.5, log=False, low=0.0, step=None), 'lr': FloatDistribution(high=0.01, log=True, low=1e-05, step=None), 'weight_decay': FloatDistribution(high=0.001, log=True, low=1e-05, step=None)}, trial_id=5359, value=None),\n",
       " FrozenTrial(number=118, state=TrialState.COMPLETE, values=[0.7318121900696755, 0.033356349256167206, 14575.0], datetime_start=datetime.datetime(2024, 5, 23, 12, 34, 15, 562006), datetime_complete=datetime.datetime(2024, 5, 23, 12, 35, 6, 156004), params={'pooling': 'max', 'model': 'GCN', 'layers': 6, 'hidden': 59, 'dropout': 0.2206078770251621, 'lr': 0.001734613470581729, 'weight_decay': 1.5905348635357757e-05}, user_attrs={}, system_attrs={'nsga2:generation': 2}, intermediate_values={}, distributions={'pooling': CategoricalDistribution(choices=('sum', 'mean', 'max')), 'model': CategoricalDistribution(choices=('GCN', 'GraphConv', 'GraphSAGE', 'GAT')), 'layers': IntDistribution(high=16, log=False, low=1, step=1), 'hidden': IntDistribution(high=256, log=False, low=16, step=1), 'dropout': FloatDistribution(high=0.5, log=False, low=0.0, step=None), 'lr': FloatDistribution(high=0.01, log=True, low=1e-05, step=None), 'weight_decay': FloatDistribution(high=0.001, log=True, low=1e-05, step=None)}, trial_id=5364, value=None),\n",
       " FrozenTrial(number=119, state=TrialState.COMPLETE, values=[0.4680873768125039, 0.06449689285041746, 18.0], datetime_start=datetime.datetime(2024, 5, 23, 12, 34, 32, 35802), datetime_complete=datetime.datetime(2024, 5, 23, 12, 35, 26, 377462), params={'pooling': 'sum', 'model': 'GraphSAGE', 'layers': 1, 'hidden': 167, 'dropout': 0.48696866703054204, 'lr': 7.226706799175234e-05, 'weight_decay': 3.395416199763484e-05}, user_attrs={}, system_attrs={'nsga2:generation': 2}, intermediate_values={}, distributions={'pooling': CategoricalDistribution(choices=('sum', 'mean', 'max')), 'model': CategoricalDistribution(choices=('GCN', 'GraphConv', 'GraphSAGE', 'GAT')), 'layers': IntDistribution(high=16, log=False, low=1, step=1), 'hidden': IntDistribution(high=256, log=False, low=16, step=1), 'dropout': FloatDistribution(high=0.5, log=False, low=0.0, step=None), 'lr': FloatDistribution(high=0.01, log=True, low=1e-05, step=None), 'weight_decay': FloatDistribution(high=0.001, log=True, low=1e-05, step=None)}, trial_id=5365, value=None),\n",
       " FrozenTrial(number=122, state=TrialState.COMPLETE, values=[0.6949438202247191, 0.01067415730337079, 1679.0], datetime_start=datetime.datetime(2024, 5, 23, 12, 35, 6, 204501), datetime_complete=datetime.datetime(2024, 5, 23, 12, 36, 11, 665937), params={'pooling': 'max', 'model': 'GraphSAGE', 'layers': 2, 'hidden': 129, 'dropout': 0.131368901811322, 'lr': 0.00017668535167121447, 'weight_decay': 2.0197778619881213e-05}, user_attrs={}, system_attrs={'nsga2:generation': 2}, intermediate_values={}, distributions={'pooling': CategoricalDistribution(choices=('sum', 'mean', 'max')), 'model': CategoricalDistribution(choices=('GCN', 'GraphConv', 'GraphSAGE', 'GAT')), 'layers': IntDistribution(high=16, log=False, low=1, step=1), 'hidden': IntDistribution(high=256, log=False, low=16, step=1), 'dropout': FloatDistribution(high=0.5, log=False, low=0.0, step=None), 'lr': FloatDistribution(high=0.01, log=True, low=1e-05, step=None), 'weight_decay': FloatDistribution(high=0.001, log=True, low=1e-05, step=None)}, trial_id=5368, value=None),\n",
       " FrozenTrial(number=124, state=TrialState.COMPLETE, values=[0.6870786516853933, 0.028651685393258408, 1126.0], datetime_start=datetime.datetime(2024, 5, 23, 12, 36, 2, 744062), datetime_complete=datetime.datetime(2024, 5, 23, 12, 37, 18, 788054), params={'pooling': 'max', 'model': 'GAT', 'layers': 3, 'hidden': 28, 'dropout': 0.3458995720950345, 'lr': 0.004168547612134959, 'weight_decay': 6.132673138916684e-05}, user_attrs={}, system_attrs={'nsga2:generation': 2}, intermediate_values={}, distributions={'pooling': CategoricalDistribution(choices=('sum', 'mean', 'max')), 'model': CategoricalDistribution(choices=('GCN', 'GraphConv', 'GraphSAGE', 'GAT')), 'layers': IntDistribution(high=16, log=False, low=1, step=1), 'hidden': IntDistribution(high=256, log=False, low=16, step=1), 'dropout': FloatDistribution(high=0.5, log=False, low=0.0, step=None), 'lr': FloatDistribution(high=0.01, log=True, low=1e-05, step=None), 'weight_decay': FloatDistribution(high=0.001, log=True, low=1e-05, step=None)}, trial_id=5370, value=None),\n",
       " FrozenTrial(number=130, state=TrialState.COMPLETE, values=[0.5201085933086436, 0.07741196409516038, 10.0], datetime_start=datetime.datetime(2024, 5, 23, 12, 38, 1, 699034), datetime_complete=datetime.datetime(2024, 5, 23, 12, 38, 58, 936421), params={'pooling': 'max', 'model': 'GCN', 'layers': 1, 'hidden': 192, 'dropout': 0.131368901811322, 'lr': 2.9587595953952443e-05, 'weight_decay': 5.078840312172419e-05}, user_attrs={}, system_attrs={'nsga2:generation': 2}, intermediate_values={}, distributions={'pooling': CategoricalDistribution(choices=('sum', 'mean', 'max')), 'model': CategoricalDistribution(choices=('GCN', 'GraphConv', 'GraphSAGE', 'GAT')), 'layers': IntDistribution(high=16, log=False, low=1, step=1), 'hidden': IntDistribution(high=256, log=False, low=16, step=1), 'dropout': FloatDistribution(high=0.5, log=False, low=0.0, step=None), 'lr': FloatDistribution(high=0.01, log=True, low=1e-05, step=None), 'weight_decay': FloatDistribution(high=0.001, log=True, low=1e-05, step=None)}, trial_id=5376, value=None),\n",
       " FrozenTrial(number=147, state=TrialState.COMPLETE, values=[0.6038164584771828, 0.008310840499654748, 135065.0], datetime_start=datetime.datetime(2024, 5, 23, 12, 43, 27, 47934), datetime_complete=datetime.datetime(2024, 5, 23, 12, 45, 6, 924030), params={'pooling': 'max', 'model': 'GCN', 'layers': 10, 'hidden': 129, 'dropout': 0.4042368849574701, 'lr': 2.9587595953952443e-05, 'weight_decay': 0.00012506763423016982}, user_attrs={}, system_attrs={'nsga2:generation': 2}, intermediate_values={}, distributions={'pooling': CategoricalDistribution(choices=('sum', 'mean', 'max')), 'model': CategoricalDistribution(choices=('GCN', 'GraphConv', 'GraphSAGE', 'GAT')), 'layers': IntDistribution(high=16, log=False, low=1, step=1), 'hidden': IntDistribution(high=256, log=False, low=16, step=1), 'dropout': FloatDistribution(high=0.5, log=False, low=0.0, step=None), 'lr': FloatDistribution(high=0.01, log=True, low=1e-05, step=None), 'weight_decay': FloatDistribution(high=0.001, log=True, low=1e-05, step=None)}, trial_id=5393, value=None),\n",
       " FrozenTrial(number=151, state=TrialState.COMPLETE, values=[0.6045728453957693, 0.009067227418241175, 43357.0], datetime_start=datetime.datetime(2024, 5, 23, 12, 44, 53, 566645), datetime_complete=datetime.datetime(2024, 5, 23, 12, 46, 7, 4396), params={'pooling': 'max', 'model': 'GCN', 'layers': 4, 'hidden': 145, 'dropout': 0.2509732582508559, 'lr': 2.738779533532476e-05, 'weight_decay': 7.537409796948517e-05}, user_attrs={}, system_attrs={'nsga2:generation': 2}, intermediate_values={}, distributions={'pooling': CategoricalDistribution(choices=('sum', 'mean', 'max')), 'model': CategoricalDistribution(choices=('GCN', 'GraphConv', 'GraphSAGE', 'GAT')), 'layers': IntDistribution(high=16, log=False, low=1, step=1), 'hidden': IntDistribution(high=256, log=False, low=16, step=1), 'dropout': FloatDistribution(high=0.5, log=False, low=0.0, step=None), 'lr': FloatDistribution(high=0.01, log=True, low=1e-05, step=None), 'weight_decay': FloatDistribution(high=0.001, log=True, low=1e-05, step=None)}, trial_id=5397, value=None),\n",
       " FrozenTrial(number=159, state=TrialState.COMPLETE, values=[0.5217877094972068, 0.07909108028372352, 10.0], datetime_start=datetime.datetime(2024, 5, 23, 12, 46, 41, 133), datetime_complete=datetime.datetime(2024, 5, 23, 12, 47, 36, 721293), params={'pooling': 'sum', 'model': 'GCN', 'layers': 1, 'hidden': 192, 'dropout': 0.31295010933780354, 'lr': 5.873489980988648e-05, 'weight_decay': 1.7394443022885548e-05}, user_attrs={}, system_attrs={'nsga2:generation': 3}, intermediate_values={}, distributions={'pooling': CategoricalDistribution(choices=('sum', 'mean', 'max')), 'model': CategoricalDistribution(choices=('GCN', 'GraphConv', 'GraphSAGE', 'GAT')), 'layers': IntDistribution(high=16, log=False, low=1, step=1), 'hidden': IntDistribution(high=256, log=False, low=16, step=1), 'dropout': FloatDistribution(high=0.5, log=False, low=0.0, step=None), 'lr': FloatDistribution(high=0.01, log=True, low=1e-05, step=None), 'weight_decay': FloatDistribution(high=0.001, log=True, low=1e-05, step=None)}, trial_id=5405, value=None),\n",
       " FrozenTrial(number=161, state=TrialState.COMPLETE, values=[0.5201085933086436, 0.07741196409516038, 10.0], datetime_start=datetime.datetime(2024, 5, 23, 12, 47, 7, 113423), datetime_complete=datetime.datetime(2024, 5, 23, 12, 47, 57, 526420), params={'pooling': 'max', 'model': 'GCN', 'layers': 1, 'hidden': 39, 'dropout': 0.3002540450582025, 'lr': 5.873489980988648e-05, 'weight_decay': 6.132673138916684e-05}, user_attrs={}, system_attrs={'nsga2:generation': 3}, intermediate_values={}, distributions={'pooling': CategoricalDistribution(choices=('sum', 'mean', 'max')), 'model': CategoricalDistribution(choices=('GCN', 'GraphConv', 'GraphSAGE', 'GAT')), 'layers': IntDistribution(high=16, log=False, low=1, step=1), 'hidden': IntDistribution(high=256, log=False, low=16, step=1), 'dropout': FloatDistribution(high=0.5, log=False, low=0.0, step=None), 'lr': FloatDistribution(high=0.01, log=True, low=1e-05, step=None), 'weight_decay': FloatDistribution(high=0.001, log=True, low=1e-05, step=None)}, trial_id=5407, value=None),\n",
       " FrozenTrial(number=164, state=TrialState.COMPLETE, values=[0.6417770384784383, 0.017773523319314533, 366.0], datetime_start=datetime.datetime(2024, 5, 23, 12, 47, 57, 10135), datetime_complete=datetime.datetime(2024, 5, 23, 12, 48, 39, 372120), params={'pooling': 'max', 'model': 'GraphConv', 'layers': 2, 'hidden': 28, 'dropout': 0.131368901811322, 'lr': 0.004168547612134959, 'weight_decay': 1.2105016455680709e-05}, user_attrs={}, system_attrs={'nsga2:generation': 3}, intermediate_values={}, distributions={'pooling': CategoricalDistribution(choices=('sum', 'mean', 'max')), 'model': CategoricalDistribution(choices=('GCN', 'GraphConv', 'GraphSAGE', 'GAT')), 'layers': IntDistribution(high=16, log=False, low=1, step=1), 'hidden': IntDistribution(high=256, log=False, low=16, step=1), 'dropout': FloatDistribution(high=0.5, log=False, low=0.0, step=None), 'lr': FloatDistribution(high=0.01, log=True, low=1e-05, step=None), 'weight_decay': FloatDistribution(high=0.001, log=True, low=1e-05, step=None)}, trial_id=5410, value=None),\n",
       " FrozenTrial(number=168, state=TrialState.COMPLETE, values=[0.5201085933086436, 0.07741196409516038, 10.0], datetime_start=datetime.datetime(2024, 5, 23, 12, 48, 39, 420186), datetime_complete=datetime.datetime(2024, 5, 23, 12, 49, 39, 746955), params={'pooling': 'max', 'model': 'GCN', 'layers': 1, 'hidden': 39, 'dropout': 0.3002540450582025, 'lr': 5.873489980988648e-05, 'weight_decay': 9.073779469165414e-05}, user_attrs={}, system_attrs={'nsga2:generation': 3}, intermediate_values={}, distributions={'pooling': CategoricalDistribution(choices=('sum', 'mean', 'max')), 'model': CategoricalDistribution(choices=('GCN', 'GraphConv', 'GraphSAGE', 'GAT')), 'layers': IntDistribution(high=16, log=False, low=1, step=1), 'hidden': IntDistribution(high=256, log=False, low=16, step=1), 'dropout': FloatDistribution(high=0.5, log=False, low=0.0, step=None), 'lr': FloatDistribution(high=0.01, log=True, low=1e-05, step=None), 'weight_decay': FloatDistribution(high=0.001, log=True, low=1e-05, step=None)}, trial_id=5414, value=None),\n",
       " FrozenTrial(number=172, state=TrialState.COMPLETE, values=[0.5195530726256983, 0.07685644341221518, 14.0], datetime_start=datetime.datetime(2024, 5, 23, 12, 49, 39, 787040), datetime_complete=datetime.datetime(2024, 5, 23, 12, 50, 45, 969940), params={'pooling': 'sum', 'model': 'GAT', 'layers': 1, 'hidden': 192, 'dropout': 0.018497273560558913, 'lr': 5.873489980988648e-05, 'weight_decay': 5.078840312172419e-05}, user_attrs={}, system_attrs={'nsga2:generation': 3}, intermediate_values={}, distributions={'pooling': CategoricalDistribution(choices=('sum', 'mean', 'max')), 'model': CategoricalDistribution(choices=('GCN', 'GraphConv', 'GraphSAGE', 'GAT')), 'layers': IntDistribution(high=16, log=False, low=1, step=1), 'hidden': IntDistribution(high=256, log=False, low=16, step=1), 'dropout': FloatDistribution(high=0.5, log=False, low=0.0, step=None), 'lr': FloatDistribution(high=0.01, log=True, low=1e-05, step=None), 'weight_decay': FloatDistribution(high=0.001, log=True, low=1e-05, step=None)}, trial_id=5418, value=None),\n",
       " FrozenTrial(number=181, state=TrialState.COMPLETE, values=[0.6971753185612957, 0.044761785198669246, 1493.0], datetime_start=datetime.datetime(2024, 5, 23, 12, 52, 17, 933297), datetime_complete=datetime.datetime(2024, 5, 23, 12, 53, 7, 988120), params={'pooling': 'max', 'model': 'GCN', 'layers': 2, 'hidden': 213, 'dropout': 0.131368901811322, 'lr': 0.0032604733343728322, 'weight_decay': 2.0197778619881213e-05}, user_attrs={}, system_attrs={'nsga2:generation': 3}, intermediate_values={}, distributions={'pooling': CategoricalDistribution(choices=('sum', 'mean', 'max')), 'model': CategoricalDistribution(choices=('GCN', 'GraphConv', 'GraphSAGE', 'GAT')), 'layers': IntDistribution(high=16, log=False, low=1, step=1), 'hidden': IntDistribution(high=256, log=False, low=16, step=1), 'dropout': FloatDistribution(high=0.5, log=False, low=0.0, step=None), 'lr': FloatDistribution(high=0.01, log=True, low=1e-05, step=None), 'weight_decay': FloatDistribution(high=0.001, log=True, low=1e-05, step=None)}, trial_id=5427, value=None),\n",
       " FrozenTrial(number=182, state=TrialState.COMPLETE, values=[0.7429979285669448, 0.04606741573033707, 174127.0], datetime_start=datetime.datetime(2024, 5, 23, 12, 52, 36, 897371), datetime_complete=datetime.datetime(2024, 5, 23, 12, 54, 2, 265078), params={'pooling': 'max', 'model': 'GCN', 'layers': 13, 'hidden': 125, 'dropout': 0.2509732582508559, 'lr': 0.00023324202179904693, 'weight_decay': 7.537409796948517e-05}, user_attrs={}, system_attrs={'nsga2:generation': 3}, intermediate_values={}, distributions={'pooling': CategoricalDistribution(choices=('sum', 'mean', 'max')), 'model': CategoricalDistribution(choices=('GCN', 'GraphConv', 'GraphSAGE', 'GAT')), 'layers': IntDistribution(high=16, log=False, low=1, step=1), 'hidden': IntDistribution(high=256, log=False, low=16, step=1), 'dropout': FloatDistribution(high=0.5, log=False, low=0.0, step=None), 'lr': FloatDistribution(high=0.01, log=True, low=1e-05, step=None), 'weight_decay': FloatDistribution(high=0.001, log=True, low=1e-05, step=None)}, trial_id=5428, value=None),\n",
       " FrozenTrial(number=183, state=TrialState.COMPLETE, values=[0.5206703910614525, 0.07797376184796934, 10.0], datetime_start=datetime.datetime(2024, 5, 23, 12, 52, 54, 157415), datetime_complete=datetime.datetime(2024, 5, 23, 12, 53, 52, 715373), params={'pooling': 'sum', 'model': 'GCN', 'layers': 1, 'hidden': 192, 'dropout': 0.35527846175211264, 'lr': 2.9587595953952443e-05, 'weight_decay': 5.078840312172419e-05}, user_attrs={}, system_attrs={'nsga2:generation': 3}, intermediate_values={}, distributions={'pooling': CategoricalDistribution(choices=('sum', 'mean', 'max')), 'model': CategoricalDistribution(choices=('GCN', 'GraphConv', 'GraphSAGE', 'GAT')), 'layers': IntDistribution(high=16, log=False, low=1, step=1), 'hidden': IntDistribution(high=256, log=False, low=16, step=1), 'dropout': FloatDistribution(high=0.5, log=False, low=0.0, step=None), 'lr': FloatDistribution(high=0.01, log=True, low=1e-05, step=None), 'weight_decay': FloatDistribution(high=0.001, log=True, low=1e-05, step=None)}, trial_id=5429, value=None),\n",
       " FrozenTrial(number=186, state=TrialState.COMPLETE, values=[0.4680873768125039, 0.06449689285041746, 18.0], datetime_start=datetime.datetime(2024, 5, 23, 12, 53, 52, 758071), datetime_complete=datetime.datetime(2024, 5, 23, 12, 54, 47, 85963), params={'pooling': 'sum', 'model': 'GraphConv', 'layers': 1, 'hidden': 192, 'dropout': 0.10483994013594095, 'lr': 5.873489980988648e-05, 'weight_decay': 5.078840312172419e-05}, user_attrs={}, system_attrs={'nsga2:generation': 3}, intermediate_values={}, distributions={'pooling': CategoricalDistribution(choices=('sum', 'mean', 'max')), 'model': CategoricalDistribution(choices=('GCN', 'GraphConv', 'GraphSAGE', 'GAT')), 'layers': IntDistribution(high=16, log=False, low=1, step=1), 'hidden': IntDistribution(high=256, log=False, low=16, step=1), 'dropout': FloatDistribution(high=0.5, log=False, low=0.0, step=None), 'lr': FloatDistribution(high=0.01, log=True, low=1e-05, step=None), 'weight_decay': FloatDistribution(high=0.001, log=True, low=1e-05, step=None)}, trial_id=5432, value=None),\n",
       " FrozenTrial(number=187, state=TrialState.COMPLETE, values=[0.5206703910614525, 0.07797376184796934, 10.0], datetime_start=datetime.datetime(2024, 5, 23, 12, 54, 2, 307200), datetime_complete=datetime.datetime(2024, 5, 23, 12, 54, 59, 168576), params={'pooling': 'sum', 'model': 'GCN', 'layers': 1, 'hidden': 61, 'dropout': 0.17787971029667876, 'lr': 3.694441008497883e-05, 'weight_decay': 0.0005016334056776034}, user_attrs={}, system_attrs={'nsga2:generation': 3}, intermediate_values={}, distributions={'pooling': CategoricalDistribution(choices=('sum', 'mean', 'max')), 'model': CategoricalDistribution(choices=('GCN', 'GraphConv', 'GraphSAGE', 'GAT')), 'layers': IntDistribution(high=16, log=False, low=1, step=1), 'hidden': IntDistribution(high=256, log=False, low=16, step=1), 'dropout': FloatDistribution(high=0.5, log=False, low=0.0, step=None), 'lr': FloatDistribution(high=0.01, log=True, low=1e-05, step=None), 'weight_decay': FloatDistribution(high=0.001, log=True, low=1e-05, step=None)}, trial_id=5433, value=None),\n",
       " FrozenTrial(number=188, state=TrialState.COMPLETE, values=[0.5978595191764484, 0.0023539011989203162, 248746.0], datetime_start=datetime.datetime(2024, 5, 23, 12, 54, 8, 192920), datetime_complete=datetime.datetime(2024, 5, 23, 12, 55, 54, 524219), params={'pooling': 'mean', 'model': 'GCN', 'layers': 6, 'hidden': 248, 'dropout': 0.48696866703054204, 'lr': 1.8501167813053236e-05, 'weight_decay': 1.5905348635357757e-05}, user_attrs={}, system_attrs={'nsga2:generation': 3}, intermediate_values={}, distributions={'pooling': CategoricalDistribution(choices=('sum', 'mean', 'max')), 'model': CategoricalDistribution(choices=('GCN', 'GraphConv', 'GraphSAGE', 'GAT')), 'layers': IntDistribution(high=16, log=False, low=1, step=1), 'hidden': IntDistribution(high=256, log=False, low=16, step=1), 'dropout': FloatDistribution(high=0.5, log=False, low=0.0, step=None), 'lr': FloatDistribution(high=0.01, log=True, low=1e-05, step=None), 'weight_decay': FloatDistribution(high=0.001, log=True, low=1e-05, step=None)}, trial_id=5434, value=None),\n",
       " FrozenTrial(number=190, state=TrialState.COMPLETE, values=[0.716019082292386, 0.01714267779800388, 561623.0], datetime_start=datetime.datetime(2024, 5, 23, 12, 54, 47, 136091), datetime_complete=datetime.datetime(2024, 5, 23, 12, 57, 6, 596955), params={'pooling': 'max', 'model': 'GraphSAGE', 'layers': 12, 'hidden': 167, 'dropout': 0.35527846175211264, 'lr': 3.694441008497883e-05, 'weight_decay': 0.0005016334056776034}, user_attrs={}, system_attrs={'nsga2:generation': 3}, intermediate_values={}, distributions={'pooling': CategoricalDistribution(choices=('sum', 'mean', 'max')), 'model': CategoricalDistribution(choices=('GCN', 'GraphConv', 'GraphSAGE', 'GAT')), 'layers': IntDistribution(high=16, log=False, low=1, step=1), 'hidden': IntDistribution(high=256, log=False, low=16, step=1), 'dropout': FloatDistribution(high=0.5, log=False, low=0.0, step=None), 'lr': FloatDistribution(high=0.01, log=True, low=1e-05, step=None), 'weight_decay': FloatDistribution(high=0.001, log=True, low=1e-05, step=None)}, trial_id=5436, value=None),\n",
       " FrozenTrial(number=192, state=TrialState.COMPLETE, values=[0.5961835415228172, 0.0006779235452890053, 6909.0], datetime_start=datetime.datetime(2024, 5, 23, 12, 55, 5, 266330), datetime_complete=datetime.datetime(2024, 5, 23, 12, 57, 13, 746692), params={'pooling': 'max', 'model': 'GAT', 'layers': 6, 'hidden': 39, 'dropout': 0.09668686736156418, 'lr': 3.694441008497883e-05, 'weight_decay': 0.0005016334056776034}, user_attrs={}, system_attrs={'nsga2:generation': 3}, intermediate_values={}, distributions={'pooling': CategoricalDistribution(choices=('sum', 'mean', 'max')), 'model': CategoricalDistribution(choices=('GCN', 'GraphConv', 'GraphSAGE', 'GAT')), 'layers': IntDistribution(high=16, log=False, low=1, step=1), 'hidden': IntDistribution(high=256, log=False, low=16, step=1), 'dropout': FloatDistribution(high=0.5, log=False, low=0.0, step=None), 'lr': FloatDistribution(high=0.01, log=True, low=1e-05, step=None), 'weight_decay': FloatDistribution(high=0.001, log=True, low=1e-05, step=None)}, trial_id=5438, value=None),\n",
       " FrozenTrial(number=194, state=TrialState.COMPLETE, values=[0.5206703910614525, 0.07797376184796934, 10.0], datetime_start=datetime.datetime(2024, 5, 23, 12, 57, 6, 649475), datetime_complete=datetime.datetime(2024, 5, 23, 12, 58, 15, 232634), params={'pooling': 'mean', 'model': 'GCN', 'layers': 1, 'hidden': 39, 'dropout': 0.3002540450582025, 'lr': 5.873489980988648e-05, 'weight_decay': 9.745284724391313e-05}, user_attrs={}, system_attrs={'nsga2:generation': 3}, intermediate_values={}, distributions={'pooling': CategoricalDistribution(choices=('sum', 'mean', 'max')), 'model': CategoricalDistribution(choices=('GCN', 'GraphConv', 'GraphSAGE', 'GAT')), 'layers': IntDistribution(high=16, log=False, low=1, step=1), 'hidden': IntDistribution(high=256, log=False, low=16, step=1), 'dropout': FloatDistribution(high=0.5, log=False, low=0.0, step=None), 'lr': FloatDistribution(high=0.01, log=True, low=1e-05, step=None), 'weight_decay': FloatDistribution(high=0.001, log=True, low=1e-05, step=None)}, trial_id=5440, value=None),\n",
       " FrozenTrial(number=196, state=TrialState.COMPLETE, values=[0.5195530726256983, 0.07685644341221518, 14.0], datetime_start=datetime.datetime(2024, 5, 23, 12, 57, 36, 220602), datetime_complete=datetime.datetime(2024, 5, 23, 12, 58, 40, 207397), params={'pooling': 'sum', 'model': 'GAT', 'layers': 1, 'hidden': 106, 'dropout': 0.3002540450582025, 'lr': 5.873489980988648e-05, 'weight_decay': 1.2987399618484287e-05}, user_attrs={}, system_attrs={'nsga2:generation': 3}, intermediate_values={}, distributions={'pooling': CategoricalDistribution(choices=('sum', 'mean', 'max')), 'model': CategoricalDistribution(choices=('GCN', 'GraphConv', 'GraphSAGE', 'GAT')), 'layers': IntDistribution(high=16, log=False, low=1, step=1), 'hidden': IntDistribution(high=256, log=False, low=16, step=1), 'dropout': FloatDistribution(high=0.5, log=False, low=0.0, step=None), 'lr': FloatDistribution(high=0.01, log=True, low=1e-05, step=None), 'weight_decay': FloatDistribution(high=0.001, log=True, low=1e-05, step=None)}, trial_id=5442, value=None),\n",
       " FrozenTrial(number=201, state=TrialState.COMPLETE, values=[0.7084269662921348, 0.021910112359550593, 91041.0], datetime_start=datetime.datetime(2024, 5, 23, 12, 58, 56, 266305), datetime_complete=datetime.datetime(2024, 5, 23, 12, 59, 51, 74055), params={'pooling': 'max', 'model': 'GraphSAGE', 'layers': 4, 'hidden': 149, 'dropout': 0.3819502239076682, 'lr': 2.738779533532476e-05, 'weight_decay': 0.0002272043107501238}, user_attrs={}, system_attrs={'nsga2:generation': 3}, intermediate_values={}, distributions={'pooling': CategoricalDistribution(choices=('sum', 'mean', 'max')), 'model': CategoricalDistribution(choices=('GCN', 'GraphConv', 'GraphSAGE', 'GAT')), 'layers': IntDistribution(high=16, log=False, low=1, step=1), 'hidden': IntDistribution(high=256, log=False, low=16, step=1), 'dropout': FloatDistribution(high=0.5, log=False, low=0.0, step=None), 'lr': FloatDistribution(high=0.01, log=True, low=1e-05, step=None), 'weight_decay': FloatDistribution(high=0.001, log=True, low=1e-05, step=None)}, trial_id=5447, value=None),\n",
       " FrozenTrial(number=202, state=TrialState.COMPLETE, values=[0.55561797752809, 0.10056179775280905, 10.0], datetime_start=datetime.datetime(2024, 5, 23, 12, 59, 3, 703241), datetime_complete=datetime.datetime(2024, 5, 23, 12, 59, 53, 950499), params={'pooling': 'max', 'model': 'GCN', 'layers': 1, 'hidden': 192, 'dropout': 0.13717884523254487, 'lr': 0.0019759026310723696, 'weight_decay': 5.078840312172419e-05}, user_attrs={}, system_attrs={'nsga2:generation': 3}, intermediate_values={}, distributions={'pooling': CategoricalDistribution(choices=('sum', 'mean', 'max')), 'model': CategoricalDistribution(choices=('GCN', 'GraphConv', 'GraphSAGE', 'GAT')), 'layers': IntDistribution(high=16, log=False, low=1, step=1), 'hidden': IntDistribution(high=256, log=False, low=16, step=1), 'dropout': FloatDistribution(high=0.5, log=False, low=0.0, step=None), 'lr': FloatDistribution(high=0.01, log=True, low=1e-05, step=None), 'weight_decay': FloatDistribution(high=0.001, log=True, low=1e-05, step=None)}, trial_id=5448, value=None)]"
      ]
     },
     "execution_count": 3,
     "metadata": {},
     "output_type": "execute_result"
    }
   ],
   "source": [
    "study = optuna.load_study(study_name=\"dataset-PROTEINS/embedder-none/fold-4\", storage=os.getenv('OPTUNA_DB'))\n",
    "study.best_trials"
   ]
  },
  {
   "cell_type": "code",
   "execution_count": 4,
   "metadata": {},
   "outputs": [],
   "source": [
    "from optuna.visualization import plot_pareto_front"
   ]
  },
  {
   "cell_type": "code",
   "execution_count": 5,
   "metadata": {},
   "outputs": [
    {
     "data": {
      "application/vnd.plotly.v1+json": {
       "config": {
        "plotlyServerURL": "https://plot.ly"
       },
       "data": [
        {
         "hovertemplate": "%{text}<extra>Trial</extra>",
         "marker": {
          "color": [
           0,
           1,
           2,
           3,
           4,
           5,
           6,
           7,
           8,
           9,
           10,
           11,
           12,
           13,
           15,
           16,
           17,
           18,
           19,
           20,
           21,
           22,
           23,
           24,
           25,
           26,
           27,
           28,
           29,
           30,
           32,
           33,
           34,
           35,
           36,
           37,
           38,
           39,
           40,
           42,
           43,
           44,
           45,
           47,
           48,
           49,
           50,
           51,
           52,
           53,
           54,
           55,
           56,
           58,
           59,
           60,
           61,
           62,
           63,
           64,
           65,
           66,
           67,
           68,
           69,
           70,
           71,
           72,
           73,
           75,
           76,
           78,
           80,
           81,
           82,
           84,
           86,
           87,
           88,
           89,
           90,
           91,
           92,
           93,
           94,
           96,
           97,
           98,
           99,
           100,
           103,
           104,
           105,
           107,
           109,
           111,
           114,
           115,
           116,
           117,
           120,
           121,
           123,
           125,
           126,
           127,
           128,
           129,
           131,
           132,
           133,
           134,
           135,
           136,
           137,
           138,
           139,
           140,
           141,
           142,
           143,
           144,
           145,
           146,
           148,
           149,
           150,
           152,
           153,
           154,
           155,
           156,
           157,
           158,
           160,
           162,
           163,
           165,
           166,
           167,
           169,
           170,
           171,
           173,
           174,
           175,
           176,
           177,
           178,
           179,
           180,
           184,
           185,
           189,
           191,
           193,
           195,
           197,
           198,
           199,
           200
          ],
          "colorbar": {
           "title": {
            "text": "Trial"
           }
          },
          "colorscale": [
           [
            0,
            "rgb(247,251,255)"
           ],
           [
            0.125,
            "rgb(222,235,247)"
           ],
           [
            0.25,
            "rgb(198,219,239)"
           ],
           [
            0.375,
            "rgb(158,202,225)"
           ],
           [
            0.5,
            "rgb(107,174,214)"
           ],
           [
            0.625,
            "rgb(66,146,198)"
           ],
           [
            0.75,
            "rgb(33,113,181)"
           ],
           [
            0.875,
            "rgb(8,81,156)"
           ],
           [
            1,
            "rgb(8,48,107)"
           ]
          ],
          "line": {
           "color": "Grey",
           "width": 0.5
          }
         },
         "mode": "markers",
         "showlegend": false,
         "text": [
          "{<br>  \"number\": 0,<br>  \"values\": [<br>    0.6919371037599649,<br>    0.026040424329922818,<br>    37928.0<br>  ],<br>  \"params\": {<br>    \"pooling\": \"sum\",<br>    \"model\": \"GAT\",<br>    \"layers\": 4,<br>    \"hidden\": 134,<br>    \"dropout\": 0.07623466475263835,<br>    \"lr\": 0.0014841694253940089,<br>    \"weight_decay\": 2.0891410155669506e-05<br>  }<br>}",
          "{<br>  \"number\": 1,<br>  \"values\": [<br>    0.6110162576109472,<br>    0.011907601531605028,<br>    58448.0<br>  ],<br>  \"params\": {<br>    \"pooling\": \"sum\",<br>    \"model\": \"GraphSAGE\",<br>    \"layers\": 13,<br>    \"hidden\": 51,<br>    \"dropout\": 0.19039545635019806,<br>    \"lr\": 4.7664178327508166e-05,<br>    \"weight_decay\": 3.1058902088110604e-05<br>  }<br>}",
          "{<br>  \"number\": 2,<br>  \"values\": [<br>    0.5961835415228172,<br>    0.0006779235452890053,<br>    105680.0<br>  ],<br>  \"params\": {<br>    \"pooling\": \"max\",<br>    \"model\": \"GCN\",<br>    \"layers\": 10,<br>    \"hidden\": 114,<br>    \"dropout\": 0.45877884347343084,<br>    \"lr\": 1.8501167813053236e-05,<br>    \"weight_decay\": 0.00037131177992384695<br>  }<br>}",
          "{<br>  \"number\": 3,<br>  \"values\": [<br>    0.6375368777854498,<br>    0.03324963906848283,<br>    1824.0<br>  ],<br>  \"params\": {<br>    \"pooling\": \"mean\",<br>    \"model\": \"GAT\",<br>    \"layers\": 2,<br>    \"hidden\": 202,<br>    \"dropout\": 0.3819502239076682,<br>    \"lr\": 0.0011198019846023182,<br>    \"weight_decay\": 0.00035663468540544387<br>  }<br>}",
          "{<br>  \"number\": 4,<br>  \"values\": [<br>    0.6305222522126672,<br>    0.035016634235139066,<br>    198226.0<br>  ],<br>  \"params\": {<br>    \"pooling\": \"sum\",<br>    \"model\": \"GAT\",<br>    \"layers\": 6,<br>    \"hidden\": 220,<br>    \"dropout\": 0.3058762238869993,<br>    \"lr\": 1.7672206647003545e-05,<br>    \"weight_decay\": 0.00010679081559623519<br>  }<br>}",
          "{<br>  \"number\": 5,<br>  \"values\": [<br>    0.6178362940179525,<br>    0.028651685393258408,<br>    2173.0<br>  ],<br>  \"params\": {<br>    \"pooling\": \"sum\",<br>    \"model\": \"GraphSAGE\",<br>    \"layers\": 2,<br>    \"hidden\": 167,<br>    \"dropout\": 0.2618308985998364,<br>    \"lr\": 0.000223285121213362,<br>    \"weight_decay\": 0.00069335056342975<br>  }<br>}",
          "{<br>  \"number\": 6,<br>  \"values\": [<br>    0.6587408197853242,<br>    0.044134078212290484,<br>    8635.0<br>  ],<br>  \"params\": {<br>    \"pooling\": \"max\",<br>    \"model\": \"GCN\",<br>    \"layers\": 3,<br>    \"hidden\": 89,<br>    \"dropout\": 0.2654577414345409,<br>    \"lr\": 0.003294253758174595,<br>    \"weight_decay\": 6.355757818609515e-05<br>  }<br>}",
          "{<br>  \"number\": 7,<br>  \"values\": [<br>    0.5541585587847593,<br>    0.07280773335007226,<br>    214283.0<br>  ],<br>  \"params\": {<br>    \"pooling\": \"sum\",<br>    \"model\": \"GraphConv\",<br>    \"layers\": 16,<br>    \"hidden\": 87,<br>    \"dropout\": 0.020158729111325435,<br>    \"lr\": 0.00015457073581374054,<br>    \"weight_decay\": 0.00021121209064491227<br>  }<br>}",
          "{<br>  \"number\": 8,<br>  \"values\": [<br>    0.6443820224719101,<br>    0.021910112359550593,<br>    4164.0<br>  ],<br>  \"params\": {<br>    \"pooling\": \"max\",<br>    \"model\": \"GAT\",<br>    \"layers\": 4,<br>    \"hidden\": 42,<br>    \"dropout\": 0.28387915364473787,<br>    \"lr\": 0.0005110755011256676,<br>    \"weight_decay\": 8.408841818813921e-05<br>  }<br>}",
          "{<br>  \"number\": 9,<br>  \"values\": [<br>    0.5276473542150524,<br>    0.051004331178206075,<br>    30277.0<br>  ],<br>  \"params\": {<br>    \"pooling\": \"max\",<br>    \"model\": \"GraphConv\",<br>    \"layers\": 14,<br>    \"hidden\": 35,<br>    \"dropout\": 0.48148592054021205,<br>    \"lr\": 0.00045162751480735887,<br>    \"weight_decay\": 7.851044225915065e-05<br>  }<br>}",
          "{<br>  \"number\": 10,<br>  \"values\": [<br>    0.6332998556273931,<br>    0.03329985562739313,<br>    267350.0<br>  ],<br>  \"params\": {<br>    \"pooling\": \"sum\",<br>    \"model\": \"GAT\",<br>    \"layers\": 13,<br>    \"hidden\": 154,<br>    \"dropout\": 0.3795999504660035,<br>    \"lr\": 2.738779533532476e-05,<br>    \"weight_decay\": 0.0002272043107501238<br>  }<br>}",
          "{<br>  \"number\": 11,<br>  \"values\": [<br>    0.6321637059820475,<br>    0.03665808800451947,<br>    83328.0<br>  ],<br>  \"params\": {<br>    \"pooling\": \"sum\",<br>    \"model\": \"GraphConv\",<br>    \"layers\": 13,<br>    \"hidden\": 61,<br>    \"dropout\": 0.35527846175211264,<br>    \"lr\": 4.2608031782361576e-05,<br>    \"weight_decay\": 0.0005016334056776034<br>  }<br>}",
          "{<br>  \"number\": 12,<br>  \"values\": [<br>    0.6234417174063147,<br>    0.01782373987822483,<br>    877.0<br>  ],<br>  \"params\": {<br>    \"pooling\": \"max\",<br>    \"model\": \"GCN\",<br>    \"layers\": 2,<br>    \"hidden\": 125,<br>    \"dropout\": 0.2509732582508559,<br>    \"lr\": 0.00023324202179904693,<br>    \"weight_decay\": 7.537409796948517e-05<br>  }<br>}",
          "{<br>  \"number\": 13,<br>  \"values\": [<br>    0.6764044943820224,<br>    0.03258426966292133,<br>    22518.0<br>  ],<br>  \"params\": {<br>    \"pooling\": \"sum\",<br>    \"model\": \"GraphSAGE\",<br>    \"layers\": 6,<br>    \"hidden\": 52,<br>    \"dropout\": 0.47421577197367765,<br>    \"lr\": 0.005204004372142305,<br>    \"weight_decay\": 0.000250309750383088<br>  }<br>}",
          "{<br>  \"number\": 15,<br>  \"values\": [<br>    0.7148892097169042,<br>    0.03033707865168539,<br>    160469.0<br>  ],<br>  \"params\": {<br>    \"pooling\": \"max\",<br>    \"model\": \"GraphSAGE\",<br>    \"layers\": 12,<br>    \"hidden\": 89,<br>    \"dropout\": 0.41278805264730684,<br>    \"lr\": 0.0007752876778420954,<br>    \"weight_decay\": 8.247142419029573e-05<br>  }<br>}",
          "{<br>  \"number\": 16,<br>  \"values\": [<br>    0.711791475739125,<br>    0.026410771451886195,<br>    339607.0<br>  ],<br>  \"params\": {<br>    \"pooling\": \"sum\",<br>    \"model\": \"GCN\",<br>    \"layers\": 16,<br>    \"hidden\": 155,<br>    \"dropout\": 0.1152124689773768,<br>    \"lr\": 5.7111948595215645e-05,<br>    \"weight_decay\": 0.0001259443856348248<br>  }<br>}",
          "{<br>  \"number\": 17,<br>  \"values\": [<br>    0.6208084865984559,<br>    0.01856129558721986,<br>    377759.0<br>  ],<br>  \"params\": {<br>    \"pooling\": \"sum\",<br>    \"model\": \"GraphConv\",<br>    \"layers\": 10,<br>    \"hidden\": 153,<br>    \"dropout\": 0.051659699787197366,<br>    \"lr\": 0.0004142983095828791,<br>    \"weight_decay\": 1.2558195330733334e-05<br>  }<br>}",
          "{<br>  \"number\": 18,<br>  \"values\": [<br>    0.5186491745653129,<br>    0.07685644341221518,<br>    1195.0<br>  ],<br>  \"params\": {<br>    \"pooling\": \"max\",<br>    \"model\": \"GAT\",<br>    \"layers\": 3,<br>    \"hidden\": 29,<br>    \"dropout\": 0.12429470831355355,<br>    \"lr\": 2.363750711916405e-05,<br>    \"weight_decay\": 3.456907483073518e-05<br>  }<br>}",
          "{<br>  \"number\": 19,<br>  \"values\": [<br>    0.6711505869060321,<br>    0.03483146067415732,<br>    226374.0<br>  ],<br>  \"params\": {<br>    \"pooling\": \"sum\",<br>    \"model\": \"GAT\",<br>    \"layers\": 8,<br>    \"hidden\": 192,<br>    \"dropout\": 0.131368901811322,<br>    \"lr\": 0.00017668535167121447,<br>    \"weight_decay\": 1.2105016455680709e-05<br>  }<br>}",
          "{<br>  \"number\": 20,<br>  \"values\": [<br>    0.6599899566882179,<br>    0.05730337078651687,<br>    303394.0<br>  ],<br>  \"params\": {<br>    \"pooling\": \"sum\",<br>    \"model\": \"GCN\",<br>    \"layers\": 15,<br>    \"hidden\": 152,<br>    \"dropout\": 0.02066778490287008,<br>    \"lr\": 0.0009406008061126994,<br>    \"weight_decay\": 5.209073872110242e-05<br>  }<br>}",
          "{<br>  \"number\": 21,<br>  \"values\": [<br>    0.5961835415228172,<br>    0.0006779235452890053,<br>    1276085.0<br>  ],<br>  \"params\": {<br>    \"pooling\": \"max\",<br>    \"model\": \"GraphSAGE\",<br>    \"layers\": 16,<br>    \"hidden\": 213,<br>    \"dropout\": 0.2906065193076246,<br>    \"lr\": 0.0018719661051437807,<br>    \"weight_decay\": 0.0004396794643260458<br>  }<br>}",
          "{<br>  \"number\": 22,<br>  \"values\": [<br>    0.6688908417550687,<br>    0.013834661979787832,<br>    186552.0<br>  ],<br>  \"params\": {<br>    \"pooling\": \"mean\",<br>    \"model\": \"GraphSAGE\",<br>    \"layers\": 5,<br>    \"hidden\": 175,<br>    \"dropout\": 0.08958544002505747,<br>    \"lr\": 2.6339600626148037e-05,<br>    \"weight_decay\": 0.0003249134649495731<br>  }<br>}",
          "{<br>  \"number\": 23,<br>  \"values\": [<br>    0.5644968928504175,<br>    0.02292385914255224,<br>    7562.0<br>  ],<br>  \"params\": {<br>    \"pooling\": \"mean\",<br>    \"model\": \"GraphConv\",<br>    \"layers\": 13,<br>    \"hidden\": 18,<br>    \"dropout\": 0.24448291134449468,<br>    \"lr\": 3.545108640924586e-05,<br>    \"weight_decay\": 8.547581715150672e-05<br>  }<br>}",
          "{<br>  \"number\": 24,<br>  \"values\": [<br>    0.5640449438202247,<br>    0.04943820224719098,<br>    46628.0<br>  ],<br>  \"params\": {<br>    \"pooling\": \"mean\",<br>    \"model\": \"GraphConv\",<br>    \"layers\": 9,<br>    \"hidden\": 57,<br>    \"dropout\": 0.04086125882901748,<br>    \"lr\": 0.00011974030403938689,<br>    \"weight_decay\": 1.8588058693263078e-05<br>  }<br>}",
          "{<br>  \"number\": 25,<br>  \"values\": [<br>    0.6816364321134893,<br>    0.02735233193145442,<br>    4695.0<br>  ],<br>  \"params\": {<br>    \"pooling\": \"mean\",<br>    \"model\": \"GraphConv\",<br>    \"layers\": 8,<br>    \"hidden\": 19,<br>    \"dropout\": 0.4979509380196345,<br>    \"lr\": 0.006068527079807755,<br>    \"weight_decay\": 1.5321773387411246e-05<br>  }<br>}",
          "{<br>  \"number\": 26,<br>  \"values\": [<br>    0.7014939426275815,<br>    0.037078651685393205,<br>    139090.0<br>  ],<br>  \"params\": {<br>    \"pooling\": \"mean\",<br>    \"model\": \"GAT\",<br>    \"layers\": 12,<br>    \"hidden\": 116,<br>    \"dropout\": 0.222489960715671,<br>    \"lr\": 0.00028103533409671965,<br>    \"weight_decay\": 0.00015368925434802776<br>  }<br>}",
          "{<br>  \"number\": 27,<br>  \"values\": [<br>    0.6634831460674158,<br>    0.03202247191011243,<br>    192908.0<br>  ],<br>  \"params\": {<br>    \"pooling\": \"sum\",<br>    \"model\": \"GraphSAGE\",<br>    \"layers\": 8,<br>    \"hidden\": 126,<br>    \"dropout\": 0.392520166611329,<br>    \"lr\": 7.348519264877823e-05,<br>    \"weight_decay\": 0.00015227508519874666<br>  }<br>}",
          "{<br>  \"number\": 28,<br>  \"values\": [<br>    0.690631473228297,<br>    0.03296403238968049,<br>    116731.0<br>  ],<br>  \"params\": {<br>    \"pooling\": \"sum\",<br>    \"model\": \"GCN\",<br>    \"layers\": 11,<br>    \"hidden\": 113,<br>    \"dropout\": 0.4871648378575999,<br>    \"lr\": 0.0002835796322872933,<br>    \"weight_decay\": 1.52333740565611e-05<br>  }<br>}",
          "{<br>  \"number\": 29,<br>  \"values\": [<br>    0.6801707363002949,<br>    0.04342476931768252,<br>    13134.0<br>  ],<br>  \"params\": {<br>    \"pooling\": \"max\",<br>    \"model\": \"GraphSAGE\",<br>    \"layers\": 10,<br>    \"hidden\": 28,<br>    \"dropout\": 0.40908038996910323,<br>    \"lr\": 0.00011666150414536226,<br>    \"weight_decay\": 5.611235223719251e-05<br>  }<br>}",
          "{<br>  \"number\": 30,<br>  \"values\": [<br>    0.662026865859017,<br>    0.0537034712196347,<br>    72235.0<br>  ],<br>  \"params\": {<br>    \"pooling\": \"sum\",<br>    \"model\": \"GCN\",<br>    \"layers\": 7,<br>    \"hidden\": 119,<br>    \"dropout\": 0.013434295307372557,<br>    \"lr\": 0.0032604733343728322,<br>    \"weight_decay\": 3.599834968538392e-05<br>  }<br>}",
          "{<br>  \"number\": 32,<br>  \"values\": [<br>    0.6214456091896303,<br>    0.020566819408700032,<br>    151835.0<br>  ],<br>  \"params\": {<br>    \"pooling\": \"max\",<br>    \"model\": \"GCN\",<br>    \"layers\": 11,<br>    \"hidden\": 129,<br>    \"dropout\": 0.35906096867121395,<br>    \"lr\": 2.9587595953952443e-05,<br>    \"weight_decay\": 0.00012506763423016982<br>  }<br>}",
          "{<br>  \"number\": 33,<br>  \"values\": [<br>    0.5813508254346871,<br>    0.0262946456594062,<br>    1136657.0<br>  ],<br>  \"params\": {<br>    \"pooling\": \"sum\",<br>    \"model\": \"GraphConv\",<br>    \"layers\": 16,<br>    \"hidden\": 201,<br>    \"dropout\": 0.4645360543402909,<br>    \"lr\": 0.0033478597194746738,<br>    \"weight_decay\": 0.00018742430532972415<br>  }<br>}",
          "{<br>  \"number\": 34,<br>  \"values\": [<br>    0.6424989015127738,<br>    0.026768564434122177,<br>    1679.0<br>  ],<br>  \"params\": {<br>    \"pooling\": \"max\",<br>    \"model\": \"GraphConv\",<br>    \"layers\": 2,<br>    \"hidden\": 129,<br>    \"dropout\": 0.26319608258994526,<br>    \"lr\": 0.00014606185462032512,<br>    \"weight_decay\": 0.0008590831979687975<br>  }<br>}",
          "{<br>  \"number\": 35,<br>  \"values\": [<br>    0.5241290565563995,<br>    0.07977528089887642,<br>    721122.0<br>  ],<br>  \"params\": {<br>    \"pooling\": \"mean\",<br>    \"model\": \"GraphConv\",<br>    \"layers\": 16,<br>    \"hidden\": 160,<br>    \"dropout\": 0.3035883799913841,<br>    \"lr\": 5.715584984766111e-05,<br>    \"weight_decay\": 0.0007938110332963636<br>  }<br>}",
          "{<br>  \"number\": 36,<br>  \"values\": [<br>    0.6206703910614525,<br>    0.02359550561797752,<br>    60819.0<br>  ],<br>  \"params\": {<br>    \"pooling\": \"sum\",<br>    \"model\": \"GraphConv\",<br>    \"layers\": 10,<br>    \"hidden\": 61,<br>    \"dropout\": 0.20719749397534765,<br>    \"lr\": 1.0634169867596884e-05,<br>    \"weight_decay\": 0.0007448954042290786<br>  }<br>}",
          "{<br>  \"number\": 37,<br>  \"values\": [<br>    0.6882430481451258,<br>    0.044341221517795404,<br>    185982.0<br>  ],<br>  \"params\": {<br>    \"pooling\": \"max\",<br>    \"model\": \"GAT\",<br>    \"layers\": 5,<br>    \"hidden\": 246,<br>    \"dropout\": 0.28479935507209236,<br>    \"lr\": 0.006625912812768234,<br>    \"weight_decay\": 9.53377199381549e-05<br>  }<br>}",
          "{<br>  \"number\": 38,<br>  \"values\": [<br>    0.735311656518737,<br>    0.036598455840813504,<br>    417790.0<br>  ],<br>  \"params\": {<br>    \"pooling\": \"max\",<br>    \"model\": \"GCN\",<br>    \"layers\": 16,<br>    \"hidden\": 172,<br>    \"dropout\": 0.31295010933780354,<br>    \"lr\": 0.0013184131635314287,<br>    \"weight_decay\": 1.7394443022885548e-05<br>  }<br>}",
          "{<br>  \"number\": 39,<br>  \"values\": [<br>    0.5961835415228172,<br>    0.0006779235452890053,<br>    357526.0<br>  ],<br>  \"params\": {<br>    \"pooling\": \"max\",<br>    \"model\": \"GAT\",<br>    \"layers\": 15,<br>    \"hidden\": 164,<br>    \"dropout\": 0.43570075488139615,<br>    \"lr\": 1.322253227764355e-05,<br>    \"weight_decay\": 0.0003581040350522149<br>  }<br>}",
          "{<br>  \"number\": 40,<br>  \"values\": [<br>    0.47937982549745783,<br>    0.10039545540141859,<br>    18.0<br>  ],<br>  \"params\": {<br>    \"pooling\": \"sum\",<br>    \"model\": \"GraphSAGE\",<br>    \"layers\": 1,<br>    \"hidden\": 83,<br>    \"dropout\": 0.39131067872000247,<br>    \"lr\": 0.00034854710630140853,<br>    \"weight_decay\": 0.00024872493134130705<br>  }<br>}",
          "{<br>  \"number\": 42,<br>  \"values\": [<br>    0.6610131190760153,<br>    0.026181658401857988,<br>    1126.0<br>  ],<br>  \"params\": {<br>    \"pooling\": \"max\",<br>    \"model\": \"GAT\",<br>    \"layers\": 3,<br>    \"hidden\": 28,<br>    \"dropout\": 0.43186647211796914,<br>    \"lr\": 0.004168547612134959,<br>    \"weight_decay\": 6.132673138916684e-05<br>  }<br>}",
          "{<br>  \"number\": 43,<br>  \"values\": [<br>    0.6726413909986817,<br>    0.024326784257108824,<br>    268764.0<br>  ],<br>  \"params\": {<br>    \"pooling\": \"max\",<br>    \"model\": \"GAT\",<br>    \"layers\": 12,<br>    \"hidden\": 162,<br>    \"dropout\": 0.30183519502335676,<br>    \"lr\": 0.00041540024712313897,<br>    \"weight_decay\": 0.00034764194812332306<br>  }<br>}",
          "{<br>  \"number\": 44,<br>  \"values\": [<br>    0.6363630657209215,<br>    0.025842696629213457,<br>    493495.0<br>  ],<br>  \"params\": {<br>    \"pooling\": \"sum\",<br>    \"model\": \"GCN\",<br>    \"layers\": 16,<br>    \"hidden\": 187,<br>    \"dropout\": 0.4529913756878786,<br>    \"lr\": 1.65649331047017e-05,<br>    \"weight_decay\": 7.005012859496391e-05<br>  }<br>}",
          "{<br>  \"number\": 45,<br>  \"values\": [<br>    0.5206703910614525,<br>    0.07797376184796936,<br>    14.0<br>  ],<br>  \"params\": {<br>    \"pooling\": \"max\",<br>    \"model\": \"GAT\",<br>    \"layers\": 1,<br>    \"hidden\": 39,<br>    \"dropout\": 0.3002540450582025,<br>    \"lr\": 5.873489980988648e-05,<br>    \"weight_decay\": 5.078840312172419e-05<br>  }<br>}",
          "{<br>  \"number\": 47,<br>  \"values\": [<br>    0.5068576988261879,<br>    0.0787678111857385,<br>    1120.0<br>  ],<br>  \"params\": {<br>    \"pooling\": \"max\",<br>    \"model\": \"GraphConv\",<br>    \"layers\": 2,<br>    \"hidden\": 86,<br>    \"dropout\": 0.3402316256430622,<br>    \"lr\": 1.8224477441264062e-05,<br>    \"weight_decay\": 0.000889069028509095<br>  }<br>}",
          "{<br>  \"number\": 48,<br>  \"values\": [<br>    0.7223243989705606,<br>    0.055756073065093226,<br>    90294.0<br>  ],<br>  \"params\": {<br>    \"pooling\": \"mean\",<br>    \"model\": \"GAT\",<br>    \"layers\": 7,<br>    \"hidden\": 132,<br>    \"dropout\": 0.39509177153515374,<br>    \"lr\": 0.0012001288955976767,<br>    \"weight_decay\": 0.00027584767253096274<br>  }<br>}",
          "{<br>  \"number\": 49,<br>  \"values\": [<br>    0.518765300357793,<br>    0.08393383968363569,<br>    636.0<br>  ],<br>  \"params\": {<br>    \"pooling\": \"max\",<br>    \"model\": \"GAT\",<br>    \"layers\": 2,<br>    \"hidden\": 70,<br>    \"dropout\": 0.26524582420665505,<br>    \"lr\": 1.4843304269093968e-05,<br>    \"weight_decay\": 0.00020521610411681357<br>  }<br>}",
          "{<br>  \"number\": 50,<br>  \"values\": [<br>    0.7097959975492225,<br>    0.032316864166928416,<br>    164002.0<br>  ],<br>  \"params\": {<br>    \"pooling\": \"mean\",<br>    \"model\": \"GraphSAGE\",<br>    \"layers\": 5,<br>    \"hidden\": 164,<br>    \"dropout\": 0.1171783500466464,<br>    \"lr\": 0.0004434171231045417,<br>    \"weight_decay\": 0.00011439544179533213<br>  }<br>}",
          "{<br>  \"number\": 51,<br>  \"values\": [<br>    0.5590201493942628,<br>    0.09233255916138344,<br>    66035.0<br>  ],<br>  \"params\": {<br>    \"pooling\": \"sum\",<br>    \"model\": \"GCN\",<br>    \"layers\": 3,<br>    \"hidden\": 253,<br>    \"dropout\": 0.34549356193343606,<br>    \"lr\": 0.0021073907786111593,<br>    \"weight_decay\": 0.0001352535875699347<br>  }<br>}",
          "{<br>  \"number\": 52,<br>  \"values\": [<br>    0.6576486096290253,<br>    0.029213483146067476,<br>    186995.0<br>  ],<br>  \"params\": {<br>    \"pooling\": \"max\",<br>    \"model\": \"GAT\",<br>    \"layers\": 7,<br>    \"hidden\": 191,<br>    \"dropout\": 0.12520070354969737,<br>    \"lr\": 3.0281897573160853e-05,<br>    \"weight_decay\": 3.2549427208229326e-05<br>  }<br>}",
          "{<br>  \"number\": 53,<br>  \"values\": [<br>    0.6724844642520872,<br>    0.01778607745904215,<br>    2173.0<br>  ],<br>  \"params\": {<br>    \"pooling\": \"mean\",<br>    \"model\": \"GraphSAGE\",<br>    \"layers\": 2,<br>    \"hidden\": 167,<br>    \"dropout\": 0.3580313058948699,<br>    \"lr\": 0.000223285121213362,<br>    \"weight_decay\": 3.395416199763484e-05<br>  }<br>}",
          "{<br>  \"number\": 54,<br>  \"values\": [<br>    0.5921160002510828,<br>    0.0505806289624004,<br>    35090.0<br>  ],<br>  \"params\": {<br>    \"pooling\": \"max\",<br>    \"model\": \"GraphConv\",<br>    \"layers\": 3,<br>    \"hidden\": 129,<br>    \"dropout\": 0.2654577414345409,<br>    \"lr\": 0.00408759290018477,<br>    \"weight_decay\": 2.5025475328770866e-05<br>  }<br>}",
          "{<br>  \"number\": 55,<br>  \"values\": [<br>    0.6932521498964284,<br>    0.013489423137279521,<br>    681010.0<br>  ],<br>  \"params\": {<br>    \"pooling\": \"sum\",<br>    \"model\": \"GCN\",<br>    \"layers\": 13,<br>    \"hidden\": 248,<br>    \"dropout\": 0.48696866703054204,<br>    \"lr\": 1.8501167813053236e-05,<br>    \"weight_decay\": 0.0002272043107501238<br>  }<br>}",
          "{<br>  \"number\": 56,<br>  \"values\": [<br>    0.6234542715460423,<br>    0.0196629213483146,<br>    743.0<br>  ],<br>  \"params\": {<br>    \"pooling\": \"mean\",<br>    \"model\": \"GraphConv\",<br>    \"layers\": 2,<br>    \"hidden\": 57,<br>    \"dropout\": 0.3402316256430622,<br>    \"lr\": 7.253799398178737e-05,<br>    \"weight_decay\": 1.8588058693263078e-05<br>  }<br>}",
          "{<br>  \"number\": 58,<br>  \"values\": [<br>    0.6719101123595506,<br>    0.043820224719101075,<br>    13910.0<br>  ],<br>  \"params\": {<br>    \"pooling\": \"mean\",<br>    \"model\": \"GCN\",<br>    \"layers\": 3,<br>    \"hidden\": 114,<br>    \"dropout\": 0.45877884347343084,<br>    \"lr\": 0.003294253758174595,<br>    \"weight_decay\": 0.00037131177992384695<br>  }<br>}",
          "{<br>  \"number\": 59,<br>  \"values\": [<br>    0.6229238591425523,<br>    0.013031197037223052,<br>    15557.0<br>  ],<br>  \"params\": {<br>    \"pooling\": \"sum\",<br>    \"model\": \"GCN\",<br>    \"layers\": 6,<br>    \"hidden\": 61,<br>    \"dropout\": 0.35527846175211264,<br>    \"lr\": 3.694441008497883e-05,<br>    \"weight_decay\": 0.0005016334056776034<br>  }<br>}",
          "{<br>  \"number\": 60,<br>  \"values\": [<br>    0.6781871822233382,<br>    0.04316113238340347,<br>    244642.0<br>  ],<br>  \"params\": {<br>    \"pooling\": \"sum\",<br>    \"model\": \"GCN\",<br>    \"layers\": 7,<br>    \"hidden\": 220,<br>    \"dropout\": 0.013434295307372557,<br>    \"lr\": 0.0032604733343728322,<br>    \"weight_decay\": 2.7374784732016566e-05<br>  }<br>}",
          "{<br>  \"number\": 61,<br>  \"values\": [<br>    0.6761094720984244,<br>    0.028384909924047463,<br>    30685.0<br>  ],<br>  \"params\": {<br>    \"pooling\": \"sum\",<br>    \"model\": \"GCN\",<br>    \"layers\": 10,<br>    \"hidden\": 61,<br>    \"dropout\": 0.20719749397534765,<br>    \"lr\": 0.0009406008061126994,<br>    \"weight_decay\": 0.0007448954042290786<br>  }<br>}",
          "{<br>  \"number\": 62,<br>  \"values\": [<br>    0.6205793735484276,<br>    0.023240851170673538,<br>    15557.0<br>  ],<br>  \"params\": {<br>    \"pooling\": \"sum\",<br>    \"model\": \"GCN\",<br>    \"layers\": 6,<br>    \"hidden\": 61,<br>    \"dropout\": 0.2206078770251621,<br>    \"lr\": 9.685566641624462e-05,<br>    \"weight_decay\": 1.5905348635357757e-05<br>  }<br>}",
          "{<br>  \"number\": 63,<br>  \"values\": [<br>    0.6681972255351203,<br>    0.04865670704914954,<br>    554940.0<br>  ],<br>  \"params\": {<br>    \"pooling\": \"sum\",<br>    \"model\": \"GraphSAGE\",<br>    \"layers\": 12,<br>    \"hidden\": 166,<br>    \"dropout\": 0.2206078770251621,<br>    \"lr\": 5.370605529213479e-05,<br>    \"weight_decay\": 3.395416199763484e-05<br>  }<br>}",
          "{<br>  \"number\": 64,<br>  \"values\": [<br>    0.6917362375243237,<br>    0.02094972067039108,<br>    307352.0<br>  ],<br>  \"params\": {<br>    \"pooling\": \"mean\",<br>    \"model\": \"GraphSAGE\",<br>    \"layers\": 5,<br>    \"hidden\": 225,<br>    \"dropout\": 0.08958544002505747,<br>    \"lr\": 2.6339600626148037e-05,<br>    \"weight_decay\": 0.0003249134649495731<br>  }<br>}",
          "{<br>  \"number\": 65,<br>  \"values\": [<br>    0.6619766493001067,<br>    0.03465256418303936,<br>    157915.0<br>  ],<br>  \"params\": {<br>    \"pooling\": \"sum\",<br>    \"model\": \"GCN\",<br>    \"layers\": 13,<br>    \"hidden\": 119,<br>    \"dropout\": 0.19039545635019806,<br>    \"lr\": 4.7664178327508166e-05,<br>    \"weight_decay\": 3.1058902088110604e-05<br>  }<br>}",
          "{<br>  \"number\": 66,<br>  \"values\": [<br>    0.6195530726256984,<br>    0.024047454648170208,<br>    372265.0<br>  ],<br>  \"params\": {<br>    \"pooling\": \"mean\",<br>    \"model\": \"GAT\",<br>    \"layers\": 12,<br>    \"hidden\": 191,<br>    \"dropout\": 0.28387915364473787,<br>    \"lr\": 0.008878999382749374,<br>    \"weight_decay\": 8.408841818813921e-05<br>  }<br>}",
          "{<br>  \"number\": 67,<br>  \"values\": [<br>    0.6802366455338648,<br>    0.038663611825999644,<br>    93939.0<br>  ],<br>  \"params\": {<br>    \"pooling\": \"max\",<br>    \"model\": \"GAT\",<br>    \"layers\": 4,<br>    \"hidden\": 213,<br>    \"dropout\": 0.02272719657958644,<br>    \"lr\": 0.0011425832759197013,<br>    \"weight_decay\": 3.456907483073518e-05<br>  }<br>}",
          "{<br>  \"number\": 68,<br>  \"values\": [<br>    0.537496076831335,<br>    0.030754503797627286,<br>    35247.0<br>  ],<br>  \"params\": {<br>    \"pooling\": \"max\",<br>    \"model\": \"GraphConv\",<br>    \"layers\": 16,<br>    \"hidden\": 35,<br>    \"dropout\": 0.48148592054021205,<br>    \"lr\": 0.00020869520013615952,<br>    \"weight_decay\": 1.7394443022885548e-05<br>  }<br>}",
          "{<br>  \"number\": 69,<br>  \"values\": [<br>    0.6588286987634171,<br>    0.035955056179775235,<br>    271914.0<br>  ],<br>  \"params\": {<br>    \"pooling\": \"mean\",<br>    \"model\": \"GraphConv\",<br>    \"layers\": 7,<br>    \"hidden\": 164,<br>    \"dropout\": 0.1171783500466464,<br>    \"lr\": 1.0634169867596884e-05,<br>    \"weight_decay\": 2.3023389542012707e-05<br>  }<br>}",
          "{<br>  \"number\": 70,<br>  \"values\": [<br>    0.6896522503295462,<br>    0.033472475048647365,<br>    168459.0<br>  ],<br>  \"params\": {<br>    \"pooling\": \"max\",<br>    \"model\": \"GAT\",<br>    \"layers\": 9,<br>    \"hidden\": 153,<br>    \"dropout\": 0.051659699787197366,<br>    \"lr\": 0.0004142983095828791,<br>    \"weight_decay\": 4.135752828671417e-05<br>  }<br>}",
          "{<br>  \"number\": 71,<br>  \"values\": [<br>    0.6523539011989203,<br>    0.04315171677860774,<br>    6778.0<br>  ],<br>  \"params\": {<br>    \"pooling\": \"sum\",<br>    \"model\": \"GCN\",<br>    \"layers\": 4,<br>    \"hidden\": 56,<br>    \"dropout\": 0.3580313058948699,<br>    \"lr\": 0.001734613470581729,<br>    \"weight_decay\": 3.395416199763484e-05<br>  }<br>}",
          "{<br>  \"number\": 72,<br>  \"values\": [<br>    0.6206829452011802,<br>    0.02313727951792105,<br>    884.0<br>  ],<br>  \"params\": {<br>    \"pooling\": \"max\",<br>    \"model\": \"GCN\",<br>    \"layers\": 2,<br>    \"hidden\": 126,<br>    \"dropout\": 0.392520166611329,<br>    \"lr\": 7.348519264877823e-05,<br>    \"weight_decay\": 7.537409796948517e-05<br>  }<br>}",
          "{<br>  \"number\": 73,<br>  \"values\": [<br>    0.6513401544159187,<br>    0.038547486033519485,<br>    2685.0<br>  ],<br>  \"params\": {<br>    \"pooling\": \"mean\",<br>    \"model\": \"GAT\",<br>    \"layers\": 8,<br>    \"hidden\": 19,<br>    \"dropout\": 0.4979509380196345,<br>    \"lr\": 0.006068527079807755,<br>    \"weight_decay\": 0.00018258530319469225<br>  }<br>}",
          "{<br>  \"number\": 75,<br>  \"values\": [<br>    0.678808612139853,<br>    0.038359173937605906,<br>    42664.0<br>  ],<br>  \"params\": {<br>    \"pooling\": \"sum\",<br>    \"model\": \"GraphSAGE\",<br>    \"layers\": 5,<br>    \"hidden\": 83,<br>    \"dropout\": 0.39131067872000247,<br>    \"lr\": 0.00034854710630140853,<br>    \"weight_decay\": 0.00024872493134130705<br>  }<br>}",
          "{<br>  \"number\": 76,<br>  \"values\": [<br>    0.6898154541460046,<br>    0.01645533864791915,<br>    16281.0<br>  ],<br>  \"params\": {<br>    \"pooling\": \"max\",<br>    \"model\": \"GAT\",<br>    \"layers\": 14,<br>    \"hidden\": 35,<br>    \"dropout\": 0.042903132778255304,<br>    \"lr\": 0.00045162751480735887,<br>    \"weight_decay\": 1.2105016455680709e-05<br>  }<br>}",
          "{<br>  \"number\": 78,<br>  \"values\": [<br>    0.5700395455401419,<br>    0.06442156801205207,<br>    491558.0<br>  ],<br>  \"params\": {<br>    \"pooling\": \"mean\",<br>    \"model\": \"GraphConv\",<br>    \"layers\": 15,<br>    \"hidden\": 137,<br>    \"dropout\": 0.04086125882901748,<br>    \"lr\": 7.493331198878565e-05,<br>    \"weight_decay\": 0.0003581040350522149<br>  }<br>}",
          "{<br>  \"number\": 80,<br>  \"values\": [<br>    0.6734668256857699,<br>    0.04200615152846654,<br>    8635.0<br>  ],<br>  \"params\": {<br>    \"pooling\": \"max\",<br>    \"model\": \"GCN\",<br>    \"layers\": 3,<br>    \"hidden\": 89,<br>    \"dropout\": 0.2654577414345409,<br>    \"lr\": 0.003294253758174595,<br>    \"weight_decay\": 0.00013318622980974896<br>  }<br>}",
          "{<br>  \"number\": 81,<br>  \"values\": [<br>    0.6990427468457725,<br>    0.027132634486221885,<br>    95031.0<br>  ],<br>  \"params\": {<br>    \"pooling\": \"mean\",<br>    \"model\": \"GAT\",<br>    \"layers\": 5,<br>    \"hidden\": 175,<br>    \"dropout\": 0.3819502239076682,<br>    \"lr\": 0.0011198019846023182,<br>    \"weight_decay\": 0.00035663468540544387<br>  }<br>}",
          "{<br>  \"number\": 82,<br>  \"values\": [<br>    0.6616627958069174,<br>    0.03496641767622882,<br>    737268.0<br>  ],<br>  \"params\": {<br>    \"pooling\": \"sum\",<br>    \"model\": \"GAT\",<br>    \"layers\": 14,<br>    \"hidden\": 246,<br>    \"dropout\": 0.28479935507209236,<br>    \"lr\": 0.0013184131635314287,<br>    \"weight_decay\": 9.53377199381549e-05<br>  }<br>}",
          "{<br>  \"number\": 84,<br>  \"values\": [<br>    0.6793892411022535,<br>    0.026580252338208543,<br>    217958.0<br>  ],<br>  \"params\": {<br>    \"pooling\": \"mean\",<br>    \"model\": \"GraphSAGE\",<br>    \"layers\": 6,<br>    \"hidden\": 164,<br>    \"dropout\": 0.47421577197367765,<br>    \"lr\": 0.005204004372142305,<br>    \"weight_decay\": 0.0003581040350522149<br>  }<br>}",
          "{<br>  \"number\": 86,<br>  \"values\": [<br>    0.5961835415228172,<br>    0.0006779235452890053,<br>    15010.0<br>  ],<br>  \"params\": {<br>    \"pooling\": \"max\",<br>    \"model\": \"GCN\",<br>    \"layers\": 16,<br>    \"hidden\": 32,<br>    \"dropout\": 0.31295010933780354,<br>    \"lr\": 1.8224477441264062e-05,<br>    \"weight_decay\": 1.7394443022885548e-05<br>  }<br>}",
          "{<br>  \"number\": 87,<br>  \"values\": [<br>    0.702808988764045,<br>    0.06235955056179776,<br>    320567.0<br>  ],<br>  \"params\": {<br>    \"pooling\": \"max\",<br>    \"model\": \"GCN\",<br>    \"layers\": 9,<br>    \"hidden\": 213,<br>    \"dropout\": 0.4576883911365664,<br>    \"lr\": 0.004168547612134959,<br>    \"weight_decay\": 2.0197778619881213e-05<br>  }<br>}",
          "{<br>  \"number\": 88,<br>  \"values\": [<br>    0.5815203063210094,<br>    0.028711317556964433,<br>    377759.0<br>  ],<br>  \"params\": {<br>    \"pooling\": \"max\",<br>    \"model\": \"GraphConv\",<br>    \"layers\": 10,<br>    \"hidden\": 153,<br>    \"dropout\": 0.3402316256430622,<br>    \"lr\": 1.8224477441264062e-05,<br>    \"weight_decay\": 0.000889069028509095<br>  }<br>}",
          "{<br>  \"number\": 89,<br>  \"values\": [<br>    0.6443474985876594,<br>    0.025246374992153597,<br>    1679.0<br>  ],<br>  \"params\": {<br>    \"pooling\": \"max\",<br>    \"model\": \"GraphConv\",<br>    \"layers\": 2,<br>    \"hidden\": 129,<br>    \"dropout\": 0.131368901811322,<br>    \"lr\": 0.00017668535167121447,<br>    \"weight_decay\": 1.2105016455680709e-05<br>  }<br>}",
          "{<br>  \"number\": 90,<br>  \"values\": [<br>    0.5605643085807546,<br>    0.04371037599648481,<br>    229077.0<br>  ],<br>  \"params\": {<br>    \"pooling\": \"mean\",<br>    \"model\": \"GraphConv\",<br>    \"layers\": 10,<br>    \"hidden\": 119,<br>    \"dropout\": 0.4979509380196345,<br>    \"lr\": 0.006068527079807755,<br>    \"weight_decay\": 3.599834968538392e-05<br>  }<br>}",
          "{<br>  \"number\": 91,<br>  \"values\": [<br>    0.6608813006088758,<br>    0.02451195781809057,<br>    195131.0<br>  ],<br>  \"params\": {<br>    \"pooling\": \"sum\",<br>    \"model\": \"GraphSAGE\",<br>    \"layers\": 4,<br>    \"hidden\": 219,<br>    \"dropout\": 0.28387915364473787,<br>    \"lr\": 4.2608031782361576e-05,<br>    \"weight_decay\": 0.0005016334056776034<br>  }<br>}",
          "{<br>  \"number\": 92,<br>  \"values\": [<br>    0.5206703910614525,<br>    0.07797376184796936,<br>    14.0<br>  ],<br>  \"params\": {<br>    \"pooling\": \"max\",<br>    \"model\": \"GAT\",<br>    \"layers\": 1,<br>    \"hidden\": 39,<br>    \"dropout\": 0.3002540450582025,<br>    \"lr\": 5.873489980988648e-05,<br>    \"weight_decay\": 6.132673138916684e-05<br>  }<br>}",
          "{<br>  \"number\": 93,<br>  \"values\": [<br>    0.735638064151654,<br>    0.033390873140418054,<br>    377759.0<br>  ],<br>  \"params\": {<br>    \"pooling\": \"max\",<br>    \"model\": \"GraphSAGE\",<br>    \"layers\": 10,<br>    \"hidden\": 153,<br>    \"dropout\": 0.40908038996910323,<br>    \"lr\": 0.0004142983095828791,<br>    \"weight_decay\": 2.7658640423086966e-05<br>  }<br>}",
          "{<br>  \"number\": 94,<br>  \"values\": [<br>    0.5961835415228172,<br>    0.0006779235452890053,<br>    154419.0<br>  ],<br>  \"params\": {<br>    \"pooling\": \"max\",<br>    \"model\": \"GAT\",<br>    \"layers\": 11,<br>    \"hidden\": 129,<br>    \"dropout\": 0.35906096867121395,<br>    \"lr\": 2.9587595953952443e-05,<br>    \"weight_decay\": 0.00027584767253096274<br>  }<br>}",
          "{<br>  \"number\": 96,<br>  \"values\": [<br>    0.5961835415228172,<br>    0.0006779235452890053,<br>    676887.0<br>  ],<br>  \"params\": {<br>    \"pooling\": \"sum\",<br>    \"model\": \"GraphSAGE\",<br>    \"layers\": 16,<br>    \"hidden\": 155,<br>    \"dropout\": 0.1152124689773768,<br>    \"lr\": 0.0018719661051437807,<br>    \"weight_decay\": 0.0004396794643260458<br>  }<br>}",
          "{<br>  \"number\": 97,<br>  \"values\": [<br>    0.5328761534115874,<br>    0.07498901512773837,<br>    1962.0<br>  ],<br>  \"params\": {<br>    \"pooling\": \"max\",<br>    \"model\": \"GraphConv\",<br>    \"layers\": 3,<br>    \"hidden\": 28,<br>    \"dropout\": 0.43186647211796914,<br>    \"lr\": 1.0634169867596884e-05,<br>    \"weight_decay\": 0.00017579998601452966<br>  }<br>}",
          "{<br>  \"number\": 98,<br>  \"values\": [<br>    0.6585430920846149,<br>    0.03471533488167716,<br>    1742753.0<br>  ],<br>  \"params\": {<br>    \"pooling\": \"sum\",<br>    \"model\": \"GraphSAGE\",<br>    \"layers\": 16,<br>    \"hidden\": 249,<br>    \"dropout\": 0.2845962344682601,<br>    \"lr\": 4.2608031782361576e-05,<br>    \"weight_decay\": 1.1796192201295029e-05<br>  }<br>}",
          "{<br>  \"number\": 99,<br>  \"values\": [<br>    0.6539325842696629,<br>    0.05842696629213484,<br>    366149.0<br>  ],<br>  \"params\": {<br>    \"pooling\": \"sum\",<br>    \"model\": \"GCN\",<br>    \"layers\": 10,<br>    \"hidden\": 213,<br>    \"dropout\": 0.02272719657958644,<br>    \"lr\": 0.0011425832759197013,<br>    \"weight_decay\": 1.2558195330733334e-05<br>  }<br>}",
          "{<br>  \"number\": 100,<br>  \"values\": [<br>    0.6236174753625008,<br>    0.017999497834410905,<br>    1136657.0<br>  ],<br>  \"params\": {<br>    \"pooling\": \"sum\",<br>    \"model\": \"GraphConv\",<br>    \"layers\": 16,<br>    \"hidden\": 201,<br>    \"dropout\": 0.46566950467187723,<br>    \"lr\": 0.0033478597194746738,<br>    \"weight_decay\": 0.00018742430532972415<br>  }<br>}",
          "{<br>  \"number\": 103,<br>  \"values\": [<br>    0.5644058753373925,<br>    0.07829075387609064,<br>    617568.0<br>  ],<br>  \"params\": {<br>    \"pooling\": \"mean\",<br>    \"model\": \"GraphConv\",<br>    \"layers\": 13,<br>    \"hidden\": 167,<br>    \"dropout\": 0.09076464307988186,<br>    \"lr\": 0.000223285121213362,<br>    \"weight_decay\": 8.547581715150672e-05<br>  }<br>}",
          "{<br>  \"number\": 104,<br>  \"values\": [<br>    0.6479254284100182,<br>    0.038936664365074425,<br>    186995.0<br>  ],<br>  \"params\": {<br>    \"pooling\": \"max\",<br>    \"model\": \"GAT\",<br>    \"layers\": 7,<br>    \"hidden\": 191,<br>    \"dropout\": 0.12520070354969737,<br>    \"lr\": 3.0281897573160853e-05,<br>    \"weight_decay\": 3.2549427208229326e-05<br>  }<br>}",
          "{<br>  \"number\": 105,<br>  \"values\": [<br>    0.7283660787144561,<br>    0.033984056242546024,<br>    242034.0<br>  ],<br>  \"params\": {<br>    \"pooling\": \"max\",<br>    \"model\": \"GAT\",<br>    \"layers\": 11,<br>    \"hidden\": 162,<br>    \"dropout\": 0.30183519502335676,<br>    \"lr\": 0.00041540024712313897,<br>    \"weight_decay\": 0.00034764194812332306<br>  }<br>}",
          "{<br>  \"number\": 107,<br>  \"values\": [<br>    0.5961835415228172,<br>    0.0006779235452890053,<br>    224912.0<br>  ],<br>  \"params\": {<br>    \"pooling\": \"max\",<br>    \"model\": \"GCN\",<br>    \"layers\": 16,<br>    \"hidden\": 126,<br>    \"dropout\": 0.3819502239076682,<br>    \"lr\": 1.8224477441264062e-05,<br>    \"weight_decay\": 1.7394443022885548e-05<br>  }<br>}",
          "{<br>  \"number\": 109,<br>  \"values\": [<br>    0.6114650681062079,<br>    0.02561358357918525,<br>    4695.0<br>  ],<br>  \"params\": {<br>    \"pooling\": \"sum\",<br>    \"model\": \"GraphConv\",<br>    \"layers\": 8,<br>    \"hidden\": 19,<br>    \"dropout\": 0.4979509380196345,<br>    \"lr\": 0.006068527079807755,<br>    \"weight_decay\": 1.5321773387411246e-05<br>  }<br>}",
          "{<br>  \"number\": 111,<br>  \"values\": [<br>    0.6164082606239407,<br>    0.019546795555834606,<br>    4164.0<br>  ],<br>  \"params\": {<br>    \"pooling\": \"mean\",<br>    \"model\": \"GAT\",<br>    \"layers\": 4,<br>    \"hidden\": 42,<br>    \"dropout\": 0.3002540450582025,<br>    \"lr\": 5.873489980988648e-05,<br>    \"weight_decay\": 8.408841818813921e-05<br>  }<br>}",
          "{<br>  \"number\": 114,<br>  \"values\": [<br>    0.6632665871571151,<br>    0.04641265457284538,<br>    370851.0<br>  ],<br>  \"params\": {<br>    \"pooling\": \"sum\",<br>    \"model\": \"GAT\",<br>    \"layers\": 11,<br>    \"hidden\": 201,<br>    \"dropout\": 0.30183519502335676,<br>    \"lr\": 0.00041540024712313897,<br>    \"weight_decay\": 0.00018742430532972415<br>  }<br>}",
          "{<br>  \"number\": 115,<br>  \"values\": [<br>    0.6465256418303935,<br>    0.038867616596572674,<br>    7993.0<br>  ],<br>  \"params\": {<br>    \"pooling\": \"sum\",<br>    \"model\": \"GCN\",<br>    \"layers\": 4,<br>    \"hidden\": 61,<br>    \"dropout\": 0.048085167448866095,<br>    \"lr\": 0.0009406008061126994,<br>    \"weight_decay\": 8.408841818813921e-05<br>  }<br>}",
          "{<br>  \"number\": 116,<br>  \"values\": [<br>    0.597752808988764,<br>    0.0022471910112359383,<br>    37481.0<br>  ],<br>  \"params\": {<br>    \"pooling\": \"max\",<br>    \"model\": \"GraphSAGE\",<br>    \"layers\": 14,<br>    \"hidden\": 39,<br>    \"dropout\": 0.10477946623758988,<br>    \"lr\": 4.7664178327508166e-05,<br>    \"weight_decay\": 5.078840312172419e-05<br>  }<br>}",
          "{<br>  \"number\": 117,<br>  \"values\": [<br>    0.6262318749607683,<br>    0.018366706421442558,<br>    11914.0<br>  ],<br>  \"params\": {<br>    \"pooling\": \"sum\",<br>    \"model\": \"GAT\",<br>    \"layers\": 6,<br>    \"hidden\": 52,<br>    \"dropout\": 0.4676006168726419,<br>    \"lr\": 5.873489980988648e-05,<br>    \"weight_decay\": 6.132673138916684e-05<br>  }<br>}",
          "{<br>  \"number\": 120,<br>  \"values\": [<br>    0.6653474358169607,<br>    0.03501035716527534,<br>    86409.0<br>  ],<br>  \"params\": {<br>    \"pooling\": \"sum\",<br>    \"model\": \"GAT\",<br>    \"layers\": 14,<br>    \"hidden\": 83,<br>    \"dropout\": 0.12264693133603005,<br>    \"lr\": 5.288087164372369e-05,<br>    \"weight_decay\": 5.2220723811010644e-05<br>  }<br>}",
          "{<br>  \"number\": 121,<br>  \"values\": [<br>    0.7001506496767309,<br>    0.05745402046324766,<br>    172012.0<br>  ],<br>  \"params\": {<br>    \"pooling\": \"mean\",<br>    \"model\": \"GCN\",<br>    \"layers\": 6,<br>    \"hidden\": 206,<br>    \"dropout\": 0.3171162970377295,<br>    \"lr\": 0.001734613470581729,<br>    \"weight_decay\": 0.0003249134649495731<br>  }<br>}",
          "{<br>  \"number\": 123,<br>  \"values\": [<br>    0.7175789341535371,<br>    0.047589605172305594,<br>    619258.0<br>  ],<br>  \"params\": {<br>    \"pooling\": \"mean\",<br>    \"model\": \"GCN\",<br>    \"layers\": 12,<br>    \"hidden\": 248,<br>    \"dropout\": 0.4434272299756548,<br>    \"lr\": 0.00028103533409671965,<br>    \"weight_decay\": 0.00015368925434802776<br>  }<br>}",
          "{<br>  \"number\": 125,<br>  \"values\": [<br>    0.7147511141799008,<br>    0.025987069236080573,<br>    561623.0<br>  ],<br>  \"params\": {<br>    \"pooling\": \"max\",<br>    \"model\": \"GraphSAGE\",<br>    \"layers\": 12,<br>    \"hidden\": 167,<br>    \"dropout\": 0.41278805264730684,<br>    \"lr\": 0.0020115157618702116,<br>    \"weight_decay\": 3.395416199763484e-05<br>  }<br>}",
          "{<br>  \"number\": 126,<br>  \"values\": [<br>    0.6568576988261879,<br>    0.05999623375808183,<br>    595650.0<br>  ],<br>  \"params\": {<br>    \"pooling\": \"mean\",<br>    \"model\": \"GraphSAGE\",<br>    \"layers\": 13,<br>    \"hidden\": 164,<br>    \"dropout\": 0.47421577197367765,<br>    \"lr\": 0.005204004372142305,<br>    \"weight_decay\": 0.0003581040350522149<br>  }<br>}",
          "{<br>  \"number\": 127,<br>  \"values\": [<br>    0.7159939740129309,<br>    0.031724311091582524,<br>    528608.0<br>  ],<br>  \"params\": {<br>    \"pooling\": \"max\",<br>    \"model\": \"GraphSAGE\",<br>    \"layers\": 12,<br>    \"hidden\": 162,<br>    \"dropout\": 0.2845962344682601,<br>    \"lr\": 0.00041540024712313897,<br>    \"weight_decay\": 0.00012072363549157465<br>  }<br>}",
          "{<br>  \"number\": 128,<br>  \"values\": [<br>    0.6528089887640449,<br>    0.03258426966292133,<br>    30807.0<br>  ],<br>  \"params\": {<br>    \"pooling\": \"sum\",<br>    \"model\": \"GraphSAGE\",<br>    \"layers\": 6,<br>    \"hidden\": 61,<br>    \"dropout\": 0.47421577197367765,<br>    \"lr\": 0.0009406008061126994,<br>    \"weight_decay\": 0.0003581040350522149<br>  }<br>}",
          "{<br>  \"number\": 129,<br>  \"values\": [<br>    0.6134109597639821,<br>    0.0549839934718474,<br>    3239.0<br>  ],<br>  \"params\": {<br>    \"pooling\": \"max\",<br>    \"model\": \"GraphConv\",<br>    \"layers\": 2,<br>    \"hidden\": 249,<br>    \"dropout\": 0.3402316256430622,<br>    \"lr\": 7.253799398178737e-05,<br>    \"weight_decay\": 1.8588058693263078e-05<br>  }<br>}",
          "{<br>  \"number\": 131,<br>  \"values\": [<br>    0.6520682945201179,<br>    0.03258426966292133,<br>    33648.0<br>  ],<br>  \"params\": {<br>    \"pooling\": \"sum\",<br>    \"model\": \"GAT\",<br>    \"layers\": 4,<br>    \"hidden\": 126,<br>    \"dropout\": 0.4530632458907498,<br>    \"lr\": 0.0014841694253940089,<br>    \"weight_decay\": 2.0891410155669506e-05<br>  }<br>}",
          "{<br>  \"number\": 132,<br>  \"values\": [<br>    0.6265206201745026,<br>    0.025164773083924452,<br>    6971.0<br>  ],<br>  \"params\": {<br>    \"pooling\": \"max\",<br>    \"model\": \"GAT\",<br>    \"layers\": 7,<br>    \"hidden\": 35,<br>    \"dropout\": 0.31765937489529245,<br>    \"lr\": 0.00045162751480735887,<br>    \"weight_decay\": 1.2105016455680709e-05<br>  }<br>}",
          "{<br>  \"number\": 133,<br>  \"values\": [<br>    0.6549526081225283,<br>    0.03718222333814575,<br>    53594.0<br>  ],<br>  \"params\": {<br>    \"pooling\": \"max\",<br>    \"model\": \"GCN\",<br>    \"layers\": 5,<br>    \"hidden\": 132,<br>    \"dropout\": 0.02272719657958644,<br>    \"lr\": 0.00012018891479146607,<br>    \"weight_decay\": 0.0007808224296549902<br>  }<br>}",
          "{<br>  \"number\": 134,<br>  \"values\": [<br>    0.6986033519553072,<br>    0.04467076768564432,<br>    376134.0<br>  ],<br>  \"params\": {<br>    \"pooling\": \"max\",<br>    \"model\": \"GAT\",<br>    \"layers\": 12,<br>    \"hidden\": 192,<br>    \"dropout\": 0.131368901811322,<br>    \"lr\": 5.873489980988648e-05,<br>    \"weight_decay\": 8.247142419029573e-05<br>  }<br>}",
          "{<br>  \"number\": 135,<br>  \"values\": [<br>    0.485845207457159,<br>    0.07685644341221518,<br>    1126.0<br>  ],<br>  \"params\": {<br>    \"pooling\": \"max\",<br>    \"model\": \"GAT\",<br>    \"layers\": 3,<br>    \"hidden\": 28,<br>    \"dropout\": 0.24859759350892996,<br>    \"lr\": 1.1503777138836734e-05,<br>    \"weight_decay\": 6.132673138916684e-05<br>  }<br>}",
          "{<br>  \"number\": 136,<br>  \"values\": [<br>    0.6600087878978094,<br>    0.05235076266398847,<br>    676887.0<br>  ],<br>  \"params\": {<br>    \"pooling\": \"sum\",<br>    \"model\": \"GraphSAGE\",<br>    \"layers\": 16,<br>    \"hidden\": 155,<br>    \"dropout\": 0.02272719657958644,<br>    \"lr\": 5.7111948595215645e-05,<br>    \"weight_decay\": 0.0001259443856348248<br>  }<br>}",
          "{<br>  \"number\": 137,<br>  \"values\": [<br>    0.683186868369845,<br>    0.028049086686334823,<br>    307352.0<br>  ],<br>  \"params\": {<br>    \"pooling\": \"mean\",<br>    \"model\": \"GraphConv\",<br>    \"layers\": 5,<br>    \"hidden\": 225,<br>    \"dropout\": 0.1152124689773768,<br>    \"lr\": 5.7111948595215645e-05,<br>    \"weight_decay\": 0.0001259443856348248<br>  }<br>}",
          "{<br>  \"number\": 138,<br>  \"values\": [<br>    0.7259870692360806,<br>    0.04284100182035022,<br>    92657.0<br>  ],<br>  \"params\": {<br>    \"pooling\": \"max\",<br>    \"model\": \"GCN\",<br>    \"layers\": 4,<br>    \"hidden\": 213,<br>    \"dropout\": 0.46566950467187723,<br>    \"lr\": 0.0032604733343728322,<br>    \"weight_decay\": 2.0197778619881213e-05<br>  }<br>}",
          "{<br>  \"number\": 139,<br>  \"values\": [<br>    0.607711380327663,<br>    0.016700144372606918,<br>    862227.0<br>  ],<br>  \"params\": {<br>    \"pooling\": \"max\",<br>    \"model\": \"GraphConv\",<br>    \"layers\": 16,<br>    \"hidden\": 175,<br>    \"dropout\": 0.2845962344682601,<br>    \"lr\": 7.634057819436414e-05,<br>    \"weight_decay\": 0.00012072363549157465<br>  }<br>}",
          "{<br>  \"number\": 140,<br>  \"values\": [<br>    0.522136086874647,<br>    0.09696503672085868,<br>    678533.0<br>  ],<br>  \"params\": {<br>    \"pooling\": \"max\",<br>    \"model\": \"GraphConv\",<br>    \"layers\": 8,<br>    \"hidden\": 237,<br>    \"dropout\": 0.40908038996910323,<br>    \"lr\": 0.00034854710630140853,<br>    \"weight_decay\": 5.611235223719251e-05<br>  }<br>}",
          "{<br>  \"number\": 141,<br>  \"values\": [<br>    0.5778631796796373,<br>    0.021917122875130146,<br>    1416.0<br>  ],<br>  \"params\": {<br>    \"pooling\": \"max\",<br>    \"model\": \"GCN\",<br>    \"layers\": 2,<br>    \"hidden\": 202,<br>    \"dropout\": 0.3819502239076682,<br>    \"lr\": 1.8501167813053236e-05,<br>    \"weight_decay\": 0.00035663468540544387<br>  }<br>}",
          "{<br>  \"number\": 142,<br>  \"values\": [<br>    0.6443820224719101,<br>    0.021910112359550593,<br>    4164.0<br>  ],<br>  \"params\": {<br>    \"pooling\": \"max\",<br>    \"model\": \"GAT\",<br>    \"layers\": 4,<br>    \"hidden\": 42,<br>    \"dropout\": 0.28387915364473787,<br>    \"lr\": 0.0005110755011256676,<br>    \"weight_decay\": 5.611235223719251e-05<br>  }<br>}",
          "{<br>  \"number\": 143,<br>  \"values\": [<br>    0.6835603540267403,<br>    0.028799196535057525,<br>    475958.0<br>  ],<br>  \"params\": {<br>    \"pooling\": \"sum\",<br>    \"model\": \"GraphSAGE\",<br>    \"layers\": 11,<br>    \"hidden\": 162,<br>    \"dropout\": 0.47421577197367765,<br>    \"lr\": 0.00041540024712313897,<br>    \"weight_decay\": 0.00034764194812332306<br>  }<br>}",
          "{<br>  \"number\": 144,<br>  \"values\": [<br>    0.5961835415228172,<br>    0.0006779235452890053,<br>    47607.0<br>  ],<br>  \"params\": {<br>    \"pooling\": \"mean\",<br>    \"model\": \"GAT\",<br>    \"layers\": 5,<br>    \"hidden\": 123,<br>    \"dropout\": 0.34571602684254676,<br>    \"lr\": 1.9996068870058924e-05,<br>    \"weight_decay\": 0.00035663468540544387<br>  }<br>}",
          "{<br>  \"number\": 145,<br>  \"values\": [<br>    0.6591739376059256,<br>    0.0250957253154227,<br>    25267.0<br>  ],<br>  \"params\": {<br>    \"pooling\": \"mean\",<br>    \"model\": \"GCN\",<br>    \"layers\": 3,<br>    \"hidden\": 155,<br>    \"dropout\": 0.1152124689773768,<br>    \"lr\": 0.00028103533409671965,<br>    \"weight_decay\": 0.00015368925434802776<br>  }<br>}",
          "{<br>  \"number\": 146,<br>  \"values\": [<br>    0.6861088443914382,<br>    0.03667064214424709,<br>    93939.0<br>  ],<br>  \"params\": {<br>    \"pooling\": \"max\",<br>    \"model\": \"GAT\",<br>    \"layers\": 4,<br>    \"hidden\": 213,<br>    \"dropout\": 0.3002540450582025,<br>    \"lr\": 0.0032604733343728322,<br>    \"weight_decay\": 6.132673138916684e-05<br>  }<br>}",
          "{<br>  \"number\": 148,<br>  \"values\": [<br>    0.6264264641265458,<br>    0.017437700081601892,<br>    210332.0<br>  ],<br>  \"params\": {<br>    \"pooling\": \"sum\",<br>    \"model\": \"GraphSAGE\",<br>    \"layers\": 10,<br>    \"hidden\": 114,<br>    \"dropout\": 0.3819502239076682,<br>    \"lr\": 0.0011198019846023182,<br>    \"weight_decay\": 0.00035663468540544387<br>  }<br>}",
          "{<br>  \"number\": 149,<br>  \"values\": [<br>    0.6615937480384156,<br>    0.0252808988764045,<br>    21499.0<br>  ],<br>  \"params\": {<br>    \"pooling\": \"sum\",<br>    \"model\": \"GCN\",<br>    \"layers\": 5,<br>    \"hidden\": 83,<br>    \"dropout\": 0.31295010933780354,<br>    \"lr\": 0.00034854710630140853,<br>    \"weight_decay\": 1.7394443022885548e-05<br>  }<br>}",
          "{<br>  \"number\": 150,<br>  \"values\": [<br>    0.6293296089385475,<br>    0.026850166342351378,<br>    3148.0<br>  ],<br>  \"params\": {<br>    \"pooling\": \"mean\",<br>    \"model\": \"GraphSAGE\",<br>    \"layers\": 2,<br>    \"hidden\": 242,<br>    \"dropout\": 0.131368901811322,<br>    \"lr\": 2.6339600626148037e-05,<br>    \"weight_decay\": 0.0003249134649495731<br>  }<br>}",
          "{<br>  \"number\": 152,<br>  \"values\": [<br>    0.6035967610319503,<br>    0.01932709811060196,<br>    80502.0<br>  ],<br>  \"params\": {<br>    \"pooling\": \"max\",<br>    \"model\": \"GraphConv\",<br>    \"layers\": 4,<br>    \"hidden\": 140,<br>    \"dropout\": 0.28387915364473787,<br>    \"lr\": 0.0014841694253940089,<br>    \"weight_decay\": 2.0891410155669506e-05<br>  }<br>}",
          "{<br>  \"number\": 153,<br>  \"values\": [<br>    0.6368934781244115,<br>    0.0245339275626138,<br>    42664.0<br>  ],<br>  \"params\": {<br>    \"pooling\": \"sum\",<br>    \"model\": \"GraphSAGE\",<br>    \"layers\": 5,<br>    \"hidden\": 83,<br>    \"dropout\": 0.1534389031026014,<br>    \"lr\": 0.0022889370100909207,<br>    \"weight_decay\": 0.00024872493134130705<br>  }<br>}",
          "{<br>  \"number\": 154,<br>  \"values\": [<br>    0.559779674847781,<br>    0.01999560605109535,<br>    657108.0<br>  ],<br>  \"params\": {<br>    \"pooling\": \"max\",<br>    \"model\": \"GraphConv\",<br>    \"layers\": 10,<br>    \"hidden\": 202,<br>    \"dropout\": 0.3819502239076682,<br>    \"lr\": 1.8501167813053236e-05,<br>    \"weight_decay\": 0.00035663468540544387<br>  }<br>}",
          "{<br>  \"number\": 155,<br>  \"values\": [<br>    0.6391061452513966,<br>    0.03617475362500788,<br>    723558.0<br>  ],<br>  \"params\": {<br>    \"pooling\": \"max\",<br>    \"model\": \"GraphSAGE\",<br>    \"layers\": 10,<br>    \"hidden\": 212,<br>    \"dropout\": 0.40908038996910323,<br>    \"lr\": 0.009829057202220147,<br>    \"weight_decay\": 2.7658640423086966e-05<br>  }<br>}",
          "{<br>  \"number\": 156,<br>  \"values\": [<br>    0.683896177264453,<br>    0.03632854183667067,<br>    17675.0<br>  ],<br>  \"params\": {<br>    \"pooling\": \"mean\",<br>    \"model\": \"GCN\",<br>    \"layers\": 3,<br>    \"hidden\": 129,<br>    \"dropout\": 0.4979509380196345,<br>    \"lr\": 0.003294253758174595,<br>    \"weight_decay\": 0.00012506763423016982<br>  }<br>}",
          "{<br>  \"number\": 157,<br>  \"values\": [<br>    0.701123595505618,<br>    0.04157303370786514,<br>    595650.0<br>  ],<br>  \"params\": {<br>    \"pooling\": \"mean\",<br>    \"model\": \"GraphSAGE\",<br>    \"layers\": 13,<br>    \"hidden\": 164,<br>    \"dropout\": 0.47421577197367765,<br>    \"lr\": 0.0009406008061126994,<br>    \"weight_decay\": 0.0003581040350522149<br>  }<br>}",
          "{<br>  \"number\": 158,<br>  \"values\": [<br>    0.7186836984495637,<br>    0.04789718159563122,<br>    49748.0<br>  ],<br>  \"params\": {<br>    \"pooling\": \"max\",<br>    \"model\": \"GAT\",<br>    \"layers\": 4,<br>    \"hidden\": 154,<br>    \"dropout\": 0.31557871115052244,<br>    \"lr\": 0.0014949852545941245,<br>    \"weight_decay\": 8.408841818813921e-05<br>  }<br>}",
          "{<br>  \"number\": 160,<br>  \"values\": [<br>    0.5206703910614525,<br>    0.07797376184796936,<br>    14.0<br>  ],<br>  \"params\": {<br>    \"pooling\": \"max\",<br>    \"model\": \"GAT\",<br>    \"layers\": 1,<br>    \"hidden\": 142,<br>    \"dropout\": 0.3002540450582025,<br>    \"lr\": 5.873489980988648e-05,<br>    \"weight_decay\": 1.385959834385791e-05<br>  }<br>}",
          "{<br>  \"number\": 162,<br>  \"values\": [<br>    0.6459010733789468,<br>    0.027528089887640494,<br>    1416.0<br>  ],<br>  \"params\": {<br>    \"pooling\": \"max\",<br>    \"model\": \"GCN\",<br>    \"layers\": 2,<br>    \"hidden\": 202,<br>    \"dropout\": 0.042903132778255304,<br>    \"lr\": 0.00893460631434506,<br>    \"weight_decay\": 1.2105016455680709e-05<br>  }<br>}",
          "{<br>  \"number\": 163,<br>  \"values\": [<br>    0.702953361370912,<br>    0.041155608561923296,<br>    49748.0<br>  ],<br>  \"params\": {<br>    \"pooling\": \"max\",<br>    \"model\": \"GAT\",<br>    \"layers\": 4,<br>    \"hidden\": 154,<br>    \"dropout\": 0.31557871115052244,<br>    \"lr\": 0.0014949852545941245,<br>    \"weight_decay\": 8.408841818813921e-05<br>  }<br>}",
          "{<br>  \"number\": 165,<br>  \"values\": [<br>    0.5961835415228172,<br>    0.0006779235452890053,<br>    21218.0<br>  ],<br>  \"params\": {<br>    \"pooling\": \"max\",<br>    \"model\": \"GraphSAGE\",<br>    \"layers\": 12,<br>    \"hidden\": 32,<br>    \"dropout\": 0.2845962344682601,<br>    \"lr\": 1.8224477441264062e-05,<br>    \"weight_decay\": 0.00012072363549157465<br>  }<br>}",
          "{<br>  \"number\": 166,<br>  \"values\": [<br>    0.5206703910614525,<br>    0.07797376184796936,<br>    14.0<br>  ],<br>  \"params\": {<br>    \"pooling\": \"max\",<br>    \"model\": \"GAT\",<br>    \"layers\": 1,<br>    \"hidden\": 162,<br>    \"dropout\": 0.3002540450582025,<br>    \"lr\": 5.873489980988648e-05,<br>    \"weight_decay\": 0.00034764194812332306<br>  }<br>}",
          "{<br>  \"number\": 167,<br>  \"values\": [<br>    0.5688186554516352,<br>    0.05927123218881425,<br>    120144.0<br>  ],<br>  \"params\": {<br>    \"pooling\": \"max\",<br>    \"model\": \"GraphConv\",<br>    \"layers\": 10,<br>    \"hidden\": 86,<br>    \"dropout\": 0.40908038996910323,<br>    \"lr\": 0.00034854710630140853,<br>    \"weight_decay\": 0.00012506763423016982<br>  }<br>}",
          "{<br>  \"number\": 169,<br>  \"values\": [<br>    0.6321637059820475,<br>    0.03665808800451947,<br>    242034.0<br>  ],<br>  \"params\": {<br>    \"pooling\": \"max\",<br>    \"model\": \"GAT\",<br>    \"layers\": 11,<br>    \"hidden\": 162,<br>    \"dropout\": 0.30183519502335676,<br>    \"lr\": 3.694441008497883e-05,<br>    \"weight_decay\": 0.00015246938896652446<br>  }<br>}",
          "{<br>  \"number\": 170,<br>  \"values\": [<br>    0.6413627518674283,<br>    0.027879605800012586,<br>    1679.0<br>  ],<br>  \"params\": {<br>    \"pooling\": \"max\",<br>    \"model\": \"GraphConv\",<br>    \"layers\": 2,<br>    \"hidden\": 129,<br>    \"dropout\": 0.35527846175211264,<br>    \"lr\": 0.00017668535167121447,<br>    \"weight_decay\": 1.2105016455680709e-05<br>  }<br>}",
          "{<br>  \"number\": 171,<br>  \"values\": [<br>    0.7029910237900947,<br>    0.022851672839118653,<br>    307352.0<br>  ],<br>  \"params\": {<br>    \"pooling\": \"mean\",<br>    \"model\": \"GraphConv\",<br>    \"layers\": 5,<br>    \"hidden\": 225,<br>    \"dropout\": 0.08958544002505747,<br>    \"lr\": 7.253799398178737e-05,<br>    \"weight_decay\": 1.4552496731812913e-05<br>  }<br>}",
          "{<br>  \"number\": 173,<br>  \"values\": [<br>    0.6452859205322956,<br>    0.02999497834410897,<br>    905.0<br>  ],<br>  \"params\": {<br>    \"pooling\": \"max\",<br>    \"model\": \"GCN\",<br>    \"layers\": 2,<br>    \"hidden\": 129,<br>    \"dropout\": 0.131368901811322,<br>    \"lr\": 0.0011198019846023182,<br>    \"weight_decay\": 3.9830821632639505e-05<br>  }<br>}",
          "{<br>  \"number\": 174,<br>  \"values\": [<br>    0.6945985813822109,<br>    0.025626137718912867,<br>    657108.0<br>  ],<br>  \"params\": {<br>    \"pooling\": \"sum\",<br>    \"model\": \"GraphSAGE\",<br>    \"layers\": 10,<br>    \"hidden\": 202,<br>    \"dropout\": 0.3819502239076682,<br>    \"lr\": 6.517218123631879e-05,<br>    \"weight_decay\": 0.0002272043107501238<br>  }<br>}",
          "{<br>  \"number\": 175,<br>  \"values\": [<br>    0.6917362375243237,<br>    0.017578934153537062,<br>    307352.0<br>  ],<br>  \"params\": {<br>    \"pooling\": \"sum\",<br>    \"model\": \"GraphSAGE\",<br>    \"layers\": 5,<br>    \"hidden\": 225,<br>    \"dropout\": 0.19039545635019806,<br>    \"lr\": 4.7664178327508166e-05,<br>    \"weight_decay\": 3.1058902088110604e-05<br>  }<br>}",
          "{<br>  \"number\": 176,<br>  \"values\": [<br>    0.5967547548804217,<br>    0.0025798757140166884,<br>    13461.0<br>  ],<br>  \"params\": {<br>    \"pooling\": \"max\",<br>    \"model\": \"GAT\",<br>    \"layers\": 10,<br>    \"hidden\": 39,<br>    \"dropout\": 0.40908038996910323,<br>    \"lr\": 5.873489980988648e-05,<br>    \"weight_decay\": 2.7658640423086966e-05<br>  }<br>}",
          "{<br>  \"number\": 177,<br>  \"values\": [<br>    0.6265206201745025,<br>    0.02853555960077836,<br>    15557.0<br>  ],<br>  \"params\": {<br>    \"pooling\": \"sum\",<br>    \"model\": \"GCN\",<br>    \"layers\": 6,<br>    \"hidden\": 61,<br>    \"dropout\": 0.35527846175211264,<br>    \"lr\": 1.8224477441264062e-05,<br>    \"weight_decay\": 1.7394443022885548e-05<br>  }<br>}",
          "{<br>  \"number\": 178,<br>  \"values\": [<br>    0.6478689347812441,<br>    0.03797627267591486,<br>    58448.0<br>  ],<br>  \"params\": {<br>    \"pooling\": \"sum\",<br>    \"model\": \"GraphSAGE\",<br>    \"layers\": 13,<br>    \"hidden\": 51,<br>    \"dropout\": 0.2654577414345409,<br>    \"lr\": 0.003294253758174595,<br>    \"weight_decay\": 3.1058902088110604e-05<br>  }<br>}",
          "{<br>  \"number\": 179,<br>  \"values\": [<br>    0.5734856568953612,<br>    0.02247191011235955,<br>    1126.0<br>  ],<br>  \"params\": {<br>    \"pooling\": \"max\",<br>    \"model\": \"GAT\",<br>    \"layers\": 3,<br>    \"hidden\": 28,<br>    \"dropout\": 0.3002540450582025,<br>    \"lr\": 5.873489980988648e-05,<br>    \"weight_decay\": 0.0003603604180602698<br>  }<br>}",
          "{<br>  \"number\": 180,<br>  \"values\": [<br>    0.6987948025861528,<br>    0.027688155169167006,<br>    120918.0<br>  ],<br>  \"params\": {<br>    \"pooling\": \"max\",<br>    \"model\": \"GraphSAGE\",<br>    \"layers\": 4,<br>    \"hidden\": 172,<br>    \"dropout\": 0.02272719657958644,<br>    \"lr\": 0.0011425832759197013,<br>    \"weight_decay\": 2.0197778619881213e-05<br>  }<br>}",
          "{<br>  \"number\": 184,<br>  \"values\": [<br>    0.6572217688782875,<br>    0.0504801958445798,<br>    31319.0<br>  ],<br>  \"params\": {<br>    \"pooling\": \"max\",<br>    \"model\": \"GraphSAGE\",<br>    \"layers\": 12,<br>    \"hidden\": 39,<br>    \"dropout\": 0.2845962344682601,<br>    \"lr\": 7.634057819436414e-05,<br>    \"weight_decay\": 5.078840312172419e-05<br>  }<br>}",
          "{<br>  \"number\": 185,<br>  \"values\": [<br>    0.6234417174063147,<br>    0.01782373987822483,<br>    877.0<br>  ],<br>  \"params\": {<br>    \"pooling\": \"max\",<br>    \"model\": \"GCN\",<br>    \"layers\": 2,<br>    \"hidden\": 125,<br>    \"dropout\": 0.2509732582508559,<br>    \"lr\": 0.00023324202179904693,<br>    \"weight_decay\": 7.537409796948517e-05<br>  }<br>}",
          "{<br>  \"number\": 189,<br>  \"values\": [<br>    0.47694432239030815,<br>    0.09570020714330543,<br>    18.0<br>  ],<br>  \"params\": {<br>    \"pooling\": \"max\",<br>    \"model\": \"GraphSAGE\",<br>    \"layers\": 1,<br>    \"hidden\": 153,<br>    \"dropout\": 0.40908038996910323,<br>    \"lr\": 0.00034854710630140853,<br>    \"weight_decay\": 0.00012506763423016982<br>  }<br>}",
          "{<br>  \"number\": 191,<br>  \"values\": [<br>    0.7137656142112863,<br>    0.02275437825623,<br>    1017677.0<br>  ],<br>  \"params\": {<br>    \"pooling\": \"max\",<br>    \"model\": \"GraphSAGE\",<br>    \"layers\": 12,<br>    \"hidden\": 225,<br>    \"dropout\": 0.08958544002505747,<br>    \"lr\": 2.6339600626148037e-05,<br>    \"weight_decay\": 3.395416199763484e-05<br>  }<br>}",
          "{<br>  \"number\": 193,<br>  \"values\": [<br>    0.6786548239281904,<br>    0.01947460925240091,<br>    413574.0<br>  ],<br>  \"params\": {<br>    \"pooling\": \"sum\",<br>    \"model\": \"GAT\",<br>    \"layers\": 13,<br>    \"hidden\": 192,<br>    \"dropout\": 0.2845962344682601,<br>    \"lr\": 5.873489980988648e-05,<br>    \"weight_decay\": 0.00012072363549157465<br>  }<br>}",
          "{<br>  \"number\": 195,<br>  \"values\": [<br>    0.6799604544598581,<br>    0.02265708367334135,<br>    2771.0<br>  ],<br>  \"params\": {<br>    \"pooling\": \"mean\",<br>    \"model\": \"GraphConv\",<br>    \"layers\": 2,<br>    \"hidden\": 213,<br>    \"dropout\": 0.3691311423508859,<br>    \"lr\": 0.0032604733343728322,<br>    \"weight_decay\": 1.8588058693263078e-05<br>  }<br>}",
          "{<br>  \"number\": 197,<br>  \"values\": [<br>    0.6262193208210407,<br>    0.02284853430418682,<br>    47607.0<br>  ],<br>  \"params\": {<br>    \"pooling\": \"mean\",<br>    \"model\": \"GAT\",<br>    \"layers\": 5,<br>    \"hidden\": 123,<br>    \"dropout\": 0.34571602684254676,<br>    \"lr\": 7.253799398178737e-05,<br>    \"weight_decay\": 1.8588058693263078e-05<br>  }<br>}",
          "{<br>  \"number\": 198,<br>  \"values\": [<br>    0.6529878852551629,<br>    0.024897997614713396,<br>    877.0<br>  ],<br>  \"params\": {<br>    \"pooling\": \"max\",<br>    \"model\": \"GCN\",<br>    \"layers\": 2,<br>    \"hidden\": 125,<br>    \"dropout\": 0.2509732582508559,<br>    \"lr\": 0.0011198019846023182,<br>    \"weight_decay\": 7.537409796948517e-05<br>  }<br>}",
          "{<br>  \"number\": 199,<br>  \"values\": [<br>    0.5206703910614525,<br>    0.07797376184796936,<br>    14.0<br>  ],<br>  \"params\": {<br>    \"pooling\": \"max\",<br>    \"model\": \"GAT\",<br>    \"layers\": 1,<br>    \"hidden\": 213,<br>    \"dropout\": 0.3002540450582025,<br>    \"lr\": 5.873489980988648e-05,<br>    \"weight_decay\": 6.132673138916684e-05<br>  }<br>}",
          "{<br>  \"number\": 200,<br>  \"values\": [<br>    0.6034398342853556,<br>    0.01987320318875152,<br>    743.0<br>  ],<br>  \"params\": {<br>    \"pooling\": \"mean\",<br>    \"model\": \"GraphConv\",<br>    \"layers\": 2,<br>    \"hidden\": 57,<br>    \"dropout\": 0.3402316256430622,<br>    \"lr\": 0.00017668535167121447,<br>    \"weight_decay\": 1.8588058693263078e-05<br>  }<br>}"
         ],
         "type": "scatter3d",
         "x": [
          0.6919371037599649,
          0.6110162576109472,
          0.5961835415228172,
          0.6375368777854498,
          0.6305222522126672,
          0.6178362940179525,
          0.6587408197853242,
          0.5541585587847593,
          0.6443820224719101,
          0.5276473542150524,
          0.6332998556273931,
          0.6321637059820475,
          0.6234417174063147,
          0.6764044943820224,
          0.7148892097169042,
          0.711791475739125,
          0.6208084865984559,
          0.5186491745653129,
          0.6711505869060321,
          0.6599899566882179,
          0.5961835415228172,
          0.6688908417550687,
          0.5644968928504175,
          0.5640449438202247,
          0.6816364321134893,
          0.7014939426275815,
          0.6634831460674158,
          0.690631473228297,
          0.6801707363002949,
          0.662026865859017,
          0.6214456091896303,
          0.5813508254346871,
          0.6424989015127738,
          0.5241290565563995,
          0.6206703910614525,
          0.6882430481451258,
          0.735311656518737,
          0.5961835415228172,
          0.47937982549745783,
          0.6610131190760153,
          0.6726413909986817,
          0.6363630657209215,
          0.5206703910614525,
          0.5068576988261879,
          0.7223243989705606,
          0.518765300357793,
          0.7097959975492225,
          0.5590201493942628,
          0.6576486096290253,
          0.6724844642520872,
          0.5921160002510828,
          0.6932521498964284,
          0.6234542715460423,
          0.6719101123595506,
          0.6229238591425523,
          0.6781871822233382,
          0.6761094720984244,
          0.6205793735484276,
          0.6681972255351203,
          0.6917362375243237,
          0.6619766493001067,
          0.6195530726256984,
          0.6802366455338648,
          0.537496076831335,
          0.6588286987634171,
          0.6896522503295462,
          0.6523539011989203,
          0.6206829452011802,
          0.6513401544159187,
          0.678808612139853,
          0.6898154541460046,
          0.5700395455401419,
          0.6734668256857699,
          0.6990427468457725,
          0.6616627958069174,
          0.6793892411022535,
          0.5961835415228172,
          0.702808988764045,
          0.5815203063210094,
          0.6443474985876594,
          0.5605643085807546,
          0.6608813006088758,
          0.5206703910614525,
          0.735638064151654,
          0.5961835415228172,
          0.5961835415228172,
          0.5328761534115874,
          0.6585430920846149,
          0.6539325842696629,
          0.6236174753625008,
          0.5644058753373925,
          0.6479254284100182,
          0.7283660787144561,
          0.5961835415228172,
          0.6114650681062079,
          0.6164082606239407,
          0.6632665871571151,
          0.6465256418303935,
          0.597752808988764,
          0.6262318749607683,
          0.6653474358169607,
          0.7001506496767309,
          0.7175789341535371,
          0.7147511141799008,
          0.6568576988261879,
          0.7159939740129309,
          0.6528089887640449,
          0.6134109597639821,
          0.6520682945201179,
          0.6265206201745026,
          0.6549526081225283,
          0.6986033519553072,
          0.485845207457159,
          0.6600087878978094,
          0.683186868369845,
          0.7259870692360806,
          0.607711380327663,
          0.522136086874647,
          0.5778631796796373,
          0.6443820224719101,
          0.6835603540267403,
          0.5961835415228172,
          0.6591739376059256,
          0.6861088443914382,
          0.6264264641265458,
          0.6615937480384156,
          0.6293296089385475,
          0.6035967610319503,
          0.6368934781244115,
          0.559779674847781,
          0.6391061452513966,
          0.683896177264453,
          0.701123595505618,
          0.7186836984495637,
          0.5206703910614525,
          0.6459010733789468,
          0.702953361370912,
          0.5961835415228172,
          0.5206703910614525,
          0.5688186554516352,
          0.6321637059820475,
          0.6413627518674283,
          0.7029910237900947,
          0.6452859205322956,
          0.6945985813822109,
          0.6917362375243237,
          0.5967547548804217,
          0.6265206201745025,
          0.6478689347812441,
          0.5734856568953612,
          0.6987948025861528,
          0.6572217688782875,
          0.6234417174063147,
          0.47694432239030815,
          0.7137656142112863,
          0.6786548239281904,
          0.6799604544598581,
          0.6262193208210407,
          0.6529878852551629,
          0.5206703910614525,
          0.6034398342853556
         ],
         "y": [
          0.026040424329922818,
          0.011907601531605028,
          0.0006779235452890053,
          0.03324963906848283,
          0.035016634235139066,
          0.028651685393258408,
          0.044134078212290484,
          0.07280773335007226,
          0.021910112359550593,
          0.051004331178206075,
          0.03329985562739313,
          0.03665808800451947,
          0.01782373987822483,
          0.03258426966292133,
          0.03033707865168539,
          0.026410771451886195,
          0.01856129558721986,
          0.07685644341221518,
          0.03483146067415732,
          0.05730337078651687,
          0.0006779235452890053,
          0.013834661979787832,
          0.02292385914255224,
          0.04943820224719098,
          0.02735233193145442,
          0.037078651685393205,
          0.03202247191011243,
          0.03296403238968049,
          0.04342476931768252,
          0.0537034712196347,
          0.020566819408700032,
          0.0262946456594062,
          0.026768564434122177,
          0.07977528089887642,
          0.02359550561797752,
          0.044341221517795404,
          0.036598455840813504,
          0.0006779235452890053,
          0.10039545540141859,
          0.026181658401857988,
          0.024326784257108824,
          0.025842696629213457,
          0.07797376184796936,
          0.0787678111857385,
          0.055756073065093226,
          0.08393383968363569,
          0.032316864166928416,
          0.09233255916138344,
          0.029213483146067476,
          0.01778607745904215,
          0.0505806289624004,
          0.013489423137279521,
          0.0196629213483146,
          0.043820224719101075,
          0.013031197037223052,
          0.04316113238340347,
          0.028384909924047463,
          0.023240851170673538,
          0.04865670704914954,
          0.02094972067039108,
          0.03465256418303936,
          0.024047454648170208,
          0.038663611825999644,
          0.030754503797627286,
          0.035955056179775235,
          0.033472475048647365,
          0.04315171677860774,
          0.02313727951792105,
          0.038547486033519485,
          0.038359173937605906,
          0.01645533864791915,
          0.06442156801205207,
          0.04200615152846654,
          0.027132634486221885,
          0.03496641767622882,
          0.026580252338208543,
          0.0006779235452890053,
          0.06235955056179776,
          0.028711317556964433,
          0.025246374992153597,
          0.04371037599648481,
          0.02451195781809057,
          0.07797376184796936,
          0.033390873140418054,
          0.0006779235452890053,
          0.0006779235452890053,
          0.07498901512773837,
          0.03471533488167716,
          0.05842696629213484,
          0.017999497834410905,
          0.07829075387609064,
          0.038936664365074425,
          0.033984056242546024,
          0.0006779235452890053,
          0.02561358357918525,
          0.019546795555834606,
          0.04641265457284538,
          0.038867616596572674,
          0.0022471910112359383,
          0.018366706421442558,
          0.03501035716527534,
          0.05745402046324766,
          0.047589605172305594,
          0.025987069236080573,
          0.05999623375808183,
          0.031724311091582524,
          0.03258426966292133,
          0.0549839934718474,
          0.03258426966292133,
          0.025164773083924452,
          0.03718222333814575,
          0.04467076768564432,
          0.07685644341221518,
          0.05235076266398847,
          0.028049086686334823,
          0.04284100182035022,
          0.016700144372606918,
          0.09696503672085868,
          0.021917122875130146,
          0.021910112359550593,
          0.028799196535057525,
          0.0006779235452890053,
          0.0250957253154227,
          0.03667064214424709,
          0.017437700081601892,
          0.0252808988764045,
          0.026850166342351378,
          0.01932709811060196,
          0.0245339275626138,
          0.01999560605109535,
          0.03617475362500788,
          0.03632854183667067,
          0.04157303370786514,
          0.04789718159563122,
          0.07797376184796936,
          0.027528089887640494,
          0.041155608561923296,
          0.0006779235452890053,
          0.07797376184796936,
          0.05927123218881425,
          0.03665808800451947,
          0.027879605800012586,
          0.022851672839118653,
          0.02999497834410897,
          0.025626137718912867,
          0.017578934153537062,
          0.0025798757140166884,
          0.02853555960077836,
          0.03797627267591486,
          0.02247191011235955,
          0.027688155169167006,
          0.0504801958445798,
          0.01782373987822483,
          0.09570020714330543,
          0.02275437825623,
          0.01947460925240091,
          0.02265708367334135,
          0.02284853430418682,
          0.024897997614713396,
          0.07797376184796936,
          0.01987320318875152
         ],
         "z": [
          37928,
          58448,
          105680,
          1824,
          198226,
          2173,
          8635,
          214283,
          4164,
          30277,
          267350,
          83328,
          877,
          22518,
          160469,
          339607,
          377759,
          1195,
          226374,
          303394,
          1276085,
          186552,
          7562,
          46628,
          4695,
          139090,
          192908,
          116731,
          13134,
          72235,
          151835,
          1136657,
          1679,
          721122,
          60819,
          185982,
          417790,
          357526,
          18,
          1126,
          268764,
          493495,
          14,
          1120,
          90294,
          636,
          164002,
          66035,
          186995,
          2173,
          35090,
          681010,
          743,
          13910,
          15557,
          244642,
          30685,
          15557,
          554940,
          307352,
          157915,
          372265,
          93939,
          35247,
          271914,
          168459,
          6778,
          884,
          2685,
          42664,
          16281,
          491558,
          8635,
          95031,
          737268,
          217958,
          15010,
          320567,
          377759,
          1679,
          229077,
          195131,
          14,
          377759,
          154419,
          676887,
          1962,
          1742753,
          366149,
          1136657,
          617568,
          186995,
          242034,
          224912,
          4695,
          4164,
          370851,
          7993,
          37481,
          11914,
          86409,
          172012,
          619258,
          561623,
          595650,
          528608,
          30807,
          3239,
          33648,
          6971,
          53594,
          376134,
          1126,
          676887,
          307352,
          92657,
          862227,
          678533,
          1416,
          4164,
          475958,
          47607,
          25267,
          93939,
          210332,
          21499,
          3148,
          80502,
          42664,
          657108,
          723558,
          17675,
          595650,
          49748,
          14,
          1416,
          49748,
          21218,
          14,
          120144,
          242034,
          1679,
          307352,
          905,
          657108,
          307352,
          13461,
          15557,
          58448,
          1126,
          120918,
          31319,
          877,
          18,
          1017677,
          413574,
          2771,
          47607,
          877,
          14,
          743
         ]
        },
        {
         "hovertemplate": "%{text}<extra>Best Trial</extra>",
         "marker": {
          "color": [
           14,
           31,
           41,
           46,
           57,
           74,
           77,
           79,
           83,
           85,
           95,
           101,
           102,
           106,
           108,
           110,
           112,
           113,
           118,
           119,
           122,
           124,
           130,
           147,
           151,
           159,
           161,
           164,
           168,
           172,
           181,
           182,
           183,
           186,
           187,
           188,
           190,
           192,
           194,
           196,
           201,
           202
          ],
          "colorbar": {
           "title": {
            "text": "Best Trial"
           },
           "x": 1.1,
           "xpad": 40
          },
          "colorscale": [
           [
            0,
            "rgb(255,245,240)"
           ],
           [
            0.125,
            "rgb(254,224,210)"
           ],
           [
            0.25,
            "rgb(252,187,161)"
           ],
           [
            0.375,
            "rgb(252,146,114)"
           ],
           [
            0.5,
            "rgb(251,106,74)"
           ],
           [
            0.625,
            "rgb(239,59,44)"
           ],
           [
            0.75,
            "rgb(203,24,29)"
           ],
           [
            0.875,
            "rgb(165,15,21)"
           ],
           [
            1,
            "rgb(103,0,13)"
           ]
          ],
          "line": {
           "color": "Grey",
           "width": 0.5
          }
         },
         "mode": "markers",
         "showlegend": false,
         "text": [
          "{<br>  \"number\": 14,<br>  \"values\": [<br>    0.6733977779172682,<br>    0.021348314606741525,<br>    730.0<br>  ],<br>  \"params\": {<br>    \"pooling\": \"sum\",<br>    \"model\": \"GraphSAGE\",<br>    \"layers\": 2,<br>    \"hidden\": 56,<br>    \"dropout\": 0.3580313058948699,<br>    \"lr\": 0.0016670769747313794,<br>    \"weight_decay\": 3.395416199763484e-05<br>  }<br>}",
          "{<br>  \"number\": 31,<br>  \"values\": [<br>    0.7184483083296718,<br>    0.02568576988261878,<br>    184673.0<br>  ],<br>  \"params\": {<br>    \"pooling\": \"max\",<br>    \"model\": \"GraphSAGE\",<br>    \"layers\": 4,<br>    \"hidden\": 213,<br>    \"dropout\": 0.02272719657958644,<br>    \"lr\": 0.0011425832759197013,<br>    \"weight_decay\": 2.0197778619881213e-05<br>  }<br>}",
          "{<br>  \"number\": 41,<br>  \"values\": [<br>    0.7428629715648736,<br>    0.039159500345238796,<br>    112052.0<br>  ],<br>  \"params\": {<br>    \"pooling\": \"max\",<br>    \"model\": \"GCN\",<br>    \"layers\": 6,<br>    \"hidden\": 166,<br>    \"dropout\": 0.2206078770251621,<br>    \"lr\": 0.001734613470581729,<br>    \"weight_decay\": 1.5905348635357757e-05<br>  }<br>}",
          "{<br>  \"number\": 46,<br>  \"values\": [<br>    0.7220607620362813,<br>    0.01614148515472985,<br>    1742753.0<br>  ],<br>  \"params\": {<br>    \"pooling\": \"max\",<br>    \"model\": \"GraphSAGE\",<br>    \"layers\": 16,<br>    \"hidden\": 249,<br>    \"dropout\": 0.2845962344682601,<br>    \"lr\": 7.634057819436414e-05,<br>    \"weight_decay\": 0.00012072363549157465<br>  }<br>}",
          "{<br>  \"number\": 57,<br>  \"values\": [<br>    0.7302272299290691,<br>    0.029624631222145537,<br>    17675.0<br>  ],<br>  \"params\": {<br>    \"pooling\": \"max\",<br>    \"model\": \"GCN\",<br>    \"layers\": 3,<br>    \"hidden\": 129,<br>    \"dropout\": 0.2654577414345409,<br>    \"lr\": 0.003294253758174595,<br>    \"weight_decay\": 0.00012506763423016982<br>  }<br>}",
          "{<br>  \"number\": 74,<br>  \"values\": [<br>    0.7404494382022472,<br>    0.030337078651685445,<br>    92657.0<br>  ],<br>  \"params\": {<br>    \"pooling\": \"max\",<br>    \"model\": \"GCN\",<br>    \"layers\": 4,<br>    \"hidden\": 213,<br>    \"dropout\": 0.02272719657958644,<br>    \"lr\": 0.0032604733343728322,<br>    \"weight_decay\": 2.0197778619881213e-05<br>  }<br>}",
          "{<br>  \"number\": 77,<br>  \"values\": [<br>    0.7083265331743143,<br>    0.011697319691168218,<br>    97176.0<br>  ],<br>  \"params\": {<br>    \"pooling\": \"max\",<br>    \"model\": \"GraphSAGE\",<br>    \"layers\": 4,<br>    \"hidden\": 154,<br>    \"dropout\": 0.3795999504660035,<br>    \"lr\": 2.738779533532476e-05,<br>    \"weight_decay\": 0.0002272043107501238<br>  }<br>}",
          "{<br>  \"number\": 79,<br>  \"values\": [<br>    0.5206703910614525,<br>    0.07797376184796934,<br>    10.0<br>  ],<br>  \"params\": {<br>    \"pooling\": \"mean\",<br>    \"model\": \"GCN\",<br>    \"layers\": 1,<br>    \"hidden\": 39,<br>    \"dropout\": 0.3002540450582025,<br>    \"lr\": 5.873489980988648e-05,<br>    \"weight_decay\": 5.078840312172419e-05<br>  }<br>}",
          "{<br>  \"number\": 83,<br>  \"values\": [<br>    0.6679775280898876,<br>    0.01853932584269663,<br>    1416.0<br>  ],<br>  \"params\": {<br>    \"pooling\": \"max\",<br>    \"model\": \"GCN\",<br>    \"layers\": 2,<br>    \"hidden\": 202,<br>    \"dropout\": 0.3819502239076682,<br>    \"lr\": 0.0011198019846023182,<br>    \"weight_decay\": 0.00035663468540544387<br>  }<br>}",
          "{<br>  \"number\": 85,<br>  \"values\": [<br>    0.6442156801205197,<br>    0.017977528089887562,<br>    1640.0<br>  ],<br>  \"params\": {<br>    \"pooling\": \"sum\",<br>    \"model\": \"GraphSAGE\",<br>    \"layers\": 2,<br>    \"hidden\": 126,<br>    \"dropout\": 0.3819502239076682,<br>    \"lr\": 0.0011198019846023182,<br>    \"weight_decay\": 0.00035663468540544387<br>  }<br>}",
          "{<br>  \"number\": 95,<br>  \"values\": [<br>    0.39247065469838677,<br>    0.010900131818467163,<br>    18.0<br>  ],<br>  \"params\": {<br>    \"pooling\": \"max\",<br>    \"model\": \"GraphConv\",<br>    \"layers\": 1,<br>    \"hidden\": 86,<br>    \"dropout\": 0.17787971029667876,<br>    \"lr\": 1.8224477441264062e-05,<br>    \"weight_decay\": 0.00012506763423016982<br>  }<br>}",
          "{<br>  \"number\": 101,<br>  \"values\": [<br>    0.7155828259368526,<br>    0.02906597200426847,<br>    111969.0<br>  ],<br>  \"params\": {<br>    \"pooling\": \"max\",<br>    \"model\": \"GraphSAGE\",<br>    \"layers\": 10,<br>    \"hidden\": 83,<br>    \"dropout\": 0.40908038996910323,<br>    \"lr\": 0.00034854710630140853,<br>    \"weight_decay\": 5.611235223719251e-05<br>  }<br>}",
          "{<br>  \"number\": 102,<br>  \"values\": [<br>    0.5195530726256983,<br>    0.07685644341221518,<br>    14.0<br>  ],<br>  \"params\": {<br>    \"pooling\": \"sum\",<br>    \"model\": \"GAT\",<br>    \"layers\": 1,<br>    \"hidden\": 192,<br>    \"dropout\": 0.131368901811322,<br>    \"lr\": 5.873489980988648e-05,<br>    \"weight_decay\": 5.078840312172419e-05<br>  }<br>}",
          "{<br>  \"number\": 106,<br>  \"values\": [<br>    0.6672242797062331,<br>    0.018168978720733142,<br>    905.0<br>  ],<br>  \"params\": {<br>    \"pooling\": \"sum\",<br>    \"model\": \"GCN\",<br>    \"layers\": 2,<br>    \"hidden\": 129,<br>    \"dropout\": 0.3819502239076682,<br>    \"lr\": 0.0011198019846023182,<br>    \"weight_decay\": 0.00012506763423016982<br>  }<br>}",
          "{<br>  \"number\": 108,<br>  \"values\": [<br>    0.7164553386479191,<br>    0.035556462243424736,<br>    13621.0<br>  ],<br>  \"params\": {<br>    \"pooling\": \"max\",<br>    \"model\": \"GAT\",<br>    \"layers\": 12,<br>    \"hidden\": 35,<br>    \"dropout\": 0.042903132778255304,<br>    \"lr\": 0.0007752876778420954,<br>    \"weight_decay\": 1.2105016455680709e-05<br>  }<br>}",
          "{<br>  \"number\": 110,<br>  \"values\": [<br>    0.597752808988764,<br>    0.0022471910112359383,<br>    13461.0<br>  ],<br>  \"params\": {<br>    \"pooling\": \"max\",<br>    \"model\": \"GAT\",<br>    \"layers\": 10,<br>    \"hidden\": 39,<br>    \"dropout\": 0.3002540450582025,<br>    \"lr\": 5.873489980988648e-05,<br>    \"weight_decay\": 5.078840312172419e-05<br>  }<br>}",
          "{<br>  \"number\": 112,<br>  \"values\": [<br>    0.6069549934090765,<br>    0.009202184420312565,<br>    326225.0<br>  ],<br>  \"params\": {<br>    \"pooling\": \"sum\",<br>    \"model\": \"GCN\",<br>    \"layers\": 10,<br>    \"hidden\": 201,<br>    \"dropout\": 0.48696866703054204,<br>    \"lr\": 0.0033478597194746738,<br>    \"weight_decay\": 0.0002272043107501238<br>  }<br>}",
          "{<br>  \"number\": 113,<br>  \"values\": [<br>    0.6079342163078275,<br>    0.010181407319063474,<br>    429.0<br>  ],<br>  \"params\": {<br>    \"pooling\": \"max\",<br>    \"model\": \"GCN\",<br>    \"layers\": 2,<br>    \"hidden\": 61,<br>    \"dropout\": 0.2509732582508559,<br>    \"lr\": 0.00023324202179904693,<br>    \"weight_decay\": 0.0008780111821128803<br>  }<br>}",
          "{<br>  \"number\": 118,<br>  \"values\": [<br>    0.7318121900696755,<br>    0.033356349256167206,<br>    14575.0<br>  ],<br>  \"params\": {<br>    \"pooling\": \"max\",<br>    \"model\": \"GCN\",<br>    \"layers\": 6,<br>    \"hidden\": 59,<br>    \"dropout\": 0.2206078770251621,<br>    \"lr\": 0.001734613470581729,<br>    \"weight_decay\": 1.5905348635357757e-05<br>  }<br>}",
          "{<br>  \"number\": 119,<br>  \"values\": [<br>    0.4680873768125039,<br>    0.06449689285041746,<br>    18.0<br>  ],<br>  \"params\": {<br>    \"pooling\": \"sum\",<br>    \"model\": \"GraphSAGE\",<br>    \"layers\": 1,<br>    \"hidden\": 167,<br>    \"dropout\": 0.48696866703054204,<br>    \"lr\": 7.226706799175234e-05,<br>    \"weight_decay\": 3.395416199763484e-05<br>  }<br>}",
          "{<br>  \"number\": 122,<br>  \"values\": [<br>    0.6949438202247191,<br>    0.01067415730337079,<br>    1679.0<br>  ],<br>  \"params\": {<br>    \"pooling\": \"max\",<br>    \"model\": \"GraphSAGE\",<br>    \"layers\": 2,<br>    \"hidden\": 129,<br>    \"dropout\": 0.131368901811322,<br>    \"lr\": 0.00017668535167121447,<br>    \"weight_decay\": 2.0197778619881213e-05<br>  }<br>}",
          "{<br>  \"number\": 124,<br>  \"values\": [<br>    0.6870786516853933,<br>    0.028651685393258408,<br>    1126.0<br>  ],<br>  \"params\": {<br>    \"pooling\": \"max\",<br>    \"model\": \"GAT\",<br>    \"layers\": 3,<br>    \"hidden\": 28,<br>    \"dropout\": 0.3458995720950345,<br>    \"lr\": 0.004168547612134959,<br>    \"weight_decay\": 6.132673138916684e-05<br>  }<br>}",
          "{<br>  \"number\": 130,<br>  \"values\": [<br>    0.5201085933086436,<br>    0.07741196409516038,<br>    10.0<br>  ],<br>  \"params\": {<br>    \"pooling\": \"max\",<br>    \"model\": \"GCN\",<br>    \"layers\": 1,<br>    \"hidden\": 192,<br>    \"dropout\": 0.131368901811322,<br>    \"lr\": 2.9587595953952443e-05,<br>    \"weight_decay\": 5.078840312172419e-05<br>  }<br>}",
          "{<br>  \"number\": 147,<br>  \"values\": [<br>    0.6038164584771828,<br>    0.008310840499654748,<br>    135065.0<br>  ],<br>  \"params\": {<br>    \"pooling\": \"max\",<br>    \"model\": \"GCN\",<br>    \"layers\": 10,<br>    \"hidden\": 129,<br>    \"dropout\": 0.4042368849574701,<br>    \"lr\": 2.9587595953952443e-05,<br>    \"weight_decay\": 0.00012506763423016982<br>  }<br>}",
          "{<br>  \"number\": 151,<br>  \"values\": [<br>    0.6045728453957693,<br>    0.009067227418241175,<br>    43357.0<br>  ],<br>  \"params\": {<br>    \"pooling\": \"max\",<br>    \"model\": \"GCN\",<br>    \"layers\": 4,<br>    \"hidden\": 145,<br>    \"dropout\": 0.2509732582508559,<br>    \"lr\": 2.738779533532476e-05,<br>    \"weight_decay\": 7.537409796948517e-05<br>  }<br>}",
          "{<br>  \"number\": 159,<br>  \"values\": [<br>    0.5217877094972068,<br>    0.07909108028372352,<br>    10.0<br>  ],<br>  \"params\": {<br>    \"pooling\": \"sum\",<br>    \"model\": \"GCN\",<br>    \"layers\": 1,<br>    \"hidden\": 192,<br>    \"dropout\": 0.31295010933780354,<br>    \"lr\": 5.873489980988648e-05,<br>    \"weight_decay\": 1.7394443022885548e-05<br>  }<br>}",
          "{<br>  \"number\": 161,<br>  \"values\": [<br>    0.5201085933086436,<br>    0.07741196409516038,<br>    10.0<br>  ],<br>  \"params\": {<br>    \"pooling\": \"max\",<br>    \"model\": \"GCN\",<br>    \"layers\": 1,<br>    \"hidden\": 39,<br>    \"dropout\": 0.3002540450582025,<br>    \"lr\": 5.873489980988648e-05,<br>    \"weight_decay\": 6.132673138916684e-05<br>  }<br>}",
          "{<br>  \"number\": 164,<br>  \"values\": [<br>    0.6417770384784383,<br>    0.017773523319314533,<br>    366.0<br>  ],<br>  \"params\": {<br>    \"pooling\": \"max\",<br>    \"model\": \"GraphConv\",<br>    \"layers\": 2,<br>    \"hidden\": 28,<br>    \"dropout\": 0.131368901811322,<br>    \"lr\": 0.004168547612134959,<br>    \"weight_decay\": 1.2105016455680709e-05<br>  }<br>}",
          "{<br>  \"number\": 168,<br>  \"values\": [<br>    0.5201085933086436,<br>    0.07741196409516038,<br>    10.0<br>  ],<br>  \"params\": {<br>    \"pooling\": \"max\",<br>    \"model\": \"GCN\",<br>    \"layers\": 1,<br>    \"hidden\": 39,<br>    \"dropout\": 0.3002540450582025,<br>    \"lr\": 5.873489980988648e-05,<br>    \"weight_decay\": 9.073779469165414e-05<br>  }<br>}",
          "{<br>  \"number\": 172,<br>  \"values\": [<br>    0.5195530726256983,<br>    0.07685644341221518,<br>    14.0<br>  ],<br>  \"params\": {<br>    \"pooling\": \"sum\",<br>    \"model\": \"GAT\",<br>    \"layers\": 1,<br>    \"hidden\": 192,<br>    \"dropout\": 0.018497273560558913,<br>    \"lr\": 5.873489980988648e-05,<br>    \"weight_decay\": 5.078840312172419e-05<br>  }<br>}",
          "{<br>  \"number\": 181,<br>  \"values\": [<br>    0.6971753185612957,<br>    0.044761785198669246,<br>    1493.0<br>  ],<br>  \"params\": {<br>    \"pooling\": \"max\",<br>    \"model\": \"GCN\",<br>    \"layers\": 2,<br>    \"hidden\": 213,<br>    \"dropout\": 0.131368901811322,<br>    \"lr\": 0.0032604733343728322,<br>    \"weight_decay\": 2.0197778619881213e-05<br>  }<br>}",
          "{<br>  \"number\": 182,<br>  \"values\": [<br>    0.7429979285669448,<br>    0.04606741573033707,<br>    174127.0<br>  ],<br>  \"params\": {<br>    \"pooling\": \"max\",<br>    \"model\": \"GCN\",<br>    \"layers\": 13,<br>    \"hidden\": 125,<br>    \"dropout\": 0.2509732582508559,<br>    \"lr\": 0.00023324202179904693,<br>    \"weight_decay\": 7.537409796948517e-05<br>  }<br>}",
          "{<br>  \"number\": 183,<br>  \"values\": [<br>    0.5206703910614525,<br>    0.07797376184796934,<br>    10.0<br>  ],<br>  \"params\": {<br>    \"pooling\": \"sum\",<br>    \"model\": \"GCN\",<br>    \"layers\": 1,<br>    \"hidden\": 192,<br>    \"dropout\": 0.35527846175211264,<br>    \"lr\": 2.9587595953952443e-05,<br>    \"weight_decay\": 5.078840312172419e-05<br>  }<br>}",
          "{<br>  \"number\": 186,<br>  \"values\": [<br>    0.4680873768125039,<br>    0.06449689285041746,<br>    18.0<br>  ],<br>  \"params\": {<br>    \"pooling\": \"sum\",<br>    \"model\": \"GraphConv\",<br>    \"layers\": 1,<br>    \"hidden\": 192,<br>    \"dropout\": 0.10483994013594095,<br>    \"lr\": 5.873489980988648e-05,<br>    \"weight_decay\": 5.078840312172419e-05<br>  }<br>}",
          "{<br>  \"number\": 187,<br>  \"values\": [<br>    0.5206703910614525,<br>    0.07797376184796934,<br>    10.0<br>  ],<br>  \"params\": {<br>    \"pooling\": \"sum\",<br>    \"model\": \"GCN\",<br>    \"layers\": 1,<br>    \"hidden\": 61,<br>    \"dropout\": 0.17787971029667876,<br>    \"lr\": 3.694441008497883e-05,<br>    \"weight_decay\": 0.0005016334056776034<br>  }<br>}",
          "{<br>  \"number\": 188,<br>  \"values\": [<br>    0.5978595191764484,<br>    0.0023539011989203162,<br>    248746.0<br>  ],<br>  \"params\": {<br>    \"pooling\": \"mean\",<br>    \"model\": \"GCN\",<br>    \"layers\": 6,<br>    \"hidden\": 248,<br>    \"dropout\": 0.48696866703054204,<br>    \"lr\": 1.8501167813053236e-05,<br>    \"weight_decay\": 1.5905348635357757e-05<br>  }<br>}",
          "{<br>  \"number\": 190,<br>  \"values\": [<br>    0.716019082292386,<br>    0.01714267779800388,<br>    561623.0<br>  ],<br>  \"params\": {<br>    \"pooling\": \"max\",<br>    \"model\": \"GraphSAGE\",<br>    \"layers\": 12,<br>    \"hidden\": 167,<br>    \"dropout\": 0.35527846175211264,<br>    \"lr\": 3.694441008497883e-05,<br>    \"weight_decay\": 0.0005016334056776034<br>  }<br>}",
          "{<br>  \"number\": 192,<br>  \"values\": [<br>    0.5961835415228172,<br>    0.0006779235452890053,<br>    6909.0<br>  ],<br>  \"params\": {<br>    \"pooling\": \"max\",<br>    \"model\": \"GAT\",<br>    \"layers\": 6,<br>    \"hidden\": 39,<br>    \"dropout\": 0.09668686736156418,<br>    \"lr\": 3.694441008497883e-05,<br>    \"weight_decay\": 0.0005016334056776034<br>  }<br>}",
          "{<br>  \"number\": 194,<br>  \"values\": [<br>    0.5206703910614525,<br>    0.07797376184796934,<br>    10.0<br>  ],<br>  \"params\": {<br>    \"pooling\": \"mean\",<br>    \"model\": \"GCN\",<br>    \"layers\": 1,<br>    \"hidden\": 39,<br>    \"dropout\": 0.3002540450582025,<br>    \"lr\": 5.873489980988648e-05,<br>    \"weight_decay\": 9.745284724391313e-05<br>  }<br>}",
          "{<br>  \"number\": 196,<br>  \"values\": [<br>    0.5195530726256983,<br>    0.07685644341221518,<br>    14.0<br>  ],<br>  \"params\": {<br>    \"pooling\": \"sum\",<br>    \"model\": \"GAT\",<br>    \"layers\": 1,<br>    \"hidden\": 106,<br>    \"dropout\": 0.3002540450582025,<br>    \"lr\": 5.873489980988648e-05,<br>    \"weight_decay\": 1.2987399618484287e-05<br>  }<br>}",
          "{<br>  \"number\": 201,<br>  \"values\": [<br>    0.7084269662921348,<br>    0.021910112359550593,<br>    91041.0<br>  ],<br>  \"params\": {<br>    \"pooling\": \"max\",<br>    \"model\": \"GraphSAGE\",<br>    \"layers\": 4,<br>    \"hidden\": 149,<br>    \"dropout\": 0.3819502239076682,<br>    \"lr\": 2.738779533532476e-05,<br>    \"weight_decay\": 0.0002272043107501238<br>  }<br>}",
          "{<br>  \"number\": 202,<br>  \"values\": [<br>    0.55561797752809,<br>    0.10056179775280905,<br>    10.0<br>  ],<br>  \"params\": {<br>    \"pooling\": \"max\",<br>    \"model\": \"GCN\",<br>    \"layers\": 1,<br>    \"hidden\": 192,<br>    \"dropout\": 0.13717884523254487,<br>    \"lr\": 0.0019759026310723696,<br>    \"weight_decay\": 5.078840312172419e-05<br>  }<br>}"
         ],
         "type": "scatter3d",
         "x": [
          0.6733977779172682,
          0.7184483083296718,
          0.7428629715648736,
          0.7220607620362813,
          0.7302272299290691,
          0.7404494382022472,
          0.7083265331743143,
          0.5206703910614525,
          0.6679775280898876,
          0.6442156801205197,
          0.39247065469838677,
          0.7155828259368526,
          0.5195530726256983,
          0.6672242797062331,
          0.7164553386479191,
          0.597752808988764,
          0.6069549934090765,
          0.6079342163078275,
          0.7318121900696755,
          0.4680873768125039,
          0.6949438202247191,
          0.6870786516853933,
          0.5201085933086436,
          0.6038164584771828,
          0.6045728453957693,
          0.5217877094972068,
          0.5201085933086436,
          0.6417770384784383,
          0.5201085933086436,
          0.5195530726256983,
          0.6971753185612957,
          0.7429979285669448,
          0.5206703910614525,
          0.4680873768125039,
          0.5206703910614525,
          0.5978595191764484,
          0.716019082292386,
          0.5961835415228172,
          0.5206703910614525,
          0.5195530726256983,
          0.7084269662921348,
          0.55561797752809
         ],
         "y": [
          0.021348314606741525,
          0.02568576988261878,
          0.039159500345238796,
          0.01614148515472985,
          0.029624631222145537,
          0.030337078651685445,
          0.011697319691168218,
          0.07797376184796934,
          0.01853932584269663,
          0.017977528089887562,
          0.010900131818467163,
          0.02906597200426847,
          0.07685644341221518,
          0.018168978720733142,
          0.035556462243424736,
          0.0022471910112359383,
          0.009202184420312565,
          0.010181407319063474,
          0.033356349256167206,
          0.06449689285041746,
          0.01067415730337079,
          0.028651685393258408,
          0.07741196409516038,
          0.008310840499654748,
          0.009067227418241175,
          0.07909108028372352,
          0.07741196409516038,
          0.017773523319314533,
          0.07741196409516038,
          0.07685644341221518,
          0.044761785198669246,
          0.04606741573033707,
          0.07797376184796934,
          0.06449689285041746,
          0.07797376184796934,
          0.0023539011989203162,
          0.01714267779800388,
          0.0006779235452890053,
          0.07797376184796934,
          0.07685644341221518,
          0.021910112359550593,
          0.10056179775280905
         ],
         "z": [
          730,
          184673,
          112052,
          1742753,
          17675,
          92657,
          97176,
          10,
          1416,
          1640,
          18,
          111969,
          14,
          905,
          13621,
          13461,
          326225,
          429,
          14575,
          18,
          1679,
          1126,
          10,
          135065,
          43357,
          10,
          10,
          366,
          10,
          14,
          1493,
          174127,
          10,
          18,
          10,
          248746,
          561623,
          6909,
          10,
          14,
          91041,
          10
         ]
        }
       ],
       "layout": {
        "scene": {
         "xaxis": {
          "title": {
           "text": "Objective 0"
          }
         },
         "yaxis": {
          "title": {
           "text": "Objective 1"
          }
         },
         "zaxis": {
          "title": {
           "text": "Objective 2"
          }
         }
        },
        "template": {
         "data": {
          "bar": [
           {
            "error_x": {
             "color": "#2a3f5f"
            },
            "error_y": {
             "color": "#2a3f5f"
            },
            "marker": {
             "line": {
              "color": "#E5ECF6",
              "width": 0.5
             },
             "pattern": {
              "fillmode": "overlay",
              "size": 10,
              "solidity": 0.2
             }
            },
            "type": "bar"
           }
          ],
          "barpolar": [
           {
            "marker": {
             "line": {
              "color": "#E5ECF6",
              "width": 0.5
             },
             "pattern": {
              "fillmode": "overlay",
              "size": 10,
              "solidity": 0.2
             }
            },
            "type": "barpolar"
           }
          ],
          "carpet": [
           {
            "aaxis": {
             "endlinecolor": "#2a3f5f",
             "gridcolor": "white",
             "linecolor": "white",
             "minorgridcolor": "white",
             "startlinecolor": "#2a3f5f"
            },
            "baxis": {
             "endlinecolor": "#2a3f5f",
             "gridcolor": "white",
             "linecolor": "white",
             "minorgridcolor": "white",
             "startlinecolor": "#2a3f5f"
            },
            "type": "carpet"
           }
          ],
          "choropleth": [
           {
            "colorbar": {
             "outlinewidth": 0,
             "ticks": ""
            },
            "type": "choropleth"
           }
          ],
          "contour": [
           {
            "colorbar": {
             "outlinewidth": 0,
             "ticks": ""
            },
            "colorscale": [
             [
              0,
              "#0d0887"
             ],
             [
              0.1111111111111111,
              "#46039f"
             ],
             [
              0.2222222222222222,
              "#7201a8"
             ],
             [
              0.3333333333333333,
              "#9c179e"
             ],
             [
              0.4444444444444444,
              "#bd3786"
             ],
             [
              0.5555555555555556,
              "#d8576b"
             ],
             [
              0.6666666666666666,
              "#ed7953"
             ],
             [
              0.7777777777777778,
              "#fb9f3a"
             ],
             [
              0.8888888888888888,
              "#fdca26"
             ],
             [
              1,
              "#f0f921"
             ]
            ],
            "type": "contour"
           }
          ],
          "contourcarpet": [
           {
            "colorbar": {
             "outlinewidth": 0,
             "ticks": ""
            },
            "type": "contourcarpet"
           }
          ],
          "heatmap": [
           {
            "colorbar": {
             "outlinewidth": 0,
             "ticks": ""
            },
            "colorscale": [
             [
              0,
              "#0d0887"
             ],
             [
              0.1111111111111111,
              "#46039f"
             ],
             [
              0.2222222222222222,
              "#7201a8"
             ],
             [
              0.3333333333333333,
              "#9c179e"
             ],
             [
              0.4444444444444444,
              "#bd3786"
             ],
             [
              0.5555555555555556,
              "#d8576b"
             ],
             [
              0.6666666666666666,
              "#ed7953"
             ],
             [
              0.7777777777777778,
              "#fb9f3a"
             ],
             [
              0.8888888888888888,
              "#fdca26"
             ],
             [
              1,
              "#f0f921"
             ]
            ],
            "type": "heatmap"
           }
          ],
          "heatmapgl": [
           {
            "colorbar": {
             "outlinewidth": 0,
             "ticks": ""
            },
            "colorscale": [
             [
              0,
              "#0d0887"
             ],
             [
              0.1111111111111111,
              "#46039f"
             ],
             [
              0.2222222222222222,
              "#7201a8"
             ],
             [
              0.3333333333333333,
              "#9c179e"
             ],
             [
              0.4444444444444444,
              "#bd3786"
             ],
             [
              0.5555555555555556,
              "#d8576b"
             ],
             [
              0.6666666666666666,
              "#ed7953"
             ],
             [
              0.7777777777777778,
              "#fb9f3a"
             ],
             [
              0.8888888888888888,
              "#fdca26"
             ],
             [
              1,
              "#f0f921"
             ]
            ],
            "type": "heatmapgl"
           }
          ],
          "histogram": [
           {
            "marker": {
             "pattern": {
              "fillmode": "overlay",
              "size": 10,
              "solidity": 0.2
             }
            },
            "type": "histogram"
           }
          ],
          "histogram2d": [
           {
            "colorbar": {
             "outlinewidth": 0,
             "ticks": ""
            },
            "colorscale": [
             [
              0,
              "#0d0887"
             ],
             [
              0.1111111111111111,
              "#46039f"
             ],
             [
              0.2222222222222222,
              "#7201a8"
             ],
             [
              0.3333333333333333,
              "#9c179e"
             ],
             [
              0.4444444444444444,
              "#bd3786"
             ],
             [
              0.5555555555555556,
              "#d8576b"
             ],
             [
              0.6666666666666666,
              "#ed7953"
             ],
             [
              0.7777777777777778,
              "#fb9f3a"
             ],
             [
              0.8888888888888888,
              "#fdca26"
             ],
             [
              1,
              "#f0f921"
             ]
            ],
            "type": "histogram2d"
           }
          ],
          "histogram2dcontour": [
           {
            "colorbar": {
             "outlinewidth": 0,
             "ticks": ""
            },
            "colorscale": [
             [
              0,
              "#0d0887"
             ],
             [
              0.1111111111111111,
              "#46039f"
             ],
             [
              0.2222222222222222,
              "#7201a8"
             ],
             [
              0.3333333333333333,
              "#9c179e"
             ],
             [
              0.4444444444444444,
              "#bd3786"
             ],
             [
              0.5555555555555556,
              "#d8576b"
             ],
             [
              0.6666666666666666,
              "#ed7953"
             ],
             [
              0.7777777777777778,
              "#fb9f3a"
             ],
             [
              0.8888888888888888,
              "#fdca26"
             ],
             [
              1,
              "#f0f921"
             ]
            ],
            "type": "histogram2dcontour"
           }
          ],
          "mesh3d": [
           {
            "colorbar": {
             "outlinewidth": 0,
             "ticks": ""
            },
            "type": "mesh3d"
           }
          ],
          "parcoords": [
           {
            "line": {
             "colorbar": {
              "outlinewidth": 0,
              "ticks": ""
             }
            },
            "type": "parcoords"
           }
          ],
          "pie": [
           {
            "automargin": true,
            "type": "pie"
           }
          ],
          "scatter": [
           {
            "fillpattern": {
             "fillmode": "overlay",
             "size": 10,
             "solidity": 0.2
            },
            "type": "scatter"
           }
          ],
          "scatter3d": [
           {
            "line": {
             "colorbar": {
              "outlinewidth": 0,
              "ticks": ""
             }
            },
            "marker": {
             "colorbar": {
              "outlinewidth": 0,
              "ticks": ""
             }
            },
            "type": "scatter3d"
           }
          ],
          "scattercarpet": [
           {
            "marker": {
             "colorbar": {
              "outlinewidth": 0,
              "ticks": ""
             }
            },
            "type": "scattercarpet"
           }
          ],
          "scattergeo": [
           {
            "marker": {
             "colorbar": {
              "outlinewidth": 0,
              "ticks": ""
             }
            },
            "type": "scattergeo"
           }
          ],
          "scattergl": [
           {
            "marker": {
             "colorbar": {
              "outlinewidth": 0,
              "ticks": ""
             }
            },
            "type": "scattergl"
           }
          ],
          "scattermapbox": [
           {
            "marker": {
             "colorbar": {
              "outlinewidth": 0,
              "ticks": ""
             }
            },
            "type": "scattermapbox"
           }
          ],
          "scatterpolar": [
           {
            "marker": {
             "colorbar": {
              "outlinewidth": 0,
              "ticks": ""
             }
            },
            "type": "scatterpolar"
           }
          ],
          "scatterpolargl": [
           {
            "marker": {
             "colorbar": {
              "outlinewidth": 0,
              "ticks": ""
             }
            },
            "type": "scatterpolargl"
           }
          ],
          "scatterternary": [
           {
            "marker": {
             "colorbar": {
              "outlinewidth": 0,
              "ticks": ""
             }
            },
            "type": "scatterternary"
           }
          ],
          "surface": [
           {
            "colorbar": {
             "outlinewidth": 0,
             "ticks": ""
            },
            "colorscale": [
             [
              0,
              "#0d0887"
             ],
             [
              0.1111111111111111,
              "#46039f"
             ],
             [
              0.2222222222222222,
              "#7201a8"
             ],
             [
              0.3333333333333333,
              "#9c179e"
             ],
             [
              0.4444444444444444,
              "#bd3786"
             ],
             [
              0.5555555555555556,
              "#d8576b"
             ],
             [
              0.6666666666666666,
              "#ed7953"
             ],
             [
              0.7777777777777778,
              "#fb9f3a"
             ],
             [
              0.8888888888888888,
              "#fdca26"
             ],
             [
              1,
              "#f0f921"
             ]
            ],
            "type": "surface"
           }
          ],
          "table": [
           {
            "cells": {
             "fill": {
              "color": "#EBF0F8"
             },
             "line": {
              "color": "white"
             }
            },
            "header": {
             "fill": {
              "color": "#C8D4E3"
             },
             "line": {
              "color": "white"
             }
            },
            "type": "table"
           }
          ]
         },
         "layout": {
          "annotationdefaults": {
           "arrowcolor": "#2a3f5f",
           "arrowhead": 0,
           "arrowwidth": 1
          },
          "autotypenumbers": "strict",
          "coloraxis": {
           "colorbar": {
            "outlinewidth": 0,
            "ticks": ""
           }
          },
          "colorscale": {
           "diverging": [
            [
             0,
             "#8e0152"
            ],
            [
             0.1,
             "#c51b7d"
            ],
            [
             0.2,
             "#de77ae"
            ],
            [
             0.3,
             "#f1b6da"
            ],
            [
             0.4,
             "#fde0ef"
            ],
            [
             0.5,
             "#f7f7f7"
            ],
            [
             0.6,
             "#e6f5d0"
            ],
            [
             0.7,
             "#b8e186"
            ],
            [
             0.8,
             "#7fbc41"
            ],
            [
             0.9,
             "#4d9221"
            ],
            [
             1,
             "#276419"
            ]
           ],
           "sequential": [
            [
             0,
             "#0d0887"
            ],
            [
             0.1111111111111111,
             "#46039f"
            ],
            [
             0.2222222222222222,
             "#7201a8"
            ],
            [
             0.3333333333333333,
             "#9c179e"
            ],
            [
             0.4444444444444444,
             "#bd3786"
            ],
            [
             0.5555555555555556,
             "#d8576b"
            ],
            [
             0.6666666666666666,
             "#ed7953"
            ],
            [
             0.7777777777777778,
             "#fb9f3a"
            ],
            [
             0.8888888888888888,
             "#fdca26"
            ],
            [
             1,
             "#f0f921"
            ]
           ],
           "sequentialminus": [
            [
             0,
             "#0d0887"
            ],
            [
             0.1111111111111111,
             "#46039f"
            ],
            [
             0.2222222222222222,
             "#7201a8"
            ],
            [
             0.3333333333333333,
             "#9c179e"
            ],
            [
             0.4444444444444444,
             "#bd3786"
            ],
            [
             0.5555555555555556,
             "#d8576b"
            ],
            [
             0.6666666666666666,
             "#ed7953"
            ],
            [
             0.7777777777777778,
             "#fb9f3a"
            ],
            [
             0.8888888888888888,
             "#fdca26"
            ],
            [
             1,
             "#f0f921"
            ]
           ]
          },
          "colorway": [
           "#636efa",
           "#EF553B",
           "#00cc96",
           "#ab63fa",
           "#FFA15A",
           "#19d3f3",
           "#FF6692",
           "#B6E880",
           "#FF97FF",
           "#FECB52"
          ],
          "font": {
           "color": "#2a3f5f"
          },
          "geo": {
           "bgcolor": "white",
           "lakecolor": "white",
           "landcolor": "#E5ECF6",
           "showlakes": true,
           "showland": true,
           "subunitcolor": "white"
          },
          "hoverlabel": {
           "align": "left"
          },
          "hovermode": "closest",
          "mapbox": {
           "style": "light"
          },
          "paper_bgcolor": "white",
          "plot_bgcolor": "#E5ECF6",
          "polar": {
           "angularaxis": {
            "gridcolor": "white",
            "linecolor": "white",
            "ticks": ""
           },
           "bgcolor": "#E5ECF6",
           "radialaxis": {
            "gridcolor": "white",
            "linecolor": "white",
            "ticks": ""
           }
          },
          "scene": {
           "xaxis": {
            "backgroundcolor": "#E5ECF6",
            "gridcolor": "white",
            "gridwidth": 2,
            "linecolor": "white",
            "showbackground": true,
            "ticks": "",
            "zerolinecolor": "white"
           },
           "yaxis": {
            "backgroundcolor": "#E5ECF6",
            "gridcolor": "white",
            "gridwidth": 2,
            "linecolor": "white",
            "showbackground": true,
            "ticks": "",
            "zerolinecolor": "white"
           },
           "zaxis": {
            "backgroundcolor": "#E5ECF6",
            "gridcolor": "white",
            "gridwidth": 2,
            "linecolor": "white",
            "showbackground": true,
            "ticks": "",
            "zerolinecolor": "white"
           }
          },
          "shapedefaults": {
           "line": {
            "color": "#2a3f5f"
           }
          },
          "ternary": {
           "aaxis": {
            "gridcolor": "white",
            "linecolor": "white",
            "ticks": ""
           },
           "baxis": {
            "gridcolor": "white",
            "linecolor": "white",
            "ticks": ""
           },
           "bgcolor": "#E5ECF6",
           "caxis": {
            "gridcolor": "white",
            "linecolor": "white",
            "ticks": ""
           }
          },
          "title": {
           "x": 0.05
          },
          "xaxis": {
           "automargin": true,
           "gridcolor": "white",
           "linecolor": "white",
           "ticks": "",
           "title": {
            "standoff": 15
           },
           "zerolinecolor": "white",
           "zerolinewidth": 2
          },
          "yaxis": {
           "automargin": true,
           "gridcolor": "white",
           "linecolor": "white",
           "ticks": "",
           "title": {
            "standoff": 15
           },
           "zerolinecolor": "white",
           "zerolinewidth": 2
          }
         }
        },
        "title": {
         "text": "Pareto-front Plot"
        }
       }
      }
     },
     "metadata": {},
     "output_type": "display_data"
    }
   ],
   "source": [
    "plot_pareto_front(study)"
   ]
  },
  {
   "cell_type": "code",
   "execution_count": 6,
   "metadata": {},
   "outputs": [],
   "source": [
    "import numpy as np"
   ]
  },
  {
   "cell_type": "code",
   "execution_count": 7,
   "metadata": {},
   "outputs": [
    {
     "data": {
      "text/plain": [
       "[0.7318121900696755, 0.033356349256167206, 14575.0]"
      ]
     },
     "execution_count": 7,
     "metadata": {},
     "output_type": "execute_result"
    }
   ],
   "source": [
    "accuracies = np.array([trial.values[0] for trial in study.best_trials])\n",
    "errors = np.array([trial.values[1] for trial in study.best_trials])\n",
    "f1s = np.array([trial.values[2] for trial in study.best_trials])\n",
    "\n",
    "accuracies_mean = accuracies.mean()\n",
    "accuracies_std = accuracies.std()\n",
    "errors_mean = errors.mean()\n",
    "errors_std = errors.std()\n",
    "f1s_mean = f1s.mean()\n",
    "fls_std = f1s.std()\n",
    "\n",
    "def utility(trial):\n",
    "    z_acc = (trial.values[0] - accuracies_mean) / accuracies_std\n",
    "    z_err = -(trial.values[1] - errors_mean) / errors_std\n",
    "    z_f1 = -(trial.values[2] - f1s_mean) / fls_std\n",
    "\n",
    "    return z_acc + 3*z_f1 #+ z_err + z_f1\n",
    "\n",
    "best_trial = max(study.best_trials, key=utility)\n",
    "best_trial.values"
   ]
  },
  {
   "cell_type": "code",
   "execution_count": 8,
   "metadata": {},
   "outputs": [
    {
     "data": {
      "text/plain": [
       "118"
      ]
     },
     "execution_count": 8,
     "metadata": {},
     "output_type": "execute_result"
    }
   ],
   "source": [
    "best_trial.number"
   ]
  },
  {
   "cell_type": "code",
   "execution_count": 9,
   "metadata": {},
   "outputs": [
    {
     "data": {
      "text/plain": [
       "{'pooling': 'max',\n",
       " 'model': 'GCN',\n",
       " 'layers': 6,\n",
       " 'hidden': 59,\n",
       " 'dropout': 0.2206078770251621,\n",
       " 'lr': 0.001734613470581729,\n",
       " 'weight_decay': 1.5905348635357757e-05}"
      ]
     },
     "execution_count": 9,
     "metadata": {},
     "output_type": "execute_result"
    }
   ],
   "source": [
    "best_trial.params"
   ]
  }
 ],
 "metadata": {
  "kernelspec": {
   "display_name": "qfe_exp_venv",
   "language": "python",
   "name": "python3"
  },
  "language_info": {
   "codemirror_mode": {
    "name": "ipython",
    "version": 3
   },
   "file_extension": ".py",
   "mimetype": "text/x-python",
   "name": "python",
   "nbconvert_exporter": "python",
   "pygments_lexer": "ipython3",
   "version": "3.10.12"
  }
 },
 "nbformat": 4,
 "nbformat_minor": 2
}
