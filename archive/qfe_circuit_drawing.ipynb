{
 "cells": [
  {
   "cell_type": "code",
   "execution_count": 1,
   "metadata": {},
   "outputs": [],
   "source": [
    "import os\n",
    "os.chdir(\"../\")"
   ]
  },
  {
   "cell_type": "code",
   "execution_count": 2,
   "metadata": {},
   "outputs": [],
   "source": [
    "import pennylane as qml\n",
    "import torch\n",
    "from model import build_qfe_circuit, QFE_MeasureMethod"
   ]
  },
  {
   "cell_type": "code",
   "execution_count": 3,
   "metadata": {},
   "outputs": [],
   "source": [
    "dev = qml.device(\"default.qubit\", wires=4)\n",
    "torch_layer = build_qfe_circuit(dev, 4, 2, QFE_MeasureMethod.EXP)"
   ]
  },
  {
   "cell_type": "code",
   "execution_count": 8,
   "metadata": {},
   "outputs": [
    {
     "name": "stdout",
     "output_type": "stream",
     "text": [
      "0: ─╭AngleEmbedding(M0)──RX(5.88)─╭●───────╭X──RX(3.73)─╭●───────╭X─┤  <Z>\n",
      "1: ─├AngleEmbedding(M0)──RX(5.67)─╰X─╭●────│───RX(4.20)─╰X─╭●────│──┤  <Z>\n",
      "2: ─├AngleEmbedding(M0)──RX(1.57)────╰X─╭●─│───RX(0.49)────╰X─╭●─│──┤  <Z>\n",
      "3: ─╰AngleEmbedding(M0)──RX(5.14)───────╰X─╰●──RX(4.71)───────╰X─╰●─┤  <Z>\n",
      "\n",
      "M0 = \n",
      "tensor([0.1000, 0.2000, 0.3000, 0.4000], requires_grad=True)\n"
     ]
    }
   ],
   "source": [
    "import torch\n",
    "\n",
    "x = torch.tensor([0.1, 0.2, 0.3, 0.4], requires_grad=True)\n",
    "\n",
    "kwargs = {\n",
    "    **{torch_layer.input_arg: x},\n",
    "    **{arg: weight.to(x) for arg, weight in torch_layer.qnode_weights.items()},\n",
    "}\n",
    "drawer = qml.draw(torch_layer.qnode)\n",
    "print(drawer(**kwargs))"
   ]
  },
  {
   "cell_type": "code",
   "execution_count": null,
   "metadata": {},
   "outputs": [],
   "source": []
  }
 ],
 "metadata": {
  "kernelspec": {
   "display_name": "qfe_exp_venv",
   "language": "python",
   "name": "python3"
  },
  "language_info": {
   "codemirror_mode": {
    "name": "ipython",
    "version": 3
   },
   "file_extension": ".py",
   "mimetype": "text/x-python",
   "name": "python",
   "nbconvert_exporter": "python",
   "pygments_lexer": "ipython3",
   "version": "3.10.12"
  }
 },
 "nbformat": 4,
 "nbformat_minor": 2
}
