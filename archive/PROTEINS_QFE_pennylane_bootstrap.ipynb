{
 "cells": [
  {
   "cell_type": "code",
   "execution_count": 1,
   "metadata": {},
   "outputs": [],
   "source": [
    "import pennylane as qml\n",
    "import torch\n",
    "import torch.nn.functional as F\n",
    "from torch_geometric.datasets import TUDataset\n",
    "from torch_geometric.loader import DataLoader\n",
    "from torch_geometric.nn import GCN\n",
    "from torch_geometric.nn import global_mean_pool\n",
    "from torch_geometric.utils import scatter\n",
    "import numpy as np\n",
    "import math\n",
    "from tqdm import tqdm\n",
    "import matplotlib.pyplot as plt\n",
    "from scipy.stats import bootstrap"
   ]
  },
  {
   "cell_type": "code",
   "execution_count": 2,
   "metadata": {},
   "outputs": [
    {
     "name": "stderr",
     "output_type": "stream",
     "text": [
      "Downloading https://www.chrsmrrs.com/graphkerneldatasets/PROTEINS.zip\n",
      "Extracting data/PROTEINS/PROTEINS/PROTEINS.zip\n",
      "Processing...\n",
      "Done!\n"
     ]
    },
    {
     "data": {
      "text/plain": [
       "(3, 2, 1113)"
      ]
     },
     "execution_count": 2,
     "metadata": {},
     "output_type": "execute_result"
    }
   ],
   "source": [
    "ds = TUDataset(\"./data/PROTEINS\", \"PROTEINS\")\n",
    "ds.num_features, ds.num_classes, len(ds)"
   ]
  },
  {
   "cell_type": "code",
   "execution_count": 3,
   "metadata": {},
   "outputs": [],
   "source": [
    "def build_qfe_circuit(dev, n_qubits, n_layers):\n",
    "    @qml.qnode(dev, interface=\"torch\") #, diff_method=\"parameter-shift\")\n",
    "    def qfe_circuit(inputs, weights):\n",
    "        qml.templates.AngleEmbedding(inputs, wires=range(n_qubits))\n",
    "        qml.templates.StronglyEntanglingLayers(weights, wires=range(n_qubits))\n",
    "        return [qml.expval(qml.PauliZ(i)) for i in range(n_qubits)] #qml.probs(wires=range(n_qubits)) #qml.state() #[qml.expval(qml.PauliZ(i)) for i in range(n_qubits)]\n",
    "    \n",
    "    weight_shapes = {\"weights\": (n_layers, n_qubits, 3)}\n",
    "    return qml.qnn.TorchLayer(qfe_circuit, weight_shapes)\n",
    "\n",
    "class QFE(torch.nn.Module):\n",
    "    def __init__(self, in_features):\n",
    "        super().__init__()\n",
    "        self.wires = in_features\n",
    "        self.dev = qml.device(\"default.qubit\", wires=self.wires)\n",
    "        self.qfe = build_qfe_circuit(self.dev, self.wires, 2)\n",
    "    \n",
    "    def forward(self, x):\n",
    "        return self.qfe(x)"
   ]
  },
  {
   "cell_type": "code",
   "execution_count": 4,
   "metadata": {},
   "outputs": [],
   "source": [
    "class QFE_GCN(torch.nn.Module):\n",
    "    def __init__(self, in_features, out_features):\n",
    "        super().__init__()\n",
    "        # self.qfe = QFE(in_features)\n",
    "        # self.lin = torch.nn.Linear(in_features, in_features)\n",
    "\n",
    "        self.gcn = GCN(\n",
    "            in_channels=in_features,\n",
    "            hidden_channels=64,\n",
    "            num_layers=4,\n",
    "            dropout = 0.1,\n",
    "            out_channels=out_features\n",
    "        )\n",
    "    \n",
    "    def forward(self, data):\n",
    "        x = data.x\n",
    "        # x = self.lin(x)\n",
    "        # x = self.qfe(x.to(device=\"cpu\")).to(device=x.device)\n",
    "\n",
    "        x = self.gcn(x, data.edge_index, batch=data.batch)\n",
    "        \n",
    "        # x = global_mean_pool(x, data.batch)\n",
    "        x = scatter(x, data.batch, dim=0, reduce=\"mean\")\n",
    "        x = F.log_softmax(x, dim=1)\n",
    "\n",
    "        # out = torch.zeros(data.num_graphs, 2, device=x.device)\n",
    "\n",
    "        # for i in range(data.num_graphs):\n",
    "        #     out[i] = x[data.batch == i].mean(dim=0)\n",
    "        \n",
    "        # out = F.log_softmax(out, dim=1)\n",
    "        # x = out\n",
    "        \n",
    "        return x"
   ]
  },
  {
   "cell_type": "code",
   "execution_count": 6,
   "metadata": {},
   "outputs": [
    {
     "name": "stdout",
     "output_type": "stream",
     "text": [
      "Model 0\n"
     ]
    },
    {
     "name": "stderr",
     "output_type": "stream",
     "text": [
      "  0%|          | 0/60 [00:00<?, ?it/s]"
     ]
    },
    {
     "name": "stderr",
     "output_type": "stream",
     "text": [
      "100%|██████████| 60/60 [00:03<00:00, 19.46it/s]"
     ]
    },
    {
     "name": "stdout",
     "output_type": "stream",
     "text": [
      "\n",
      "Accuracy: 0.7410714626312256\n",
      "\n"
     ]
    },
    {
     "name": "stderr",
     "output_type": "stream",
     "text": [
      "\n"
     ]
    }
   ],
   "source": [
    "device = torch.device('cuda' if torch.cuda.is_available() else 'cpu')\n",
    "\n",
    "# Need to measure model performance varience.\n",
    "performance = []\n",
    "for i in range(1):\n",
    "    print(f\"Model {i}\")\n",
    "\n",
    "    ds = ds.shuffle()\n",
    "    break1 = int(len(ds) * 0.8)\n",
    "    break2 = int(len(ds) * 0.9)\n",
    "    training_data = ds[:break1]\n",
    "    validation_data = ds[break1:break2]\n",
    "    test_data = ds[break2:]\n",
    "    training_loader = DataLoader(training_data, batch_size=2048, shuffle=True)\n",
    "    validation_loader = DataLoader(validation_data, batch_size=128, shuffle=True)\n",
    "    test_loader = DataLoader(test_data, batch_size=128, shuffle=True)\n",
    "\n",
    "    model = QFE_GCN(3, 2).to(device)\n",
    "    optimizer = torch.optim.Adam(model.parameters(), lr=0.01, weight_decay=5e-4)\n",
    "\n",
    "    losses = []\n",
    "\n",
    "    model.train()\n",
    "    for epoch in tqdm(range(60)):\n",
    "        for batch in training_loader:\n",
    "            optimizer.zero_grad()\n",
    "            out = model(batch.to(device))\n",
    "            loss = F.cross_entropy(out, batch.y)\n",
    "            loss.backward()\n",
    "            losses.append(loss.detach().cpu())\n",
    "            optimizer.step()\n",
    "\n",
    "    model.eval()\n",
    "    correct = 0\n",
    "    total = 0\n",
    "    for batch in test_loader:\n",
    "        out = model(batch.to(device))\n",
    "        print()\n",
    "        correct += sum(out.argmax(dim=1) == batch.y)\n",
    "        total += len(batch.y)\n",
    "    print(f\"Accuracy: {correct/total}\\n\")\n",
    "    performance.append((correct/total).detach().cpu())"
   ]
  },
  {
   "cell_type": "code",
   "execution_count": 7,
   "metadata": {},
   "outputs": [
    {
     "data": {
      "text/plain": [
       "[<matplotlib.lines.Line2D at 0x7ff29b40bb20>]"
      ]
     },
     "execution_count": 7,
     "metadata": {},
     "output_type": "execute_result"
    },
    {
     "data": {
      "image/png": "[encoded data removed]",
      "text/plain": [
       "<Figure size 640x480 with 1 Axes>"
      ]
     },
     "metadata": {},
     "output_type": "display_data"
    }
   ],
   "source": [
    "plt.plot(losses)"
   ]
  },
  {
   "cell_type": "code",
   "execution_count": 13,
   "metadata": {},
   "outputs": [
    {
     "data": {
      "text/plain": [
       "(array([1., 2., 0., 1., 1., 0., 0., 0., 3., 2.]),\n",
       " array([0.65178573, 0.65982145, 0.66785717, 0.67589289, 0.68392861,\n",
       "        0.69196427, 0.69999999, 0.70803571, 0.71607143, 0.72410715,\n",
       "        0.73214287]),\n",
       " <BarContainer object of 10 artists>)"
      ]
     },
     "execution_count": 13,
     "metadata": {},
     "output_type": "execute_result"
    },
    {
     "data": {
      "image/png": "[encoded data removed]",
      "text/plain": [
       "<Figure size 640x480 with 1 Axes>"
      ]
     },
     "metadata": {},
     "output_type": "display_data"
    }
   ],
   "source": [
    "plt.hist(performance)"
   ]
  },
  {
   "cell_type": "code",
   "execution_count": null,
   "metadata": {},
   "outputs": [],
   "source": []
  },
  {
   "cell_type": "code",
   "execution_count": 14,
   "metadata": {},
   "outputs": [
    {
     "name": "stdout",
     "output_type": "stream",
     "text": [
      "0.6973214149475098 plus.minus 0.018750011920928955\n"
     ]
    }
   ],
   "source": [
    "res = bootstrap((performance,), np.mean, confidence_level=0.95)\n",
    "m = (res.confidence_interval.low + res.confidence_interval.high)/2\n",
    "e = (res.confidence_interval.high - res.confidence_interval.low)/2\n",
    "print(f\"{m} plus.minus {e}\")"
   ]
  },
  {
   "cell_type": "code",
   "execution_count": 52,
   "metadata": {},
   "outputs": [
    {
     "data": {
      "text/plain": [
       "<BarContainer object of 4 artists>"
      ]
     },
     "execution_count": 52,
     "metadata": {},
     "output_type": "execute_result"
    },
    {
     "data": {
      "image/png": "[encoded data removed]",
      "text/plain": [
       "<Figure size 640x480 with 1 Axes>"
      ]
     },
     "metadata": {},
     "output_type": "display_data"
    }
   ],
   "source": [
    "a = [0.684375017881393,0.704910725355148,0.697785774177378,0.717857182025909]\n",
    "b = [\"QFE + GCN\", \"D + GCN\", \"2^D + GCN\", \"GCN only\"]\n",
    "plt.ylim(0, 1)\n",
    "plt.bar(b, a)\n"
   ]
  },
  {
   "cell_type": "code",
   "execution_count": null,
   "metadata": {},
   "outputs": [],
   "source": []
  }
 ],
 "metadata": {
  "kernelspec": {
   "display_name": "qugcn_venv",
   "language": "python",
   "name": "qugcn_venv"
  },
  "language_info": {
   "codemirror_mode": {
    "name": "ipython",
    "version": 3
   },
   "file_extension": ".py",
   "mimetype": "text/x-python",
   "name": "python",
   "nbconvert_exporter": "python",
   "pygments_lexer": "ipython3",
   "version": "3.10.12"
  }
 },
 "nbformat": 4,
 "nbformat_minor": 2
}
