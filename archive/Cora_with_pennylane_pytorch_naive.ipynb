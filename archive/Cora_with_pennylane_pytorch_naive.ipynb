{
 "cells": [
  {
   "cell_type": "code",
   "execution_count": 22,
   "id": "b79454ce-e6b2-4273-ba76-f1179ff281e9",
   "metadata": {},
   "outputs": [],
   "source": [
    "import pennylane as qml\n",
    "import torch\n",
    "import torch.nn.functional as F\n",
    "from torch_geometric.datasets import Planetoid\n",
    "from math import log, ceil\n",
    "from tqdm import tqdm\n",
    "import numpy as np\n",
    "import matplotlib.pyplot as plt"
   ]
  },
  {
   "cell_type": "code",
   "execution_count": 23,
   "id": "0d6f8bcd-a13f-464d-b375-1fe2d1497282",
   "metadata": {},
   "outputs": [
    {
     "data": {
      "text/plain": [
       "(140, 500, 1000)"
      ]
     },
     "execution_count": 23,
     "metadata": {},
     "output_type": "execute_result"
    }
   ],
   "source": [
    "dataset = Planetoid(\"/tmp/Cora\", \"Cora\", split=\"random\", num_train_per_class=int(140/7))\n",
    "(\n",
    "    dataset.train_mask.sum().item(),\n",
    "    dataset.val_mask.sum().item(),\n",
    "    dataset.test_mask.sum().item()\n",
    ")"
   ]
  },
  {
   "cell_type": "code",
   "execution_count": 24,
   "id": "30502b39-8651-4de9-a211-f1867ffc549b",
   "metadata": {},
   "outputs": [
    {
     "data": {
      "text/plain": [
       "11"
      ]
     },
     "execution_count": 24,
     "metadata": {},
     "output_type": "execute_result"
    }
   ],
   "source": [
    "n = ceil(log(dataset.num_features)/log(2))\n",
    "n"
   ]
  },
  {
   "cell_type": "code",
   "execution_count": 25,
   "id": "01b08826-35c3-4278-ab8e-7665a0758062",
   "metadata": {},
   "outputs": [
    {
     "data": {
      "text/plain": [
       "7"
      ]
     },
     "execution_count": 25,
     "metadata": {},
     "output_type": "execute_result"
    }
   ],
   "source": [
    "n_out = dataset.num_classes\n",
    "n_out"
   ]
  },
  {
   "cell_type": "code",
   "execution_count": 26,
   "id": "f35ac4df-84ab-453b-8253-6b238490addd",
   "metadata": {},
   "outputs": [],
   "source": [
    "dev = qml.device(\"default.qubit\", wires=n)"
   ]
  },
  {
   "cell_type": "code",
   "execution_count": 27,
   "id": "7ad10b02-2965-4a1e-aff9-b351d15fcb4e",
   "metadata": {},
   "outputs": [],
   "source": [
    "@qml.qnode(dev, interface=\"torch\")\n",
    "def circuit(inputs, weights):\n",
    "    qml.AmplitudeEmbedding(inputs, wires=range(n), pad_with=0.001, normalize=True)\n",
    "    qml.StronglyEntanglingLayers(weights=weights, wires=range(n))\n",
    "    return [qml.expval(qml.PauliZ(wires=i)) for i in range(n_out)]"
   ]
  },
  {
   "cell_type": "code",
   "execution_count": 46,
   "id": "b6ed216c-64be-4cd3-b692-c94f588d9c5a",
   "metadata": {},
   "outputs": [],
   "source": [
    "# def single(layer, x):\n",
    "#     return layer(x)\n",
    "\n",
    "class QNNModel(torch.nn.Module):\n",
    "    def __init__(self, n_layers):\n",
    "        super().__init__()\n",
    "        \n",
    "        self.q_layer_1 = qml.qnn.TorchLayer(circuit, {\n",
    "            \"weights\": (n_layers, n, 3)\n",
    "        })\n",
    "\n",
    "    def single(self, x):\n",
    "        return self.q_layer_1(x)\n",
    "    \n",
    "    def forward(self, x):\n",
    "        # x = torch.zeros(x.shape[0], n_out)\n",
    "        x = self.q_layer_1(x)\n",
    "        \n",
    "        # with mp.Pool() as p:\n",
    "        #     res = [p.apply_async(single, args=(self.q_layer_1, x)) for x in data.x]\n",
    "        #     for i in tqdm(range(data.x.shape[0])):\n",
    "        #         out[i] = res[i].get()\n",
    "            \n",
    "        return x"
   ]
  },
  {
   "cell_type": "code",
   "execution_count": 15,
   "id": "a1eee18d-ebd3-4dcb-85dd-7dd01f20862f",
   "metadata": {},
   "outputs": [],
   "source": [
    "class ClassicModel(torch.nn.Module):\n",
    "    def __init__(self):\n",
    "        super().__init__()\n",
    "        \n",
    "        self.layer = torch.nn.Linear(dataset.num_features, dataset.num_classes)\n",
    "\n",
    "    def forward(self, x):\n",
    "        x = self.layer(x)\n",
    "        return x"
   ]
  },
  {
   "cell_type": "code",
   "execution_count": 135,
   "id": "9bd299d3-3aa7-482c-88e2-d04dfc5a98b9",
   "metadata": {},
   "outputs": [],
   "source": [
    "device = \"cpu\" # torch.device('cuda' if torch.cuda.is_available() else 'cpu')\n",
    "model = QNNModel(3).to(device)\n",
    "# model = ClassicModel().to(device)\n",
    "data = dataset[0].to(device)\n",
    "optimizer = torch.optim.Adam(model.parameters(), lr=0.01, weight_decay=5e-4)"
   ]
  },
  {
   "cell_type": "code",
   "execution_count": 136,
   "id": "6751ba38",
   "metadata": {},
   "outputs": [
    {
     "name": "stderr",
     "output_type": "stream",
     "text": [
      "100%|██████████| 200/200 [01:30<00:00,  2.21it/s]\n"
     ]
    }
   ],
   "source": [
    "losses = []\n",
    "\n",
    "model.train()\n",
    "for epoch in tqdm(range(200)):\n",
    "    optimizer.zero_grad()\n",
    "    out = model(data.x[data.train_mask])\n",
    "    loss = F.nll_loss(out, data.y[data.train_mask])\n",
    "    loss.backward()\n",
    "    losses.append(loss.detach())\n",
    "    optimizer.step()"
   ]
  },
  {
   "cell_type": "code",
   "execution_count": 137,
   "id": "6b870f28-ba53-49ac-bcd8-7fb922e5e8bd",
   "metadata": {},
   "outputs": [
    {
     "name": "stdout",
     "output_type": "stream",
     "text": [
      "Accuracy: 0.1840\n"
     ]
    }
   ],
   "source": [
    "model.eval()\n",
    "pred = model(data.x[data.test_mask]).argmax(dim=1)\n",
    "correct = (pred == data.y[data.test_mask]).sum()\n",
    "acc = int(correct) / int(data.test_mask.sum())\n",
    "print(f'Accuracy: {acc:.4f}')"
   ]
  },
  {
   "cell_type": "code",
   "execution_count": 132,
   "id": "af7e8af0",
   "metadata": {},
   "outputs": [
    {
     "data": {
      "text/plain": [
       "tensor([[ 2.6582e-02, -2.1774e-02,  3.2051e-03,  2.5405e-02,  2.0161e-02,\n",
       "         -2.7122e-02, -5.5848e-03],\n",
       "        [-3.2759e-02, -1.4809e-03, -1.3429e-02,  2.1579e-02,  5.7676e-03,\n",
       "         -6.4986e-03,  1.1810e-02],\n",
       "        [-5.1531e-02,  3.8589e-03,  2.3539e-02,  1.5666e-02,  3.4829e-02,\n",
       "          1.5287e-02, -2.0084e-02],\n",
       "        [ 1.3137e-03,  5.3849e-03, -2.7352e-02,  1.8210e-02, -1.3130e-02,\n",
       "         -1.2610e-02,  2.4850e-03],\n",
       "        [-7.2420e-03, -2.4225e-03, -2.5376e-02, -3.5187e-03, -1.0344e-02,\n",
       "         -2.4037e-02,  4.5793e-02],\n",
       "        [-7.0797e-03,  8.9204e-03, -2.0440e-02, -2.2538e-02, -2.5399e-02,\n",
       "          1.0036e-02, -1.2509e-02],\n",
       "        [ 9.4537e-03,  3.5388e-02, -4.2877e-03,  1.8536e-03,  2.1698e-02,\n",
       "         -2.5939e-02,  5.6412e-02],\n",
       "        [-4.7975e-02,  5.7970e-02,  4.9904e-03,  1.2816e-02, -1.1772e-03,\n",
       "         -1.1068e-02,  5.2979e-03],\n",
       "        [ 7.4035e-02, -7.4917e-03, -2.2295e-02,  4.7267e-04, -3.8066e-03,\n",
       "          3.3790e-02, -1.7022e-02],\n",
       "        [ 1.3950e-02,  4.4578e-02,  1.3852e-02, -5.8472e-05,  2.9759e-02,\n",
       "          1.6827e-02, -5.0523e-03],\n",
       "        [ 6.9733e-03,  1.5443e-02,  3.4280e-02,  1.3181e-02, -1.3364e-02,\n",
       "          1.9166e-02,  4.3431e-02],\n",
       "        [ 5.8809e-03,  1.3867e-03, -2.4973e-02,  8.2093e-04, -6.7107e-03,\n",
       "          1.3479e-02, -1.9246e-02],\n",
       "        [ 5.4133e-02, -1.4495e-02, -4.3303e-03, -1.7499e-02, -2.0751e-02,\n",
       "          1.2312e-02, -5.2437e-03],\n",
       "        [-2.9218e-03,  1.3492e-02,  1.9298e-03,  2.9642e-02,  3.2172e-02,\n",
       "         -1.1230e-02, -5.2165e-03],\n",
       "        [ 1.0770e-02,  6.5388e-03,  4.9187e-03, -1.6786e-02, -2.1532e-02,\n",
       "          3.9878e-04, -2.3030e-02],\n",
       "        [-1.2979e-02, -4.0744e-02, -5.1835e-02,  2.7769e-02, -8.2355e-03,\n",
       "         -1.9913e-02, -1.5757e-02],\n",
       "        [ 2.9738e-02,  2.5504e-03,  8.1466e-03, -8.4107e-02, -9.5908e-03,\n",
       "         -3.4990e-02,  7.5036e-03],\n",
       "        [-1.0091e-02,  3.7904e-02,  1.4942e-02,  4.3119e-03, -1.2348e-02,\n",
       "          3.3603e-02, -1.5132e-03],\n",
       "        [ 6.0729e-03, -1.0520e-02, -2.6446e-02, -3.3119e-02, -2.9836e-02,\n",
       "          1.9943e-02,  3.3463e-03],\n",
       "        [-1.6424e-03, -6.0668e-04, -1.7541e-02,  1.1822e-02, -1.9753e-02,\n",
       "         -1.8161e-02, -1.4312e-02],\n",
       "        [-2.1287e-02, -7.5421e-03, -2.6473e-02,  6.5752e-02, -4.3537e-03,\n",
       "          3.4453e-02, -3.4523e-03],\n",
       "        [ 3.5983e-03, -1.2427e-02, -4.0630e-03,  8.4183e-03,  3.7647e-02,\n",
       "          2.8337e-02, -2.9982e-03],\n",
       "        [ 1.8657e-02,  1.9888e-02,  2.7728e-02, -2.7920e-02,  3.2885e-02,\n",
       "          1.9222e-03,  1.4625e-02],\n",
       "        [ 6.9704e-03, -3.1363e-02, -1.0371e-02, -2.6638e-02,  9.8129e-03,\n",
       "          1.9776e-02,  2.0160e-02],\n",
       "        [ 1.4214e-02,  1.0610e-02, -7.4596e-03,  9.7078e-03, -4.0942e-02,\n",
       "          2.4752e-02,  4.1040e-02],\n",
       "        [ 2.7804e-02, -1.6918e-02,  4.4542e-02, -4.5284e-03, -2.7087e-03,\n",
       "          2.7658e-02,  1.2336e-02],\n",
       "        [-1.3033e-02, -2.7522e-02,  2.2860e-02, -1.6288e-02,  4.4566e-03,\n",
       "          3.5236e-02,  2.3216e-02],\n",
       "        [-1.9472e-02,  6.7063e-03, -9.4328e-03,  8.3577e-03,  4.2750e-02,\n",
       "         -1.0020e-02,  1.2222e-02],\n",
       "        [-4.1600e-03,  3.0469e-02,  6.1683e-02,  1.8030e-02, -4.3302e-02,\n",
       "          2.2895e-03, -8.7605e-03],\n",
       "        [ 1.8514e-03, -1.4941e-02, -3.3213e-02,  3.1611e-02,  7.4389e-03,\n",
       "         -2.9705e-02, -7.7377e-04],\n",
       "        [ 1.9863e-02, -5.8975e-03, -1.7279e-02,  8.2650e-03,  6.2464e-03,\n",
       "         -2.0183e-02,  3.1163e-02],\n",
       "        [-5.1871e-03,  2.4625e-02,  9.5727e-03, -1.9998e-02,  1.0681e-02,\n",
       "          2.8852e-02,  1.3092e-02],\n",
       "        [-1.7037e-02,  6.7544e-02, -3.1213e-03, -3.9426e-02, -2.2114e-02,\n",
       "          2.2635e-02,  2.0178e-02],\n",
       "        [ 1.2735e-02, -1.0712e-04, -2.8573e-02,  3.5376e-02,  3.4699e-02,\n",
       "         -1.3659e-02,  2.8625e-02],\n",
       "        [-5.2004e-03,  1.2773e-02, -2.4625e-02, -1.1593e-03,  5.4450e-03,\n",
       "          4.9550e-02,  3.1310e-02],\n",
       "        [ 2.3395e-02, -8.8552e-03, -1.7338e-02,  5.8627e-03, -4.4631e-02,\n",
       "          2.9314e-03, -3.0353e-02],\n",
       "        [ 2.5478e-02, -2.4302e-02,  8.8125e-03, -4.4837e-03, -4.3164e-03,\n",
       "          5.0892e-03,  8.4702e-03],\n",
       "        [-3.1434e-04,  6.6462e-03, -1.7683e-02, -1.0879e-02, -8.6153e-03,\n",
       "          6.6611e-02,  1.6302e-02],\n",
       "        [ 2.9116e-02, -1.1200e-02,  2.0991e-02,  3.8981e-02, -8.0532e-03,\n",
       "         -3.4278e-02, -1.4548e-02],\n",
       "        [-1.7492e-02,  2.6702e-02,  8.4923e-03, -1.4014e-02,  1.7206e-02,\n",
       "         -5.2262e-03, -7.1621e-03],\n",
       "        [ 3.9458e-03,  2.7181e-02, -1.3306e-02,  3.3429e-02,  3.1374e-02,\n",
       "         -2.3873e-02, -1.7032e-02],\n",
       "        [ 3.9154e-03,  9.4817e-05, -1.5339e-02,  1.3124e-02, -8.5180e-03,\n",
       "          3.3461e-02, -3.5088e-03],\n",
       "        [-1.0848e-02,  2.7707e-02,  1.2862e-02, -6.8728e-03, -1.5362e-02,\n",
       "          1.2827e-02, -1.9823e-02],\n",
       "        [-3.2761e-03, -5.2760e-03,  1.4538e-03,  2.1596e-03,  2.9243e-02,\n",
       "         -1.1722e-02,  3.1077e-03],\n",
       "        [ 1.5603e-02,  1.3526e-02,  5.8954e-02,  1.6718e-02,  1.6517e-02,\n",
       "          1.9712e-02, -1.5107e-02],\n",
       "        [-2.4864e-02,  4.5850e-02,  9.2580e-03, -1.5479e-02, -1.7415e-02,\n",
       "         -2.8037e-02, -3.3190e-02],\n",
       "        [-2.0398e-02, -1.8500e-03,  1.5873e-02,  4.0290e-02, -7.3945e-03,\n",
       "          6.4685e-03, -1.2086e-02],\n",
       "        [ 2.6298e-03, -1.5140e-02, -7.0923e-03,  2.0282e-02, -5.4147e-03,\n",
       "          3.8722e-02, -3.3565e-02],\n",
       "        [-3.8404e-02, -5.9941e-03,  1.2136e-02,  2.1193e-02,  1.8762e-03,\n",
       "         -1.8512e-02,  7.6253e-04],\n",
       "        [-3.2217e-03,  5.2494e-02,  1.9507e-02, -2.0211e-02, -1.4036e-03,\n",
       "         -2.1797e-02, -1.6441e-02],\n",
       "        [-1.2876e-02,  4.0091e-02, -2.9889e-02,  1.4811e-02,  4.7003e-02,\n",
       "          3.9758e-03, -1.2724e-02],\n",
       "        [-1.0296e-02, -1.9661e-02,  5.4283e-02,  1.2552e-02,  2.9170e-02,\n",
       "         -1.8663e-02, -8.7550e-03],\n",
       "        [ 9.4681e-03, -2.3127e-03, -3.2135e-02, -2.6068e-03,  9.4354e-03,\n",
       "          4.9622e-02,  3.0220e-02],\n",
       "        [ 1.6653e-02,  1.9109e-02,  3.1797e-02,  8.9043e-03,  1.0005e-02,\n",
       "          2.6253e-02,  3.1148e-02],\n",
       "        [-4.9761e-03, -5.5796e-03,  2.0380e-02,  3.5607e-02,  9.5547e-03,\n",
       "          6.4855e-03, -7.4238e-03],\n",
       "        [-1.7379e-02,  6.1925e-02,  1.5118e-02,  3.4378e-02, -3.0904e-02,\n",
       "         -1.2510e-02,  2.6030e-02],\n",
       "        [ 6.8184e-03, -6.4140e-03, -1.8806e-02, -2.5134e-02,  2.6515e-02,\n",
       "         -2.4861e-03, -3.5216e-02],\n",
       "        [ 3.3710e-02, -1.0024e-02, -1.4648e-02,  6.7920e-03, -3.5728e-02,\n",
       "         -5.4614e-02, -4.4816e-04],\n",
       "        [-5.9398e-03,  1.7589e-02, -9.8384e-03, -1.4543e-02,  2.6119e-02,\n",
       "          5.0965e-04,  4.8932e-02],\n",
       "        [ 3.5628e-02,  4.1983e-02,  5.4669e-02,  1.9207e-02, -2.1556e-02,\n",
       "         -6.4093e-03,  2.4160e-02],\n",
       "        [ 1.3533e-02,  2.8842e-02,  1.4298e-02,  2.3871e-02, -3.9685e-03,\n",
       "         -3.5422e-02,  2.4328e-02],\n",
       "        [ 2.5446e-03,  1.6612e-02, -2.2747e-02,  8.3597e-03, -9.9883e-03,\n",
       "         -1.4433e-02,  3.5444e-02],\n",
       "        [-4.1765e-02, -2.1226e-02, -1.3103e-03,  5.2792e-02,  5.1548e-02,\n",
       "         -2.5575e-02,  1.7757e-02],\n",
       "        [ 1.4299e-02,  2.1834e-02, -7.7076e-03,  2.1225e-02, -2.0133e-02,\n",
       "          2.2280e-02,  1.9953e-02],\n",
       "        [-2.7676e-02, -1.8805e-03, -6.3839e-03, -2.3741e-02,  3.3701e-02,\n",
       "         -2.2638e-02, -4.1718e-02],\n",
       "        [ 2.4168e-02,  1.2527e-02, -5.5668e-03,  7.8409e-03,  2.3502e-02,\n",
       "         -4.1669e-02, -6.6456e-03],\n",
       "        [ 2.2775e-02,  1.7614e-02, -4.0169e-02, -1.2601e-02,  3.3535e-02,\n",
       "         -1.5279e-02,  9.2100e-03],\n",
       "        [ 3.0171e-03, -2.2101e-02, -3.9136e-03,  1.0367e-02, -5.2030e-03,\n",
       "          2.0311e-02,  2.4667e-02],\n",
       "        [-1.5177e-02,  6.0632e-03, -3.1320e-03,  2.6303e-02, -5.0580e-03,\n",
       "          1.8792e-02,  2.4833e-02],\n",
       "        [-7.2439e-03, -7.9945e-03,  4.7175e-03,  1.3807e-02,  4.8842e-02,\n",
       "          4.6489e-02, -2.6530e-02],\n",
       "        [ 3.8764e-03, -2.2929e-02,  2.2288e-02,  2.7379e-02, -2.5242e-02,\n",
       "          1.9783e-02, -1.5942e-02],\n",
       "        [-1.9640e-02, -1.0444e-02,  1.7451e-02,  2.3793e-02, -1.7354e-02,\n",
       "          8.0455e-03, -9.3603e-03],\n",
       "        [-5.0169e-03,  4.1212e-02,  3.2809e-02, -1.1410e-02,  8.6710e-05,\n",
       "         -3.1613e-02,  1.0255e-03],\n",
       "        [-6.5009e-03,  2.7219e-02,  1.1831e-03,  1.9717e-02, -2.6461e-02,\n",
       "         -9.0036e-03,  3.1287e-02],\n",
       "        [ 3.0741e-02, -1.2112e-02,  3.7790e-02,  5.2454e-03, -1.2770e-02,\n",
       "         -1.4975e-02, -3.8664e-03],\n",
       "        [-6.3868e-03, -2.8707e-02, -2.8910e-02,  5.4742e-04, -2.4810e-02,\n",
       "          2.3817e-03,  5.5186e-03],\n",
       "        [-9.1757e-03, -9.8066e-03, -1.4523e-02,  2.8680e-02,  2.6859e-02,\n",
       "         -1.8939e-02, -1.0575e-02],\n",
       "        [-3.0544e-02,  2.1201e-02,  2.7101e-02,  5.8775e-02, -4.1715e-03,\n",
       "          4.5145e-04, -2.6655e-02],\n",
       "        [ 6.5999e-03, -4.4949e-02,  3.2261e-02,  5.1815e-02,  2.4612e-02,\n",
       "          7.1405e-04, -1.5526e-02],\n",
       "        [ 3.9733e-03, -1.1849e-02, -2.0250e-03,  4.0704e-03,  1.6031e-02,\n",
       "         -4.3770e-02,  2.7005e-02],\n",
       "        [-7.0087e-03,  9.8827e-02,  9.5581e-03,  2.4596e-02,  1.1941e-02,\n",
       "         -5.2858e-03,  3.3045e-02],\n",
       "        [ 4.7877e-03,  1.7071e-02,  3.3096e-02, -9.8467e-03,  3.9437e-02,\n",
       "          1.8098e-02,  2.5356e-02],\n",
       "        [ 2.4447e-02,  1.2110e-02,  2.3637e-02, -1.5897e-02, -3.4832e-02,\n",
       "          8.5985e-03, -1.5570e-02],\n",
       "        [ 2.7506e-02, -2.8113e-03, -1.4457e-02, -2.4604e-02, -2.8732e-02,\n",
       "         -2.1417e-02,  3.3268e-02],\n",
       "        [-4.2612e-03,  3.3923e-02,  4.3508e-02,  6.2933e-02,  3.1815e-02,\n",
       "         -3.4023e-02,  4.0723e-02],\n",
       "        [-9.1453e-03,  3.9081e-02,  4.6637e-02,  1.8789e-02, -7.0646e-03,\n",
       "          2.2321e-02, -1.6378e-02],\n",
       "        [-1.5925e-02,  1.0835e-02, -1.1326e-02,  3.2215e-02, -7.9699e-03,\n",
       "          2.1280e-02, -7.0340e-03],\n",
       "        [ 4.5020e-03,  2.3321e-02,  6.6286e-03, -4.4078e-03,  7.1948e-03,\n",
       "          1.2226e-02,  3.6545e-02],\n",
       "        [ 3.3587e-02,  8.8613e-04, -3.3228e-03,  6.8829e-04,  3.9626e-02,\n",
       "          1.7976e-02, -9.9663e-03],\n",
       "        [-7.2160e-03, -3.4265e-03,  2.8497e-02,  4.6708e-02, -1.5615e-02,\n",
       "          1.0605e-02, -1.6509e-02],\n",
       "        [-8.0925e-03, -1.2324e-02,  9.2322e-04, -7.6899e-03, -4.1844e-02,\n",
       "         -4.6879e-02, -4.0855e-02],\n",
       "        [-1.9573e-02,  3.3773e-02,  2.2547e-03,  2.2871e-02, -3.7354e-02,\n",
       "         -2.5246e-02,  2.4004e-02],\n",
       "        [ 7.8132e-04, -2.2106e-02,  2.7476e-02, -4.8463e-03,  6.2998e-03,\n",
       "         -2.9449e-02,  9.9326e-03],\n",
       "        [ 5.8482e-03,  6.5092e-02, -2.4340e-02,  2.2937e-03,  1.7381e-02,\n",
       "          8.3973e-03, -6.7814e-03],\n",
       "        [ 3.7228e-02, -2.9796e-02,  4.1805e-02, -1.8236e-03, -1.9991e-02,\n",
       "          3.4806e-02,  1.4700e-02],\n",
       "        [ 4.0643e-02, -2.5281e-02,  7.7289e-03,  3.5594e-02,  7.5350e-03,\n",
       "          1.5775e-02, -7.4589e-03],\n",
       "        [-6.7071e-03,  8.6199e-03,  1.8932e-02, -5.8246e-03,  1.0182e-02,\n",
       "         -7.1682e-03, -1.4688e-02],\n",
       "        [-2.4088e-02,  3.4573e-02,  1.8261e-02,  3.4576e-03,  1.6371e-02,\n",
       "          5.8896e-03, -1.1506e-02],\n",
       "        [ 6.3365e-03, -3.9300e-02,  1.7859e-02,  2.2650e-02, -1.4907e-02,\n",
       "          3.4392e-02, -1.4415e-02],\n",
       "        [-2.9440e-02, -2.6459e-03, -5.5495e-02,  1.1352e-02,  2.7650e-02,\n",
       "         -9.0740e-03, -1.0476e-02],\n",
       "        [ 4.2724e-02, -1.0678e-02, -1.7840e-02,  6.9601e-03,  8.3869e-05,\n",
       "          7.1121e-03,  1.6432e-02],\n",
       "        [-7.3607e-03,  3.0385e-02,  1.4214e-02, -1.7775e-02, -4.1585e-03,\n",
       "         -2.5520e-02,  9.0019e-03],\n",
       "        [ 2.2701e-02,  8.8717e-03,  4.4683e-03, -7.9647e-03,  2.4537e-02,\n",
       "          3.6768e-02, -1.8118e-02],\n",
       "        [ 1.0596e-02,  5.9362e-02,  3.9893e-02, -2.0309e-02, -1.9525e-03,\n",
       "          8.3161e-03, -1.7732e-02],\n",
       "        [-1.6965e-02,  5.1526e-03,  3.3174e-02,  2.3977e-02,  2.7257e-02,\n",
       "          9.0747e-03, -3.1421e-02],\n",
       "        [-2.3622e-02,  6.0495e-03, -8.5927e-03,  1.7243e-02, -2.1975e-02,\n",
       "         -1.0096e-02,  6.4011e-03],\n",
       "        [-1.0275e-03,  2.3197e-02, -2.2173e-02, -2.4272e-02,  1.4294e-02,\n",
       "          2.7398e-02, -1.7769e-03],\n",
       "        [ 1.7619e-02,  1.4787e-02, -1.4838e-02,  4.7124e-03, -1.0404e-02,\n",
       "          1.0287e-02, -8.7369e-03],\n",
       "        [-1.7326e-02,  2.3328e-02,  6.5015e-03,  2.6243e-02, -2.9162e-02,\n",
       "         -5.0386e-03,  3.0223e-02],\n",
       "        [ 6.1304e-03,  1.9421e-02,  3.3793e-03,  3.6160e-02, -1.7596e-02,\n",
       "         -1.3154e-02,  2.3007e-02],\n",
       "        [ 2.5812e-02,  2.7547e-03,  1.3387e-02,  2.4862e-03,  2.0752e-02,\n",
       "          2.4118e-02, -2.0326e-02],\n",
       "        [ 2.6743e-02, -2.8447e-03, -1.9138e-03, -6.9808e-03,  8.3884e-03,\n",
       "          5.2327e-02, -1.2206e-02],\n",
       "        [ 2.7679e-02,  2.2689e-02,  1.3841e-02, -1.3036e-02,  3.1843e-02,\n",
       "         -2.0370e-02, -2.3561e-02],\n",
       "        [ 3.3448e-02,  2.4314e-02, -1.1301e-02, -2.0798e-02, -1.8755e-02,\n",
       "         -9.5012e-03,  4.4524e-02],\n",
       "        [ 5.7463e-03, -4.0428e-02, -7.2619e-03,  2.1296e-02, -6.9179e-03,\n",
       "          4.1558e-02,  2.6246e-02],\n",
       "        [ 2.2855e-02,  3.2828e-03, -1.1517e-03, -3.2439e-03,  2.6046e-04,\n",
       "          6.3250e-03,  5.5379e-04],\n",
       "        [ 1.0884e-02,  1.4201e-02,  2.3342e-02, -8.3329e-03,  2.3475e-04,\n",
       "          2.9189e-03,  2.6094e-02],\n",
       "        [ 1.3146e-02,  1.3828e-02,  6.1021e-03,  2.2116e-02, -4.2447e-03,\n",
       "          2.7102e-03, -5.6631e-03],\n",
       "        [ 1.5601e-02, -4.7589e-03, -3.2524e-02,  1.1143e-02,  1.5783e-02,\n",
       "          4.1767e-03,  2.2967e-02],\n",
       "        [ 1.7632e-02,  5.7229e-02,  2.1292e-02,  3.3247e-02,  3.6109e-02,\n",
       "          1.8556e-02,  3.8439e-02],\n",
       "        [-1.0553e-02, -2.6021e-02, -1.2369e-02,  2.0083e-02,  5.6290e-03,\n",
       "          5.0189e-02,  3.0017e-02],\n",
       "        [ 2.9366e-02, -1.1684e-02,  5.7176e-03, -2.3921e-03,  1.6928e-02,\n",
       "         -3.4406e-03, -2.0282e-02],\n",
       "        [ 3.2388e-02, -4.4785e-03,  2.7115e-02, -1.4453e-02, -6.8221e-03,\n",
       "         -3.4433e-03,  2.6069e-02],\n",
       "        [-5.1333e-03,  6.8779e-03,  2.0773e-02,  4.0026e-02, -4.0309e-02,\n",
       "          1.5972e-02, -2.9519e-02],\n",
       "        [ 1.3852e-02,  1.5476e-02, -1.6607e-03,  7.4100e-03,  4.5316e-03,\n",
       "          1.8854e-02, -1.1901e-02],\n",
       "        [-8.9970e-03,  1.4963e-02,  4.1908e-02,  2.3675e-02,  9.0630e-03,\n",
       "          2.1429e-02, -2.4553e-02],\n",
       "        [ 1.9018e-02,  4.9430e-03,  9.3680e-03,  3.0819e-02,  4.5806e-03,\n",
       "          4.0933e-02,  1.9767e-02],\n",
       "        [ 5.3154e-03, -4.9504e-03,  1.0337e-02,  4.1213e-02,  5.0742e-03,\n",
       "          9.7559e-03, -1.2438e-02],\n",
       "        [ 2.1763e-03,  1.4069e-02, -2.1009e-02,  3.7741e-03,  2.0897e-02,\n",
       "         -2.6836e-02,  1.3876e-02],\n",
       "        [-2.7152e-02,  1.7643e-02,  2.3637e-03,  2.1376e-02, -4.1224e-03,\n",
       "          1.0527e-03,  7.0240e-03],\n",
       "        [-1.5482e-02,  1.5121e-02,  6.3602e-03, -1.7064e-02, -1.0254e-02,\n",
       "          2.5731e-03, -1.3919e-02],\n",
       "        [-2.6758e-02, -8.5527e-03,  4.4921e-02,  6.5510e-03, -2.1921e-02,\n",
       "         -7.8695e-03,  1.3435e-03],\n",
       "        [-8.7086e-03, -1.8968e-02,  1.4994e-02,  1.9787e-02,  4.1120e-04,\n",
       "         -4.0304e-03,  4.9537e-02],\n",
       "        [-2.6053e-02,  9.2624e-03,  2.5856e-02, -4.6348e-03, -2.6779e-02,\n",
       "          6.3037e-03,  7.6081e-03],\n",
       "        [ 1.4318e-02, -5.1811e-03, -6.1777e-03, -7.6412e-03,  1.7738e-02,\n",
       "          5.6568e-03, -1.1967e-02],\n",
       "        [-1.0101e-02, -4.5458e-02,  1.1587e-02,  1.2886e-02,  5.0090e-02,\n",
       "         -1.8602e-02, -3.0109e-04],\n",
       "        [-7.6535e-03,  3.5101e-02,  1.2360e-02, -3.4127e-02,  1.5463e-02,\n",
       "         -3.2715e-02, -1.7274e-02],\n",
       "        [ 1.6612e-02, -1.4369e-02,  4.8379e-02, -1.4737e-02,  4.7739e-03,\n",
       "         -9.8877e-04, -1.7773e-02],\n",
       "        [-2.9997e-03,  9.9513e-03,  1.7413e-02,  6.9531e-03, -9.6442e-03,\n",
       "         -2.1757e-02,  3.0758e-02],\n",
       "        [-1.2354e-02, -1.2231e-02, -2.8893e-02,  1.1384e-02,  9.8097e-03,\n",
       "          1.4621e-02, -1.9609e-02]], grad_fn=<ViewBackward0>)"
      ]
     },
     "execution_count": 132,
     "metadata": {},
     "output_type": "execute_result"
    }
   ],
   "source": [
    "logits = model(data.x[data.train_mask])\n",
    "logits"
   ]
  },
  {
   "cell_type": "code",
   "execution_count": 133,
   "id": "80c0d191",
   "metadata": {},
   "outputs": [
    {
     "data": {
      "text/plain": [
       "tensor([0, 3, 4, 3, 6, 5, 6, 1, 0, 1, 6, 5, 0, 4, 0, 3, 0, 1, 5, 3, 3, 4, 4, 6,\n",
       "        6, 2, 5, 4, 2, 3, 6, 5, 1, 3, 5, 0, 0, 5, 3, 1, 3, 5, 1, 4, 2, 1, 3, 5,\n",
       "        3, 1, 4, 2, 5, 2, 3, 1, 4, 0, 6, 2, 1, 6, 3, 5, 4, 0, 4, 6, 3, 4, 3, 3,\n",
       "        1, 6, 2, 6, 3, 3, 3, 6, 1, 4, 0, 6, 3, 2, 3, 6, 4, 3, 2, 1, 2, 1, 2, 0,\n",
       "        2, 1, 5, 4, 0, 1, 5, 1, 2, 3, 5, 0, 6, 3, 0, 5, 4, 6, 5, 0, 6, 3, 6, 1,\n",
       "        5, 0, 0, 3, 5, 2, 5, 3, 4, 3, 1, 2, 6, 2, 4, 4, 1, 2, 6, 5])"
      ]
     },
     "execution_count": 133,
     "metadata": {},
     "output_type": "execute_result"
    }
   ],
   "source": [
    "logits.argmax(dim=1)"
   ]
  },
  {
   "cell_type": "code",
   "execution_count": 134,
   "id": "85821366",
   "metadata": {},
   "outputs": [
    {
     "data": {
      "text/plain": [
       "tensor(0.3500)"
      ]
     },
     "execution_count": 134,
     "metadata": {},
     "output_type": "execute_result"
    }
   ],
   "source": [
    "(data.y[data.train_mask] == logits.argmax(dim=1)).sum() / data.train_mask.sum()"
   ]
  },
  {
   "cell_type": "code",
   "execution_count": 131,
   "id": "de170e1b-b3da-4aa5-907c-9e2aad8b5c7a",
   "metadata": {},
   "outputs": [
    {
     "data": {
      "text/plain": [
       "[<matplotlib.lines.Line2D at 0x7fb0300e45b0>]"
      ]
     },
     "execution_count": 131,
     "metadata": {},
     "output_type": "execute_result"
    },
    {
     "data": {
      "image/png": "[encoded data removed]",
      "text/plain": [
       "<Figure size 640x480 with 1 Axes>"
      ]
     },
     "metadata": {},
     "output_type": "display_data"
    }
   ],
   "source": [
    "plt.plot(losses)"
   ]
  },
  {
   "cell_type": "code",
   "execution_count": null,
   "id": "9641d681",
   "metadata": {},
   "outputs": [],
   "source": []
  }
 ],
 "metadata": {
  "kernelspec": {
   "display_name": "qugcn_venv",
   "language": "python",
   "name": "python3"
  },
  "language_info": {
   "codemirror_mode": {
    "name": "ipython",
    "version": 3
   },
   "file_extension": ".py",
   "mimetype": "text/x-python",
   "name": "python",
   "nbconvert_exporter": "python",
   "pygments_lexer": "ipython3",
   "version": "3.10.12"
  }
 },
 "nbformat": 4,
 "nbformat_minor": 5
}
