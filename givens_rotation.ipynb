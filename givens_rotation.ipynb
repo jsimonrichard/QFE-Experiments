{
 "cells": [
  {
   "cell_type": "code",
   "execution_count": 4,
   "id": "737ecefe-6044-494b-92b6-f7bc7aa75094",
   "metadata": {},
   "outputs": [],
   "source": [
    "import pennylane as qml\n",
    "import numpy as np"
   ]
  },
  {
   "cell_type": "code",
   "execution_count": 14,
   "id": "202d9f15-9c31-420d-b81f-127565679432",
   "metadata": {},
   "outputs": [],
   "source": [
    "n = 3\n",
    "dev = qml.device('default.qubit', wires=n)"
   ]
  },
  {
   "cell_type": "code",
   "execution_count": 43,
   "id": "d41ac77d-4e2d-470d-8fac-1ef3c3c44f51",
   "metadata": {},
   "outputs": [],
   "source": [
    "def GivensQubitUnitary(p, q, theta):\n",
    "    assert p < q\n",
    "    U = np.identity(2**n)\n",
    "    U[p,p] = np.cos(theta/2)\n",
    "    U[q,q] = np.cos(theta/2)\n",
    "    U[q,p] = -np.sin(theta/2)\n",
    "    U[p,q] = np.sin(theta/2)\n",
    "    return qml.QubitUnitary(U, wires=range(n))"
   ]
  },
  {
   "cell_type": "code",
   "execution_count": 47,
   "id": "42c6afe8-68b8-4b41-a56c-688fa632bf9e",
   "metadata": {},
   "outputs": [],
   "source": [
    "@qml.qnode(dev)\n",
    "def circuit_a():\n",
    "    GivensQubitUnitary(0,4,np.pi)\n",
    "    return qml.state()"
   ]
  },
  {
   "cell_type": "code",
   "execution_count": 49,
   "id": "4247cea0-83e6-4b2c-b7d1-cf5ed0dce26d",
   "metadata": {},
   "outputs": [
    {
     "data": {
      "text/plain": [
       "tensor([ 6.123234e-17+0.j,  0.000000e+00+0.j,  0.000000e+00+0.j,\n",
       "         0.000000e+00+0.j, -1.000000e+00+0.j,  0.000000e+00+0.j,\n",
       "         0.000000e+00+0.j,  0.000000e+00+0.j], requires_grad=True)"
      ]
     },
     "execution_count": 49,
     "metadata": {},
     "output_type": "execute_result"
    }
   ],
   "source": [
    "circuit_a()"
   ]
  },
  {
   "cell_type": "code",
   "execution_count": 50,
   "id": "92ea38f0-ebeb-4c47-93fa-9642d7428cbb",
   "metadata": {},
   "outputs": [
    {
     "data": {
      "text/plain": [
       "array([[ 6.123234e-17,  1.000000e+00,  0.000000e+00,  0.000000e+00,\n",
       "         0.000000e+00,  0.000000e+00,  0.000000e+00,  0.000000e+00],\n",
       "       [-1.000000e+00,  6.123234e-17,  0.000000e+00,  0.000000e+00,\n",
       "         0.000000e+00,  0.000000e+00,  0.000000e+00,  0.000000e+00],\n",
       "       [ 0.000000e+00,  0.000000e+00,  1.000000e+00,  0.000000e+00,\n",
       "         0.000000e+00,  0.000000e+00,  0.000000e+00,  0.000000e+00],\n",
       "       [ 0.000000e+00,  0.000000e+00,  0.000000e+00,  1.000000e+00,\n",
       "         0.000000e+00,  0.000000e+00,  0.000000e+00,  0.000000e+00],\n",
       "       [ 0.000000e+00,  0.000000e+00,  0.000000e+00,  0.000000e+00,\n",
       "         1.000000e+00,  0.000000e+00,  0.000000e+00,  0.000000e+00],\n",
       "       [ 0.000000e+00,  0.000000e+00,  0.000000e+00,  0.000000e+00,\n",
       "         0.000000e+00,  1.000000e+00,  0.000000e+00,  0.000000e+00],\n",
       "       [ 0.000000e+00,  0.000000e+00,  0.000000e+00,  0.000000e+00,\n",
       "         0.000000e+00,  0.000000e+00,  1.000000e+00,  0.000000e+00],\n",
       "       [ 0.000000e+00,  0.000000e+00,  0.000000e+00,  0.000000e+00,\n",
       "         0.000000e+00,  0.000000e+00,  0.000000e+00,  1.000000e+00]])"
      ]
     },
     "execution_count": 50,
     "metadata": {},
     "output_type": "execute_result"
    }
   ],
   "source": [
    "qml.matrix(GivensQubitUnitary(0,1,np.pi))"
   ]
  },
  {
   "cell_type": "code",
   "execution_count": 265,
   "id": "728b70c3-61cc-414c-a72a-7015e71812db",
   "metadata": {},
   "outputs": [],
   "source": [
    "def Flip2(p, q, wires=[0,1]):\n",
    "    assert p < q\n",
    "    if p == 0:\n",
    "        if q == 1:\n",
    "            return qml.ctrl(qml.PauliX(wires[1]), (wires[0]), control_values=(0))\n",
    "        elif q == 2:\n",
    "            return qml.ctrl(qml.PauliX(wires[0]), (wires[1]), control_values=(0))\n",
    "        elif q == 3:\n",
    "            qml.CNOT(wires=wires),\n",
    "            qml.PauliX(wires=[wires[0]]),\n",
    "            qml.CNOT(wires=[wires[1], wires[0]]),\n",
    "            qml.CNOT(wires=wires)\n",
    "            return\n",
    "    elif p == 1:\n",
    "        if q == 2:\n",
    "            return qml.SWAP(wires=wires)\n",
    "        elif q == 3:\n",
    "            return qml.ctrl(qml.PauliX(wires[1]), (wires[0]), control_values=(1))\n",
    "    elif p == 2:\n",
    "        if q == 3:\n",
    "            return qml.CNOT(wires=wires)\n",
    "            \n",
    "    raise Exception(\"p or q is out of bounds\")\n",
    "\n",
    "def Givens2(p, q, theta, wires=[0,1]):\n",
    "    assert p < q\n",
    "    if p == 0:\n",
    "        if q == 1:\n",
    "            qml.PauliX(wires[1])\n",
    "            qml.CRY(theta, wires=wires)\n",
    "            qml.PauliX(wires[1])\n",
    "            return\n",
    "        elif q == 2:\n",
    "            qml.PauliX(wires[0])\n",
    "            qml.CRY(theta, wires=[wires[1], wires[0]])\n",
    "            qml.PauliX(wires[0])\n",
    "            return\n",
    "        elif q == 3:\n",
    "            qml.PauliX(wires[1])\n",
    "            qml.CNOT(wires=wires)\n",
    "            qml.CRY(theta, wires=wires)\n",
    "            qml.CNOT(wires=wires)\n",
    "            qml.PauliX(wires[1])\n",
    "            return\n",
    "    elif p == 1:\n",
    "        if q == 2:\n",
    "            qml.CNOT(wires=wires)\n",
    "            qml.CRY(theta, wires=[wires[1], wires[0]])\n",
    "            qml.CNOT(wires=wires)\n",
    "            return\n",
    "        elif q == 3:\n",
    "            return qml.CRY(theta, wires=[wires[1], wires[0]])\n",
    "    elif p == 2:\n",
    "        if q == 3:\n",
    "            return qml.CRY(theta, wires=wires)\n",
    "            \n",
    "    raise Exception(\"p or q is out of bounds\")\n",
    "\n",
    "def GivensN(p, q, theta):\n",
    "    \"\"\"\n",
    "    TODO\n",
    "    \"\"\"\n",
    "    pass"
   ]
  },
  {
   "cell_type": "code",
   "execution_count": 272,
   "id": "7902d43d-32ed-4475-8683-e7d80db8477d",
   "metadata": {},
   "outputs": [
    {
     "data": {
      "text/plain": [
       "tensor([0.+0.j, 0.+0.j, 0.+0.j, 1.+0.j], requires_grad=True)"
      ]
     },
     "execution_count": 272,
     "metadata": {},
     "output_type": "execute_result"
    }
   ],
   "source": [
    "dev = qml.device('default.qubit', wires=2)\n",
    "\n",
    "@qml.qnode(dev)\n",
    "def circuit_b():\n",
    "    qml.BasisState([1,0], wires=range(2))\n",
    "    Flip2(2,3)\n",
    "    return qml.state()\n",
    "\n",
    "circuit_b()"
   ]
  },
  {
   "cell_type": "code",
   "execution_count": null,
   "id": "93ab80d0-207e-4188-8179-491c199ad807",
   "metadata": {},
   "outputs": [],
   "source": []
  }
 ],
 "metadata": {
  "kernelspec": {
   "display_name": "qugcn_venv",
   "language": "python",
   "name": "qugcn_venv"
  },
  "language_info": {
   "codemirror_mode": {
    "name": "ipython",
    "version": 3
   },
   "file_extension": ".py",
   "mimetype": "text/x-python",
   "name": "python",
   "nbconvert_exporter": "python",
   "pygments_lexer": "ipython3",
   "version": "3.10.12"
  }
 },
 "nbformat": 4,
 "nbformat_minor": 5
}
