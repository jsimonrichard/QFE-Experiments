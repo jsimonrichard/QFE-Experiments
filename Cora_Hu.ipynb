{
 "cells": [
  {
   "cell_type": "code",
   "execution_count": 11,
   "id": "6705ddf3-0ab8-4c65-9a94-8724cfc904b0",
   "metadata": {},
   "outputs": [],
   "source": [
    "from torch_geometric.datasets import Planetoid\n",
    "import numpy as np\n",
    "import torch"
   ]
  },
  {
   "cell_type": "code",
   "execution_count": 7,
   "id": "20c3dc54-3c8f-47eb-9780-ce85801306cd",
   "metadata": {},
   "outputs": [],
   "source": [
    "n_node =32\n",
    "n_train = 32\n",
    "n_feature = 256\n",
    "n_vqc_wires = 8\n",
    "label0 = 1\n",
    "label1 = 4"
   ]
  },
  {
   "cell_type": "code",
   "execution_count": 29,
   "id": "1c62f875-136f-4312-a1a8-097efc9d0d2c",
   "metadata": {},
   "outputs": [
    {
     "data": {
      "text/plain": [
       "Data(x=[1024, 1433], edge_index=[2, 1548], y=[1024], train_mask=[1024], val_mask=[1024], test_mask=[1024])"
      ]
     },
     "execution_count": 29,
     "metadata": {},
     "output_type": "execute_result"
    }
   ],
   "source": [
    "ds = Planetoid(\"/tmp/Cora\", \"Cora\")\n",
    "data=ds[0].subgraph(torch.tensor(range(1024)))\n",
    "data"
   ]
  },
  {
   "cell_type": "code",
   "execution_count": null,
   "id": "891f7663-097f-4e4f-9f6b-9a196ef0c77c",
   "metadata": {},
   "outputs": [],
   "source": []
  }
 ],
 "metadata": {
  "kernelspec": {
   "display_name": "qugcn_venv",
   "language": "python",
   "name": "qugcn_venv"
  },
  "language_info": {
   "codemirror_mode": {
    "name": "ipython",
    "version": 3
   },
   "file_extension": ".py",
   "mimetype": "text/x-python",
   "name": "python",
   "nbconvert_exporter": "python",
   "pygments_lexer": "ipython3",
   "version": "3.10.12"
  }
 },
 "nbformat": 4,
 "nbformat_minor": 5
}
