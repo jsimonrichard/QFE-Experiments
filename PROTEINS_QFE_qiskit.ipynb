{
 "cells": [
  {
   "cell_type": "code",
   "execution_count": 58,
   "metadata": {},
   "outputs": [],
   "source": [
    "import torch\n",
    "import torch.nn.functional as F\n",
    "\n",
    "import numpy as np\n",
    "\n",
    "from torch_geometric.datasets import TUDataset\n",
    "from torch_geometric.loader import DataLoader\n",
    "from torch_geometric.nn import GCNConv\n",
    "\n",
    "from qiskit import QuantumCircuit\n",
    "from qiskit.quantum_info import SparsePauliOp\n",
    "from qiskit.circuit import Parameter\n",
    "from qiskit.circuit.library import ZZFeatureMap\n",
    "from qiskit_algorithms.utils import algorithm_globals\n",
    "from qiskit_machine_learning.neural_networks import EstimatorQNN, SamplerQNN\n",
    "from qiskit_machine_learning.connectors import TorchConnector\n",
    "\n",
    "from tqdm import tqdm"
   ]
  },
  {
   "cell_type": "code",
   "execution_count": 2,
   "metadata": {},
   "outputs": [
    {
     "data": {
      "text/plain": [
       "(3, 2, 1113)"
      ]
     },
     "execution_count": 2,
     "metadata": {},
     "output_type": "execute_result"
    }
   ],
   "source": [
    "ds = TUDataset(\"/tmp/PROTEINS\", \"PROTEINS\")\n",
    "ds.num_features, ds.num_classes, len(ds)"
   ]
  },
  {
   "cell_type": "code",
   "execution_count": 3,
   "metadata": {},
   "outputs": [],
   "source": [
    "ds = ds.shuffle()\n",
    "break1 = int(len(ds) * 0.8)\n",
    "break2 = int(len(ds) * 0.9)\n",
    "training_data = ds[:break1]\n",
    "validation_data = ds[break1:break2]\n",
    "test_data = ds[break2:]\n",
    "training_loader = DataLoader(training_data, batch_size=32, shuffle=True)\n",
    "validation_loader = DataLoader(validation_data, batch_size=32, shuffle=True)\n",
    "test_loader = DataLoader(test_data, batch_size=32, shuffle=True)"
   ]
  },
  {
   "cell_type": "code",
   "execution_count": 46,
   "metadata": {},
   "outputs": [
    {
     "data": {
      "image/png": "[encoded data removed]",
      "text/plain": [
       "<Figure size 1207.22x284.278 with 1 Axes>"
      ]
     },
     "execution_count": 46,
     "metadata": {},
     "output_type": "execute_result"
    }
   ],
   "source": [
    "encoding = ZZFeatureMap(ds.num_features, reps=2)\n",
    "qc = QuantumCircuit(ds.num_features)\n",
    "qc.compose(encoding, inplace=True)\n",
    "\n",
    "weights = [[Parameter(f\"theta[{i}, {j}]\") for i in range(ds.num_features)] for j in range(2)]\n",
    "\n",
    "for j in range(2):\n",
    "    for i in range(ds.num_features):\n",
    "        qc.rx(weights[j][i], i)\n",
    "    \n",
    "    for i in range(ds.num_features):\n",
    "        qc.cx(i, (i + 1) % ds.num_features)\n",
    "\n",
    "qc.draw(output=\"mpl\", style=\"clifford\")"
   ]
  },
  {
   "cell_type": "code",
   "execution_count": 59,
   "metadata": {},
   "outputs": [],
   "source": [
    "qnn = SamplerQNN(\n",
    "    circuit=qc,\n",
    "    input_params=encoding.parameters,\n",
    "    weight_params=weights[0] + weights[1],\n",
    ")\n",
    "embedder = TorchConnector(qnn)"
   ]
  },
  {
   "cell_type": "code",
   "execution_count": 67,
   "metadata": {},
   "outputs": [],
   "source": [
    "class QFE_GCN(torch.nn.Module):\n",
    "    def __init__(self, in_features, out_features):\n",
    "        super().__init__()\n",
    "        self.qfe = embedder\n",
    "\n",
    "        self.gcns = torch.nn.ParameterList([\n",
    "            GCNConv(2**in_features, 16),\n",
    "            GCNConv(16, 16),\n",
    "            GCNConv(16, out_features),\n",
    "        ])\n",
    "\n",
    "        # self.gcn1 = GCNConv(in_features, 16)\n",
    "        # self.gcn2 = GCNConv(16, out_features)\n",
    "    \n",
    "    def forward(self, data):\n",
    "        x = data.x\n",
    "        x = self.qfe(x.to(device=\"cpu\")).to(device=x.device)\n",
    "\n",
    "        for gcn in self.gcns:\n",
    "            x = gcn(x, data.edge_index)\n",
    "            x = F.relu(x)\n",
    "            x = F.dropout(x, training=self.training)\n",
    "\n",
    "        # x = self.gcn1(x, data.edge_index)\n",
    "        # x = F.relu(x)\n",
    "        # x = F.dropout(x, training=self.training)\n",
    "        # x = self.gcn2(x, data.edge_index)\n",
    "        # x = F.relu(x)\n",
    "        # x = F.dropout(x, training=self.training)\n",
    "        \n",
    "        out = torch.zeros(data.num_graphs, 2, device=x.device)\n",
    "\n",
    "        for i in range(data.num_graphs):\n",
    "            out[i] = x[data.batch == i].mean(dim=0)\n",
    "        \n",
    "        out = F.log_softmax(out, dim=1)\n",
    "\n",
    "        return out"
   ]
  },
  {
   "cell_type": "code",
   "execution_count": 69,
   "metadata": {},
   "outputs": [
    {
     "name": "stdout",
     "output_type": "stream",
     "text": [
      "Epoch 0\n"
     ]
    },
    {
     "name": "stderr",
     "output_type": "stream",
     "text": [
      "  0%|          | 0/28 [00:00<?, ?it/s]"
     ]
    },
    {
     "name": "stderr",
     "output_type": "stream",
     "text": [
      "100%|██████████| 28/28 [42:41<00:00, 91.49s/it]  \n"
     ]
    },
    {
     "name": "stdout",
     "output_type": "stream",
     "text": [
      "Epoch 1\n"
     ]
    },
    {
     "name": "stderr",
     "output_type": "stream",
     "text": [
      "100%|██████████| 28/28 [40:50<00:00, 87.52s/it]\n"
     ]
    },
    {
     "name": "stdout",
     "output_type": "stream",
     "text": [
      "Epoch 2\n"
     ]
    },
    {
     "name": "stderr",
     "output_type": "stream",
     "text": [
      "100%|██████████| 28/28 [41:12<00:00, 88.31s/it]\n"
     ]
    },
    {
     "name": "stdout",
     "output_type": "stream",
     "text": [
      "Epoch 3\n"
     ]
    },
    {
     "name": "stderr",
     "output_type": "stream",
     "text": [
      "100%|██████████| 28/28 [40:45<00:00, 87.35s/it]\n"
     ]
    },
    {
     "name": "stdout",
     "output_type": "stream",
     "text": [
      "Epoch 4\n"
     ]
    },
    {
     "name": "stderr",
     "output_type": "stream",
     "text": [
      "100%|██████████| 28/28 [40:58<00:00, 87.80s/it] \n"
     ]
    },
    {
     "name": "stdout",
     "output_type": "stream",
     "text": [
      "Epoch 5\n"
     ]
    },
    {
     "name": "stderr",
     "output_type": "stream",
     "text": [
      "100%|██████████| 28/28 [40:44<00:00, 87.31s/it]\n"
     ]
    },
    {
     "name": "stdout",
     "output_type": "stream",
     "text": [
      "Epoch 6\n"
     ]
    },
    {
     "name": "stderr",
     "output_type": "stream",
     "text": [
      "100%|██████████| 28/28 [40:38<00:00, 87.11s/it] \n"
     ]
    },
    {
     "name": "stdout",
     "output_type": "stream",
     "text": [
      "Epoch 7\n"
     ]
    },
    {
     "name": "stderr",
     "output_type": "stream",
     "text": [
      "100%|██████████| 28/28 [40:30<00:00, 86.80s/it]\n"
     ]
    },
    {
     "name": "stdout",
     "output_type": "stream",
     "text": [
      "Epoch 8\n"
     ]
    },
    {
     "name": "stderr",
     "output_type": "stream",
     "text": [
      "100%|██████████| 28/28 [40:39<00:00, 87.13s/it]\n"
     ]
    },
    {
     "name": "stdout",
     "output_type": "stream",
     "text": [
      "Epoch 9\n"
     ]
    },
    {
     "name": "stderr",
     "output_type": "stream",
     "text": [
      "100%|██████████| 28/28 [40:28<00:00, 86.74s/it] \n"
     ]
    }
   ],
   "source": [
    "device = torch.device('cuda' if torch.cuda.is_available() else 'cpu')\n",
    "model = QFE_GCN(3, 2).to(device)\n",
    "optimizer = torch.optim.Adam(model.parameters(), lr=0.01, weight_decay=5e-4)\n",
    "\n",
    "losses = []\n",
    "\n",
    "model.train()\n",
    "for epoch in range(10):\n",
    "    epoch_losses = []\n",
    "    print(f\"Epoch {epoch}\")\n",
    "    for batch in tqdm(training_loader):\n",
    "        optimizer.zero_grad()\n",
    "        out = model(batch.to(device))\n",
    "        # print(out, batch.y)\n",
    "        loss = F.cross_entropy(out, batch.y)\n",
    "        loss.backward()\n",
    "        epoch_losses.append(loss.detach().cpu())\n",
    "        optimizer.step()\n",
    "    losses.append(epoch_losses)"
   ]
  },
  {
   "cell_type": "code",
   "execution_count": 70,
   "metadata": {},
   "outputs": [
    {
     "data": {
      "text/plain": [
       "[<matplotlib.lines.Line2D at 0x7efe44e3e260>]"
      ]
     },
     "execution_count": 70,
     "metadata": {},
     "output_type": "execute_result"
    },
    {
     "data": {
      "image/png": "[encoded data removed]",
      "text/plain": [
       "<Figure size 640x480 with 1 Axes>"
      ]
     },
     "metadata": {},
     "output_type": "display_data"
    }
   ],
   "source": [
    "import matplotlib.pyplot as plt\n",
    "plt.plot(np.array(losses).flatten())"
   ]
  },
  {
   "cell_type": "code",
   "execution_count": 71,
   "metadata": {},
   "outputs": [
    {
     "name": "stdout",
     "output_type": "stream",
     "text": [
      "tensor([[-0.5290, -0.8897],\n",
      "        [-0.5252, -0.8951],\n",
      "        [-0.5281, -0.8909],\n",
      "        [-0.5321, -0.8852],\n",
      "        [-0.5257, -0.8943],\n",
      "        [-0.5389, -0.8756],\n",
      "        [-0.5407, -0.8731],\n",
      "        [-0.5271, -0.8923],\n",
      "        [-0.5282, -0.8908],\n",
      "        [-0.5263, -0.8935],\n",
      "        [-0.5187, -0.9047],\n",
      "        [-0.5318, -0.8857],\n",
      "        [-0.5323, -0.8849],\n",
      "        [-0.5322, -0.8851],\n",
      "        [-0.5285, -0.8903],\n",
      "        [-0.5228, -0.8986],\n",
      "        [-0.5334, -0.8833],\n",
      "        [-0.5337, -0.8830],\n",
      "        [-0.5362, -0.8794],\n",
      "        [-0.5279, -0.8912],\n",
      "        [-0.5292, -0.8893],\n",
      "        [-0.5265, -0.8933],\n",
      "        [-0.5264, -0.8933],\n",
      "        [-0.5194, -0.9035],\n",
      "        [-0.5265, -0.8932],\n",
      "        [-0.5287, -0.8901],\n",
      "        [-0.5314, -0.8861],\n",
      "        [-0.5345, -0.8818],\n",
      "        [-0.5209, -0.9014],\n",
      "        [-0.5362, -0.8793],\n",
      "        [-0.5182, -0.9053],\n",
      "        [-0.5374, -0.8778]], device='cuda:0', grad_fn=<LogSoftmaxBackward0>) tensor([0, 0, 0, 1, 0, 1, 1, 0, 0, 0, 1, 1, 0, 0, 1, 1, 1, 0, 1, 0, 0, 0, 0, 0,\n",
      "        1, 1, 0, 1, 1, 0, 1, 1], device='cuda:0')\n",
      "tensor([0, 0, 0, 0, 0, 0, 0, 0, 0, 0, 0, 0, 0, 0, 0, 0, 0, 0, 0, 0, 0, 0, 0, 0,\n",
      "        0, 0, 0, 0, 0, 0, 0, 0], device='cuda:0')\n",
      "tensor([[-0.5236, -0.8974],\n",
      "        [-0.5255, -0.8947],\n",
      "        [-0.5227, -0.8988],\n",
      "        [-0.5275, -0.8918],\n",
      "        [-0.5319, -0.8854],\n",
      "        [-0.5312, -0.8865],\n",
      "        [-0.5256, -0.8945],\n",
      "        [-0.5297, -0.8887],\n",
      "        [-0.5237, -0.8973],\n",
      "        [-0.5276, -0.8917],\n",
      "        [-0.5311, -0.8867],\n",
      "        [-0.5292, -0.8893],\n",
      "        [-0.5368, -0.8786],\n",
      "        [-0.5408, -0.8729],\n",
      "        [-0.5252, -0.8951],\n",
      "        [-0.5346, -0.8817],\n",
      "        [-0.5341, -0.8823],\n",
      "        [-0.5285, -0.8903],\n",
      "        [-0.5370, -0.8783],\n",
      "        [-0.5301, -0.8880],\n",
      "        [-0.5260, -0.8940],\n",
      "        [-0.5287, -0.8901],\n",
      "        [-0.5373, -0.8778],\n",
      "        [-0.5191, -0.9040],\n",
      "        [-0.5347, -0.8816],\n",
      "        [-0.5294, -0.8891],\n",
      "        [-0.5316, -0.8859],\n",
      "        [-0.5242, -0.8966],\n",
      "        [-0.5267, -0.8930],\n",
      "        [-0.5292, -0.8893],\n",
      "        [-0.5311, -0.8867],\n",
      "        [-0.5278, -0.8913]], device='cuda:0', grad_fn=<LogSoftmaxBackward0>) tensor([0, 0, 1, 0, 1, 0, 0, 0, 0, 1, 1, 0, 0, 1, 0, 1, 1, 0, 1, 1, 0, 1, 1, 1,\n",
      "        1, 1, 0, 0, 0, 0, 0, 0], device='cuda:0')\n",
      "tensor([0, 0, 0, 0, 0, 0, 0, 0, 0, 0, 0, 0, 0, 0, 0, 0, 0, 0, 0, 0, 0, 0, 0, 0,\n",
      "        0, 0, 0, 0, 0, 0, 0, 0], device='cuda:0')\n",
      "tensor([[-0.5303, -0.8878],\n",
      "        [-0.5290, -0.8897],\n",
      "        [-0.5283, -0.8906],\n",
      "        [-0.5278, -0.8913],\n",
      "        [-0.5312, -0.8864],\n",
      "        [-0.5291, -0.8895],\n",
      "        [-0.5191, -0.9040],\n",
      "        [-0.5302, -0.8879],\n",
      "        [-0.5353, -0.8806],\n",
      "        [-0.5338, -0.8828],\n",
      "        [-0.5211, -0.9011],\n",
      "        [-0.5348, -0.8814],\n",
      "        [-0.5326, -0.8845],\n",
      "        [-0.5237, -0.8973],\n",
      "        [-0.5292, -0.8894],\n",
      "        [-0.5338, -0.8828],\n",
      "        [-0.5274, -0.8919],\n",
      "        [-0.5279, -0.8913],\n",
      "        [-0.5315, -0.8861],\n",
      "        [-0.5289, -0.8898],\n",
      "        [-0.5276, -0.8916],\n",
      "        [-0.5280, -0.8911],\n",
      "        [-0.5321, -0.8852],\n",
      "        [-0.5311, -0.8867],\n",
      "        [-0.5230, -0.8983],\n",
      "        [-0.5203, -0.9022],\n",
      "        [-0.5265, -0.8933],\n",
      "        [-0.5297, -0.8886],\n",
      "        [-0.5257, -0.8944],\n",
      "        [-0.5368, -0.8786],\n",
      "        [-0.5355, -0.8804],\n",
      "        [-0.5281, -0.8909]], device='cuda:0', grad_fn=<LogSoftmaxBackward0>) tensor([0, 0, 0, 0, 1, 0, 1, 0, 1, 1, 0, 0, 1, 0, 0, 0, 0, 0, 0, 0, 0, 1, 0, 0,\n",
      "        0, 1, 1, 0, 0, 0, 1, 0], device='cuda:0')\n",
      "tensor([0, 0, 0, 0, 0, 0, 0, 0, 0, 0, 0, 0, 0, 0, 0, 0, 0, 0, 0, 0, 0, 0, 0, 0,\n",
      "        0, 0, 0, 0, 0, 0, 0, 0], device='cuda:0')\n",
      "tensor([[-0.5287, -0.8900],\n",
      "        [-0.5248, -0.8957],\n",
      "        [-0.5315, -0.8861],\n",
      "        [-0.5229, -0.8985],\n",
      "        [-0.5340, -0.8825],\n",
      "        [-0.5321, -0.8852],\n",
      "        [-0.5242, -0.8966],\n",
      "        [-0.5240, -0.8969],\n",
      "        [-0.5379, -0.8770],\n",
      "        [-0.5181, -0.9055],\n",
      "        [-0.5262, -0.8937],\n",
      "        [-0.5249, -0.8956],\n",
      "        [-0.5314, -0.8862],\n",
      "        [-0.5295, -0.8889],\n",
      "        [-0.5192, -0.9039],\n",
      "        [-0.5312, -0.8865]], device='cuda:0', grad_fn=<LogSoftmaxBackward0>) tensor([1, 0, 0, 1, 0, 1, 1, 0, 1, 1, 0, 0, 1, 1, 1, 1], device='cuda:0')\n",
      "tensor([0, 0, 0, 0, 0, 0, 0, 0, 0, 0, 0, 0, 0, 0, 0, 0], device='cuda:0')\n",
      "Accuracy: 0.5714285969734192\n"
     ]
    }
   ],
   "source": [
    "model.eval()\n",
    "correct = 0\n",
    "total = 0\n",
    "for batch in test_loader:\n",
    "    out = model(batch.to(device))\n",
    "    print(out, batch.y)\n",
    "    print(out.argmax(dim=1))\n",
    "    correct += sum(out.argmax(dim=1) == batch.y)\n",
    "    total += len(batch.y)\n",
    "print(f\"Accuracy: {correct/total}\")"
   ]
  }
 ],
 "metadata": {
  "kernelspec": {
   "display_name": "qiskit_qml",
   "language": "python",
   "name": "python3"
  },
  "language_info": {
   "codemirror_mode": {
    "name": "ipython",
    "version": 3
   },
   "file_extension": ".py",
   "mimetype": "text/x-python",
   "name": "python",
   "nbconvert_exporter": "python",
   "pygments_lexer": "ipython3",
   "version": "3.10.12"
  }
 },
 "nbformat": 4,
 "nbformat_minor": 2
}
