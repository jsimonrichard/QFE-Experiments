{
 "cells": [
  {
   "cell_type": "code",
   "execution_count": 2,
   "metadata": {},
   "outputs": [],
   "source": [
    "import datetime as dt\n",
    "import json\n",
    "import numpy as np"
   ]
  },
  {
   "cell_type": "code",
   "execution_count": 3,
   "metadata": {},
   "outputs": [],
   "source": [
    "with open(\"./study_outputs/dataset-PROTEINS/study_data.json\", \"r\") as f:\n",
    "    proteins_data = json.load(f)\n",
    "\n",
    "with open(\"./study_outputs/dataset-ENZYMES/study_data.json\", \"r\") as f:\n",
    "    enzymes_data = json.load(f)"
   ]
  },
  {
   "cell_type": "code",
   "execution_count": 5,
   "metadata": {},
   "outputs": [
    {
     "name": "stdout",
     "output_type": "stream",
     "text": [
      "PROTEINS\n",
      "Classical durations: 0:01:13.679939\n",
      "Quantum durations: 0:07:59.822974\n"
     ]
    }
   ],
   "source": [
    "# Get average durations\n",
    "\n",
    "classical_trials = []\n",
    "for embedder in [\"MLP-D\", \"MLP-2^D\", \"none\"]:\n",
    "    for fold in range(5):\n",
    "        classical_trials.extend(proteins_data[embedder][\"all_trials\"][fold])\n",
    "\n",
    "quantum_trials = []\n",
    "for embedder in [\"QFE-exp\", \"QFE-probs\"]:\n",
    "    for fold in range(5):\n",
    "        quantum_trials.extend(proteins_data[embedder][\"all_trials\"][fold])\n",
    "\n",
    "def get_duration(trial):\n",
    "    d = dt.datetime.strptime(trial[\"duration\"], \"%H:%M:%S.%f\")\n",
    "    return dt.timedelta(hours=d.hour, minutes=d.minute, seconds=d.second, microseconds=d.microsecond)\n",
    "\n",
    "classical_durations = np.array(list(map(get_duration, classical_trials)))\n",
    "quantum_durations = np.array(list(map(get_duration, quantum_trials)))\n",
    "\n",
    "print(\"PROTEINS\")\n",
    "print(\"Classical durations:\", classical_durations.mean())\n",
    "print(\"Quantum durations:\", quantum_durations.mean())"
   ]
  },
  {
   "cell_type": "code",
   "execution_count": 6,
   "metadata": {},
   "outputs": [
    {
     "name": "stdout",
     "output_type": "stream",
     "text": [
      "PROTEINS\n",
      "Classical durations: 0:01:24.707118\n",
      "Quantum durations: 0:03:18.084953\n"
     ]
    }
   ],
   "source": [
    "# Get average durations\n",
    "\n",
    "classical_trials = []\n",
    "for embedder in [\"MLP-D\", \"MLP-2^D\", \"none\"]:\n",
    "    for fold in range(5):\n",
    "        classical_trials.extend(enzymes_data[embedder][\"all_trials\"][fold])\n",
    "\n",
    "quantum_trials = []\n",
    "for embedder in [\"QFE-exp\", \"QFE-probs\"]:\n",
    "    for fold in range(5):\n",
    "        quantum_trials.extend(enzymes_data[embedder][\"all_trials\"][fold])\n",
    "\n",
    "def get_duration(trial):\n",
    "    d = dt.datetime.strptime(trial[\"duration\"], \"%H:%M:%S.%f\")\n",
    "    return dt.timedelta(hours=d.hour, minutes=d.minute, seconds=d.second, microseconds=d.microsecond)\n",
    "\n",
    "classical_durations = np.array(list(map(get_duration, classical_trials)))\n",
    "quantum_durations = np.array(list(map(get_duration, quantum_trials)))\n",
    "\n",
    "print(\"PROTEINS\")\n",
    "print(\"Classical durations:\", classical_durations.mean())\n",
    "print(\"Quantum durations:\", quantum_durations.mean())"
   ]
  }
 ],
 "metadata": {
  "kernelspec": {
   "display_name": "qfe_exp_venv",
   "language": "python",
   "name": "python3"
  },
  "language_info": {
   "codemirror_mode": {
    "name": "ipython",
    "version": 3
   },
   "file_extension": ".py",
   "mimetype": "text/x-python",
   "name": "python",
   "nbconvert_exporter": "python",
   "pygments_lexer": "ipython3",
   "version": "3.10.12"
  }
 },
 "nbformat": 4,
 "nbformat_minor": 2
}
