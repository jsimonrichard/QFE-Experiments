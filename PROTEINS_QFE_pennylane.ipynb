{
 "cells": [
  {
   "cell_type": "code",
   "execution_count": 69,
   "metadata": {},
   "outputs": [],
   "source": [
    "import pennylane as qml\n",
    "import torch\n",
    "import torch.nn.functional as F\n",
    "from torch_geometric.datasets import TUDataset\n",
    "from torch_geometric.loader import DataLoader\n",
    "from torch_geometric.nn import GCN\n",
    "from torch_geometric.nn import global_mean_pool\n",
    "from torch_geometric.utils import scatter\n",
    "import numpy as np\n",
    "import math\n",
    "from tqdm import tqdm\n",
    "import matplotlib.pyplot as plt"
   ]
  },
  {
   "cell_type": "code",
   "execution_count": 4,
   "metadata": {},
   "outputs": [
    {
     "name": "stderr",
     "output_type": "stream",
     "text": [
      "Downloading https://www.chrsmrrs.com/graphkerneldatasets/PROTEINS.zip\n",
      "Extracting /tmp/PROTEINS2/PROTEINS/PROTEINS.zip\n",
      "Processing...\n",
      "Done!\n"
     ]
    },
    {
     "data": {
      "text/plain": [
       "(3, 2, 1113)"
      ]
     },
     "execution_count": 4,
     "metadata": {},
     "output_type": "execute_result"
    }
   ],
   "source": [
    "ds = TUDataset(\"/tmp/PROTEINS2\", \"PROTEINS\")\n",
    "ds.num_features, ds.num_classes, len(ds)"
   ]
  },
  {
   "cell_type": "code",
   "execution_count": 177,
   "metadata": {},
   "outputs": [],
   "source": [
    "ds = ds.shuffle()\n",
    "break1 = int(len(ds) * 0.8)\n",
    "break2 = int(len(ds) * 0.9)\n",
    "training_data = ds[:break1]\n",
    "validation_data = ds[break1:break2]\n",
    "test_data = ds[break2:]\n",
    "training_loader = DataLoader(training_data, batch_size=2048, shuffle=True)\n",
    "validation_loader = DataLoader(validation_data, batch_size=128, shuffle=True)\n",
    "test_loader = DataLoader(test_data, batch_size=128, shuffle=True)"
   ]
  },
  {
   "cell_type": "code",
   "execution_count": 198,
   "metadata": {},
   "outputs": [],
   "source": [
    "def build_qfe_circuit(dev, n_qubits, n_layers):\n",
    "    @qml.qnode(dev, interface=\"torch\") #, diff_method=\"parameter-shift\")\n",
    "    def qfe_circuit(inputs, weights):\n",
    "        qml.templates.AngleEmbedding(inputs, wires=range(n_qubits))\n",
    "        qml.templates.StronglyEntanglingLayers(weights, wires=range(n_qubits))\n",
    "        return qml.probs(wires=range(n_qubits)) #qml.state() #[qml.expval(qml.PauliZ(i)) for i in range(n_qubits)]\n",
    "    \n",
    "    weight_shapes = {\"weights\": (n_layers, n_qubits, 3)}\n",
    "    return qml.qnn.TorchLayer(qfe_circuit, weight_shapes)\n",
    "\n",
    "class QFE(torch.nn.Module):\n",
    "    def __init__(self, in_features):\n",
    "        super().__init__()\n",
    "        self.wires = in_features\n",
    "        self.dev = qml.device(\"default.qubit\", wires=self.wires)\n",
    "        self.qfe = build_qfe_circuit(self.dev, self.wires, 2)\n",
    "    \n",
    "    def forward(self, x):\n",
    "        return self.qfe(x)"
   ]
  },
  {
   "cell_type": "code",
   "execution_count": 199,
   "metadata": {},
   "outputs": [],
   "source": [
    "class QFE_GCN(torch.nn.Module):\n",
    "    def __init__(self, in_features, out_features):\n",
    "        super().__init__()\n",
    "        # self.qfe = QFE(in_features)\n",
    "        # self.lin = torch.nn.Linear(in_features, 2**in_features)\n",
    "\n",
    "        self.gcn = GCN(\n",
    "            in_channels=in_features,\n",
    "            hidden_channels=64,\n",
    "            num_layers=4,\n",
    "            dropout = 0.1,\n",
    "            out_channels=out_features\n",
    "        )\n",
    "    \n",
    "    def forward(self, data):\n",
    "        x = data.x\n",
    "        # x = self.lin(x)\n",
    "        # x = self.qfe(x.to(device=\"cpu\")).to(device=x.device)\n",
    "\n",
    "        x = self.gcn(x, data.edge_index, batch=data.batch)\n",
    "        \n",
    "        # x = global_mean_pool(x, data.batch)\n",
    "        x = scatter(x, data.batch, dim=0, reduce=\"mean\")\n",
    "        x = F.log_softmax(x, dim=1)\n",
    "\n",
    "        # out = torch.zeros(data.num_graphs, 2, device=x.device)\n",
    "\n",
    "        # for i in range(data.num_graphs):\n",
    "        #     out[i] = x[data.batch == i].mean(dim=0)\n",
    "        \n",
    "        # out = F.log_softmax(out, dim=1)\n",
    "        # x = out\n",
    "        \n",
    "        return x"
   ]
  },
  {
   "cell_type": "code",
   "execution_count": 195,
   "metadata": {},
   "outputs": [
    {
     "name": "stderr",
     "output_type": "stream",
     "text": [
      "100%|██████████| 60/60 [00:02<00:00, 20.83it/s]\n"
     ]
    }
   ],
   "source": [
    "device = torch.device('cuda' if torch.cuda.is_available() else 'cpu')\n",
    "model = QFE_GCN(3, 2).to(device)\n",
    "optimizer = torch.optim.Adam(model.parameters(), lr=0.01, weight_decay=5e-4)\n",
    "\n",
    "losses = []\n",
    "\n",
    "model.train()\n",
    "for epoch in tqdm(range(60)):\n",
    "    epoch_losses = []\n",
    "    for batch in training_loader:\n",
    "        optimizer.zero_grad()\n",
    "        out = model(batch.to(device))\n",
    "        loss = F.cross_entropy(out, batch.y)\n",
    "        loss.backward()\n",
    "        epoch_losses.append(loss.detach().cpu())\n",
    "        optimizer.step()\n",
    "    losses.append(epoch_losses)"
   ]
  },
  {
   "cell_type": "code",
   "execution_count": 196,
   "metadata": {},
   "outputs": [
    {
     "data": {
      "text/plain": [
       "[<matplotlib.lines.Line2D at 0x7f9e80d9f2e0>]"
      ]
     },
     "execution_count": 196,
     "metadata": {},
     "output_type": "execute_result"
    },
    {
     "data": {
      "image/png": "[encoded data removed]",
      "text/plain": [
       "<Figure size 640x480 with 1 Axes>"
      ]
     },
     "metadata": {},
     "output_type": "display_data"
    }
   ],
   "source": [
    "avg_losses = [np.mean(losses[i]) for i in range(len(losses))]\n",
    "plt.plot(avg_losses)"
   ]
  },
  {
   "cell_type": "code",
   "execution_count": 197,
   "metadata": {},
   "outputs": [
    {
     "name": "stdout",
     "output_type": "stream",
     "text": [
      "tensor([1, 0, 0, 1, 1, 0, 1, 0, 0, 0, 1, 0, 0, 1, 0, 0, 0, 0, 0, 0, 1, 0, 0, 1,\n",
      "        1, 0, 0, 0, 1, 1, 0, 0, 1, 1, 0, 0, 1, 0, 0, 1, 1, 0, 0, 0, 0, 1, 1, 0,\n",
      "        0, 0, 0, 1, 1, 1, 0, 0, 0, 0, 1, 0, 0, 0, 0, 0, 1, 1, 0, 0, 0, 1, 1, 0,\n",
      "        0, 1, 0, 0, 1, 1, 0, 0, 0, 0, 1, 0, 0, 0, 1, 0, 0, 0, 0, 0, 1, 0, 1, 0,\n",
      "        0, 1, 0, 0, 1, 0, 0, 1, 1, 1, 0, 0, 1, 1, 1, 0], device='cuda:0')\n",
      "tensor([1, 0, 0, 1, 1, 0, 1, 1, 1, 0, 1, 1, 0, 1, 0, 1, 0, 0, 0, 0, 0, 0, 0, 1,\n",
      "        1, 0, 0, 0, 0, 1, 0, 0, 1, 0, 0, 1, 0, 0, 0, 0, 1, 0, 0, 0, 1, 1, 1, 0,\n",
      "        0, 0, 0, 0, 1, 1, 1, 1, 0, 1, 1, 0, 0, 1, 1, 0, 1, 1, 1, 0, 0, 1, 1, 1,\n",
      "        1, 1, 0, 1, 1, 1, 0, 0, 0, 1, 1, 1, 0, 0, 1, 0, 0, 1, 0, 0, 1, 0, 1, 0,\n",
      "        0, 1, 1, 0, 1, 0, 0, 1, 1, 1, 0, 0, 1, 1, 1, 0], device='cuda:0')\n",
      "\n",
      "Accuracy: 0.7767857313156128\n"
     ]
    }
   ],
   "source": [
    "model.eval()\n",
    "correct = 0\n",
    "total = 0\n",
    "for batch in test_loader:\n",
    "    out = model(batch.to(device))\n",
    "    print(out.argmax(dim=1)) \n",
    "    print(batch.y)\n",
    "    print()\n",
    "    correct += sum(out.argmax(dim=1) == batch.y)\n",
    "    total += len(batch.y)\n",
    "print(f\"Accuracy: {correct/total}\")"
   ]
  },
  {
   "cell_type": "code",
   "execution_count": null,
   "metadata": {},
   "outputs": [],
   "source": []
  }
 ],
 "metadata": {
  "kernelspec": {
   "display_name": "qugcn_venv",
   "language": "python",
   "name": "python3"
  },
  "language_info": {
   "codemirror_mode": {
    "name": "ipython",
    "version": 3
   },
   "file_extension": ".py",
   "mimetype": "text/x-python",
   "name": "python",
   "nbconvert_exporter": "python",
   "pygments_lexer": "ipython3",
   "version": "3.10.12"
  }
 },
 "nbformat": 4,
 "nbformat_minor": 2
}
