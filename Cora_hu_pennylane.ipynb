{
 "cells": [
  {
   "cell_type": "code",
   "execution_count": 10,
   "metadata": {},
   "outputs": [],
   "source": [
    "import pennylane as qml\n",
    "import torch\n",
    "import torch.nn.functional as F\n",
    "from torch_geometric.datasets import Planetoid\n",
    "import numpy as np\n",
    "import math\n",
    "from tqdm import tqdm\n",
    "import matplotlib.pyplot as plt"
   ]
  },
  {
   "cell_type": "code",
   "execution_count": 2,
   "metadata": {},
   "outputs": [
    {
     "data": {
      "text/plain": [
       "(140, 500, 1000)"
      ]
     },
     "execution_count": 2,
     "metadata": {},
     "output_type": "execute_result"
    }
   ],
   "source": [
    "dataset = Planetoid(\"/tmp/Cora\", \"Cora\", split=\"random\", num_train_per_class=int(140/7))\n",
    "(\n",
    "    dataset.train_mask.sum().item(),\n",
    "    dataset.val_mask.sum().item(),\n",
    "    dataset.test_mask.sum().item()\n",
    ")"
   ]
  },
  {
   "cell_type": "code",
   "execution_count": 11,
   "metadata": {},
   "outputs": [
    {
     "data": {
      "text/plain": [
       "torch.Size([2, 10556])"
      ]
     },
     "execution_count": 11,
     "metadata": {},
     "output_type": "execute_result"
    }
   ],
   "source": [
    "dataset.edge_index.shape"
   ]
  },
  {
   "cell_type": "code",
   "execution_count": 3,
   "metadata": {},
   "outputs": [],
   "source": [
    "# Implement API similar to torchquantum\n",
    "def op1_all_layers(op, wires):\n",
    "    weight_index = 0\n",
    "    for i in wires:\n",
    "        op(i, weight_index)\n",
    "        weight_index += 1\n",
    "    \n",
    "    return len(wires)\n",
    "\n",
    "def op2_all_layers(op, wires):\n",
    "    weight_index = 0\n",
    "    for i in range(1,len(wires)):\n",
    "        for j in range(len(wires)-i):\n",
    "            op(wires[j], wires[j+i], weight_index)\n",
    "            weight_index += 1\n",
    "    \n",
    "    return weight_index\n",
    "\n",
    "def q_layer(n_wires, weights, weight_index=0):\n",
    "    weight_index += op1_all_layers(lambda w, i: qml.RY(weights[i], wires=w), range(n_wires))\n",
    "    weight_index += op2_all_layers(lambda w1, w2, i: qml.CRY(weight_index+i, wires=[w1, w2]), range(n_wires))\n",
    "    weight_index += op1_all_layers(lambda w, i: qml.RY(weights[i+weight_index], wires=w), range(n_wires))\n",
    "\n",
    "    weight_index += op1_all_layers(lambda w, i: qml.RX(weights[i+weight_index], wires=w), range(n_wires))\n",
    "    weight_index += op2_all_layers(lambda w1, w2, i: qml.CRX(weight_index+i, wires=[w1, w2]), range(n_wires))\n",
    "    weight_index += op1_all_layers(lambda w, i: qml.RX(weights[i+weight_index], wires=w), range(n_wires))\n",
    "\n",
    "    # weight_index += op1_all_layers(lambda w, i: qml.RZ(weights[i+weight_index], wires=w), range(n_wires))\n",
    "    # weight_index += op2_all_layers(lambda w1, w2, i: qml.CRZ(weight_index+i, wires=[w1, w2]), range(n_wires))\n",
    "    # weight_index += op1_all_layers(lambda w, i: qml.RZ(weights[i+weight_index], wires=w), range(n_wires))\n",
    "\n",
    "    return weight_index\n",
    "\n",
    "def build_circuit(dev, n_wires, layers):\n",
    "    @qml.qnode(dev, interface=\"torch\")\n",
    "    def circuit(inputs, weights):\n",
    "        qml.templates.AmplitudeEmbedding(inputs, wires=range(n_wires), pad_with=0, normalize=True)\n",
    "\n",
    "        for i in range(layers):\n",
    "            q_layer(n_wires, weights[i])\n",
    "\n",
    "        return [qml.expval(qml.PauliZ(wires=i)) for i in range(n_wires)]\n",
    "\n",
    "    weight_shape = {\n",
    "        \"weights\": (layers, int(n_wires*6 + n_wires*(n_wires-1)*3/2),)\n",
    "    }\n",
    "\n",
    "    return qml.qnn.TorchLayer(circuit, weight_shape)\n",
    "\n",
    "\n",
    "class QuGCN(torch.nn.Module):\n",
    "    def __init__(self, in_features=1433, out_features=7, layers=8):\n",
    "        super().__init__()\n",
    "        self.wires = math.ceil(np.log2(in_features))\n",
    "        self.qml_layer = build_circuit(qml.device(\"default.qubit\", wires=self.wires), self.wires, layers)\n",
    "        self.fc = torch.nn.Linear(self.wires, out_features)\n",
    "    \n",
    "    def forward(self, x):\n",
    "        x = self.qml_layer(x)\n",
    "        x = self.fc(x)\n",
    "\n",
    "        return x\n"
   ]
  },
  {
   "cell_type": "code",
   "execution_count": 4,
   "metadata": {},
   "outputs": [],
   "source": [
    "class ClassicalModel(torch.nn.Module):\n",
    "    def __init__(self, in_features=1433, out_features=7, layers=8):\n",
    "        super().__init__()\n",
    "        self.fc1 = torch.nn.Linear(in_features, 16)\n",
    "        self.fc2 = torch.nn.Linear(16, out_features)\n",
    "    \n",
    "    def forward(self, x):\n",
    "        x = torch.relu(self.fc1(x))\n",
    "        x = self.fc2(x)\n",
    "\n",
    "        return x"
   ]
  },
  {
   "cell_type": "code",
   "execution_count": 5,
   "metadata": {},
   "outputs": [
    {
     "name": "stderr",
     "output_type": "stream",
     "text": [
      "100%|██████████| 200/200 [17:06<00:00,  5.13s/it]\n"
     ]
    }
   ],
   "source": [
    "model = QuGCN(in_features=dataset.num_features, out_features=dataset.num_classes, layers=8)\n",
    "data = dataset[0]\n",
    "optimizer = torch.optim.Adam(model.parameters(), lr=0.01, weight_decay=5e-4)\n",
    "\n",
    "losses = []\n",
    "\n",
    "model.train()\n",
    "for epoch in tqdm(range(200)):\n",
    "    optimizer.zero_grad()\n",
    "    out = model(data.x[data.train_mask])\n",
    "    loss = F.nll_loss(out, data.y[data.train_mask])\n",
    "    loss.backward()\n",
    "    losses.append(loss.detach())\n",
    "    optimizer.step()"
   ]
  },
  {
   "cell_type": "code",
   "execution_count": 6,
   "metadata": {},
   "outputs": [
    {
     "ename": "",
     "evalue": "",
     "output_type": "error",
     "traceback": [
      "\u001b[1;31mThe Kernel crashed while executing code in the the current cell or a previous cell. Please review the code in the cell(s) to identify a possible cause of the failure. Click <a href='https://aka.ms/vscodeJupyterKernelCrash'>here</a> for more info. View Jupyter <a href='command:jupyter.viewOutput'>log</a> for further details."
     ]
    }
   ],
   "source": [
    "del loss, optimizer, out\n",
    "\n",
    "data = dataset[0].subgraph(dataset.test_mask).subgraph(torch.tensor(range(n_nodes)))\n",
    "\n",
    "model.eval()\n",
    "pred = model(data.x).argmax(dim=1)\n",
    "correct = (pred == data.y).sum()\n",
    "acc = int(correct) / int(data.test_mask.sum())\n",
    "print(f'Accuracy: {acc:.4f}')"
   ]
  },
  {
   "cell_type": "code",
   "execution_count": 8,
   "metadata": {},
   "outputs": [],
   "source": [
    "data = dataset[0].subgraph(dataset.test_mask).subgraph(torch.tensor(range(32)))"
   ]
  },
  {
   "cell_type": "code",
   "execution_count": 9,
   "metadata": {},
   "outputs": [
    {
     "data": {
      "text/plain": [
       "torch.Size([32, 1433])"
      ]
     },
     "execution_count": 9,
     "metadata": {},
     "output_type": "execute_result"
    }
   ],
   "source": [
    "data.x.shape"
   ]
  },
  {
   "cell_type": "code",
   "execution_count": null,
   "metadata": {},
   "outputs": [
    {
     "data": {
      "text/plain": [
       "[<matplotlib.lines.Line2D at 0x7f61f024a920>]"
      ]
     },
     "execution_count": 9,
     "metadata": {},
     "output_type": "execute_result"
    },
    {
     "data": {
      "image/png": "[encoded data removed]",
      "text/plain": [
       "<Figure size 640x480 with 1 Axes>"
      ]
     },
     "metadata": {},
     "output_type": "display_data"
    }
   ],
   "source": [
    "plt.plot(losses)"
   ]
  },
  {
   "cell_type": "code",
   "execution_count": null,
   "metadata": {},
   "outputs": [],
   "source": []
  }
 ],
 "metadata": {
  "kernelspec": {
   "display_name": "qugcn_venv",
   "language": "python",
   "name": "qugcn_venv"
  },
  "language_info": {
   "codemirror_mode": {
    "name": "ipython",
    "version": 3
   },
   "file_extension": ".py",
   "mimetype": "text/x-python",
   "name": "python",
   "nbconvert_exporter": "python",
   "pygments_lexer": "ipython3",
   "version": "3.10.12"
  }
 },
 "nbformat": 4,
 "nbformat_minor": 4
}
